{
 "cells": [
  {
   "cell_type": "code",
   "execution_count": 1,
   "metadata": {
    "collapsed": false
   },
   "outputs": [
    {
     "name": "stdout",
     "output_type": "stream",
     "text": [
      "Populating the interactive namespace from numpy and matplotlib\n"
     ]
    }
   ],
   "source": [
    "%pylab tk"
   ]
  },
  {
   "cell_type": "code",
   "execution_count": 110,
   "metadata": {
    "collapsed": false
   },
   "outputs": [],
   "source": [
    "from scipy import ndimage\n",
    "from skimage.morphology import watershed, closing, square, disk, reconstruction, binary_closing, erosion\n",
    "from skimage.segmentation import mark_boundaries, join_segmentations, relabel_sequential, slic, felzenszwalb, random_walker\n",
    "from skimage.feature import peak_local_max, corner_peaks, canny\n",
    "from skimage.io import imread\n",
    "from skimage.filters import gaussian_filter, threshold_otsu, threshold_isodata, threshold_adaptive, threshold_yen, sobel\n",
    "from skimage.exposure import adjust_log, adjust_sigmoid, adjust_gamma, equalize_hist, equalize_adapthist, rescale_intensity\n",
    "from skimage.measure import regionprops, label\n",
    "from skimage.color import label2rgb, rgb2gray\n",
    "from skimage.transform import hough_circle\n",
    "from skimage.filters.rank import entropy, mean_bilateral, gradient\n",
    "from skimage.restoration import denoise_bilateral\n",
    "from skimage.measure import find_contours, approximate_polygon, subdivide_polygon\n",
    "from skimage.draw import line, set_color\n",
    "import time\n",
    "import pickle\n",
    "\n",
    "from matplotlib.cbook import CallbackRegistry\n",
    "\n",
    "from sklearn.grid_search import GridSearchCV\n",
    "from sklearn import svm\n",
    "from sklearn.ensemble import RandomForestClassifier\n",
    "from sklearn.tree import DecisionTreeClassifier\n",
    "from sklearn.neighbors import KNeighborsClassifier\n",
    "from sklearn import linear_model\n",
    "from sklearn.mixture import GMM\n",
    "from sklearn import cross_validation"
   ]
  },
  {
   "cell_type": "code",
   "execution_count": 105,
   "metadata": {
    "collapsed": false
   },
   "outputs": [],
   "source": [
    "def scatter_plot(x, y, xlabel='', ylabel='', xlim=None, ylim=None, colors = None, alpha=1, s=10):\n",
    "    clf()\n",
    "    if xlim is None: x1,x2 = x.min(), x.max()*1.1\n",
    "    else: x1,x2 = xlim[0], xlim[1]\n",
    "        \n",
    "    if ylim is None: y1,y2 = y.min(), y.max()*1.1\n",
    "    else: y1,y2 = ylim[0], ylim[1]\n",
    "        \n",
    "    nullfmt   = NullFormatter()         # no labels\n",
    "\n",
    "    # definitions for the axes\n",
    "    left, width = 0.1, 0.65\n",
    "    bottom, height = 0.1, 0.65\n",
    "    bottom_h = left_h = left+width+0.02\n",
    "    rect_scatter = [left, bottom, width, height]\n",
    "    rect_histx = [left, bottom_h, width, 0.2]\n",
    "    rect_histy = [left_h, bottom, 0.2, height]\n",
    "    # start with a rectangular Figure\n",
    "    plt.figure(1, figsize=(8,8))\n",
    "    axScatter = plt.axes(rect_scatter)\n",
    "    axHistx = plt.axes(rect_histx)\n",
    "    axHisty = plt.axes(rect_histy)\n",
    "    # no labels\n",
    "    axHistx.xaxis.set_major_formatter(nullfmt)\n",
    "    axHisty.yaxis.set_major_formatter(nullfmt)\n",
    "\n",
    "    # the scatter plot:\n",
    "    if colors is None: axScatter.scatter(x, y, alpha=alpha)\n",
    "    else: axScatter.scatter(x, y, c=colors, alpha=alpha, linewidths=0.0, s=s)\n",
    "\n",
    "    # now determine nice limits by hand:\n",
    "    binwidth = 0.25\n",
    "    xymax = np.max( [np.max(np.fabs(x)), np.max(np.fabs(y))] )\n",
    "    lim = ( int(xymax/binwidth) + 1) * binwidth\n",
    "\n",
    "    axScatter.set_xlim( (x1, x2) )\n",
    "    axScatter.set_ylim( (y1, y2) )\n",
    "\n",
    "    bins = 50\n",
    "    axHistx.hist(x, bins=bins, range=(x1,x2))\n",
    "    axHisty.hist(y, bins=bins, orientation='horizontal', range=(y1,y2))\n",
    "    axHistx.set_xlim( axScatter.get_xlim() )\n",
    "    axHisty.set_ylim( axScatter.get_ylim() )\n",
    "    axScatter.set_xlabel(xlabel)\n",
    "    axScatter.set_ylabel(ylabel)\n",
    "    draw()\n",
    "def is_number(s):\n",
    "    try:\n",
    "        float(s)\n",
    "        return True\n",
    "    except ValueError:\n",
    "        return False\n",
    "    \n",
    "def point_in_poly(x,y,poly):\n",
    "\n",
    "    n = len(poly)\n",
    "    inside = False\n",
    "\n",
    "    p1x,p1y = poly[0]\n",
    "    for i in range(n+1):\n",
    "        p2x,p2y = poly[i % n]\n",
    "        if y > min(p1y,p2y):\n",
    "            if y <= max(p1y,p2y):\n",
    "                if x <= max(p1x,p2x):\n",
    "                    if p1y != p2y:\n",
    "                        xints = (y-p1y)*(p2x-p1x)/(p2y-p1y)+p1x\n",
    "                    if p1x == p2x or x <= xints:\n",
    "                        inside = not inside\n",
    "        p1x,p1y = p2x,p2y\n",
    "\n",
    "    return inside"
   ]
  },
  {
   "cell_type": "code",
   "execution_count": 169,
   "metadata": {
    "collapsed": false
   },
   "outputs": [],
   "source": [
    "class ImageCounter:\n",
    "    '''a class to train and apply counting on images'''\n",
    "    def __init__(self, images):\n",
    "        self.training_labels = []\n",
    "        self.training_images = images\n",
    "        self.training_description = self.describe(self.training_images)\n",
    "        self.training_dimensions = (self.training_images[0][0].shape[0], self.training_images[0][0].shape[1])\n",
    "        self.cls = None\n",
    "        self.training = None\n",
    "        self.classifications = None\n",
    "    \n",
    "    ############\n",
    "    def shadow_finder(self, image, g=2):\n",
    "        seed = copy(image)\n",
    "        seed[1:-1, 1:-1] = image.max()\n",
    "        diff = reconstruction(seed, image, method='erosion')-image\n",
    "        binary = diff>0\n",
    "        res = label(binary)\n",
    "        res[where(res>0)] = 1\n",
    "        res = res - binary\n",
    "        return gaussian_filter(res.astype(float32), g)\n",
    "    \n",
    "    def peak_finder_set(self, image, start=0, stop=7):\n",
    "        seed = copy(image)\n",
    "        seed[1:-1, 1:-1] = image.min()\n",
    "        diff = image-reconstruction(seed, image, method='dilation')\n",
    "        return [gaussian_filter(diff, i) for i in range(0,7,1)]\n",
    "    \n",
    "    def valley_finder(self, image, start=0, stop=1):\n",
    "        seed = np.copy(image)\n",
    "        seed[1:-1, 1:-1] = image.max()\n",
    "        return reconstruction(seed, image, method='erosion')-image\n",
    "    \n",
    "    def dog_set(self, image, start, stop):\n",
    "        return [equalize_adapthist(gaussian_filter(image, i) - gaussian_filter(image, i+1)) for i in range(start, stop)]\n",
    "    ##############\n",
    "    \n",
    "    def describe(self, images):\n",
    "        self.training_labels=[]\n",
    "        des = []\n",
    "        \n",
    "        for image, typ in images:\n",
    "            image = rgb2gray(image)\n",
    "            if typ == 'fl':\n",
    "                image = denoise_bilateral(image)\n",
    "                image = equalize_adapthist(image)\n",
    "                \n",
    "                des = des + [image, sobel(image)]\n",
    "                self.training_labels = self.training_labels + ['fluor', 'flsobel']\n",
    "                \n",
    "                des = des + self.dog_set(image, 1, 6)\n",
    "                self.training_labels = self.training_labels +['fldog%d'%(i) for i in range(1,6)]\n",
    "\n",
    "            elif typ == 'bf':\n",
    "                res = self.shadow_finder(image)\n",
    "                \n",
    "                image = equalize_adapthist(image)\n",
    "                image = denoise_bilateral(image)\n",
    "                image = mean_bilateral(image, disk(10))\n",
    "                \n",
    "                des = des + self.peak_finder_set(image, 0, 7)\n",
    "                self.training_labels = self.training_labels + ['peak rec %d'%(i) for i in range(0,7,1)]\n",
    "\n",
    "                des = des + [sobel(image), res]\n",
    "                self.training_labels = self.training_labels + ['sobel', 'valley']\n",
    "\n",
    "                im_gaussian = [gaussian_filter(image, i) for i in range(0,7,1)]\n",
    "                self.training_labels = self.training_labels + ['gauss %d'%(i) for i in range(0,7,1)]\n",
    "                des = des + im_gaussian\n",
    "\n",
    "                des = des + [self.valley_finder(a) for a in im_gaussian[0:1]]\n",
    "                self.training_labels.append('valleys')\n",
    "\n",
    "                des = des + self.dog_set(image, 3, 9)\n",
    "                self.training_labels = self.training_labels + ['dog %d'%(i) for i in arange(3,9,1)]\n",
    "            \n",
    "        des = array(des)\n",
    "        descriptors = des.reshape(des.shape[0],-1).transpose()\n",
    "        return descriptors\n",
    "    \n",
    "    def get_imdex(self, x, y, dims):\n",
    "        return int(y*dims[1] + x)\n",
    "    \n",
    "    def train(self, keys, classifications):\n",
    "        training = [self.training_description[self.get_imdex(j[1], j[0], self.training_dimensions)] for j in keys]\n",
    "        self.training = training\n",
    "        self.classifications = classifications\n",
    "        self.cls = RandomForestClassifier(n_jobs=-1, n_estimators=50)#KNeighborsClassifier()##svm.SVC(probability=True)\n",
    "        self.cls.fit(training, classifications)\n",
    "        \n",
    "    def retrain(self):\n",
    "        self.cls.fit(self.training, self.classifications)\n",
    "        \n",
    "    def get_cls(self):\n",
    "        return self.cls\n",
    "    \n",
    "    def set_cls(self, s):\n",
    "        self.cls = s\n",
    "        \n",
    "    def training_predict(self):\n",
    "        if self.cls is None: return\n",
    "        linear_prediction = self.cls.predict_proba(self.training_description)\n",
    "        return linear_prediction[:,0].reshape((self.training_images[0][0].shape[0], self.training_images[0][0].shape[1]))\n",
    "    \n",
    "    def training_segment(self):\n",
    "        if self.cls is None: return\n",
    "        linear_prediction = self.cls.predict(self.training_description)\n",
    "        return linear_prediction.reshape((self.training_images[0][0].shape[0], self.training_images[0][0].shape[1]))\n",
    "    \n",
    "    def segment(self, images):\n",
    "        if self.cls is None: return\n",
    "        linear_prediction = self.cls.predict(self.describe(images))\n",
    "        return linear_prediction.reshape((images[0][0].shape[0], images[0][0].shape[1]))\n",
    "    \n",
    "    def predict(self, images):\n",
    "        if self.cls is None: return\n",
    "        linear_prediction = self.cls.predict_proba(self.describe(images))\n",
    "        return linear_prediction[:,0].reshape((images[0][0].shape[0], images[0][0].shape[1]))\n",
    "    \n",
    "    def count(self, image, flimage=None):\n",
    "        r = 3\n",
    "        a, b = r, r\n",
    "        n = 2*a+1\n",
    "        y,x = np.ogrid[-a:n-a, -b:n-b]\n",
    "        mask = x*x + y*y <= r*r\n",
    "        prediction = self.predict(image, flimage=flimage)\n",
    "        prediction = gaussian_filter(prediction, 1)\n",
    "        local_maxi = peak_local_max(prediction, indices=False, exclude_border=False, footprint=mask)\n",
    "        markers = ndimage.label(local_maxi)[0]\n",
    "        return markers.max()\n",
    "    \n",
    "        '''labs = label(results)\n",
    "        a=regionprops(labs)\n",
    "        for b in a:\n",
    "            sli=b.image.astype(int8)\n",
    "            c=b.bbox\n",
    "            padsize=3\n",
    "            pad = zeros((sli.shape[0]+padsize*2, sli.shape[1]+padsize*2))\n",
    "            pad[padsize:-padsize, padsize:-padsize] = sli\n",
    "            pad=binary_closing(pad, square(3))\n",
    "            labs[c[0]:c[2], c[1]:c[3]][where(pad[padsize:-padsize, padsize:-padsize]>0)] = 1\n",
    "        results = labs'''\n",
    "        \n",
    "class ImageSelector:\n",
    "    def __init__(self, fig1, fig2, counter):\n",
    "        #figure things out with figures\n",
    "        self.fig1=fig1\n",
    "        fig1.clf()\n",
    "        self.fig2 = fig2\n",
    "        fig2.clf()\n",
    "        self.ax1 = fig1.add_subplot(121) \n",
    "        self.ax2 = fig1.add_subplot(122, sharex=self.ax1, sharey=self.ax1)\n",
    "        self.ax3 = fig2.add_subplot(111)\n",
    "        self.counter = counter\n",
    "        self.image = counter.training_images[0][0]\n",
    "        \n",
    "        #connect events\n",
    "        self.fig1.canvas.mpl_connect(\"key_press_event\", self.key)\n",
    "        self.fig1.canvas.mpl_connect('button_press_event', self.button)\n",
    "        \n",
    "        self.vertices = []\n",
    "        self.mode = 'cell'\n",
    "        self.image_shape = (self.image.shape[0], self.image.shape[1])\n",
    "        self.mask = zeros(self.image_shape)\n",
    "        self.ax1.set_title(self.mode)\n",
    "        self.path, = self.ax1.plot([],[],'o-',lw=3)\n",
    "        \n",
    "        #show the images\n",
    "        self.cell_image = self.ax1.imshow(label2rgb(self.mask, self.image, bg_label=0), interpolation='nearest')\n",
    "        self.seg_image = self.ax2.imshow(self.image, interpolation='nearest')\n",
    "        \n",
    "        self.draw()\n",
    "        \n",
    "    def draw(self):\n",
    "        self.fig1.canvas.draw()\n",
    "        self.fig2.canvas.draw()\n",
    "        show()\n",
    "        \n",
    "    def showax1(self):\n",
    "        self.cell_image.set_data(label2rgb(self.mask, self.image, bg_label=0, alpha=0.2))\n",
    "        self.draw()\n",
    "        \n",
    "    def showax2(self, im):\n",
    "        self.seg_image.set_data(label2rgb(im, self.image, bg_label=0, alpha=0.1))\n",
    "        self.draw()\n",
    "        \n",
    "    def key(self, event):\n",
    "        if event.key == 'u':\n",
    "            self.train()\n",
    "        elif event.key==' ': \n",
    "            self.mode = 'cell'\n",
    "            self.ax1.set_title(self.mode)\n",
    "            self.draw()\n",
    "        elif event.key=='b': \n",
    "            self.mode = 'background'\n",
    "            self.ax1.set_title(self.mode)\n",
    "            self.draw()\n",
    "    \n",
    "    def button(self, event):\n",
    "        if not event.inaxes or plt.get_current_fig_manager().toolbar.mode != '': return\n",
    "        \n",
    "        if event.button == 1:\n",
    "            x,y = int(round(event.xdata)), int(round(event.ydata))\n",
    "            self.vertices.append((x,y))\n",
    "            self.update_lines()\n",
    "        if event.button==2:\n",
    "            if len(self.vertices) > 0: \n",
    "                self.vertices.pop()\n",
    "                self.update_lines()\n",
    "        if event.button==3:\n",
    "            if len(self.vertices) > 0:\n",
    "                if self.mode=='cell': self.vertices.append(self.vertices[0])\n",
    "                self.update_mask()\n",
    "            \n",
    "    def update_lines(self):\n",
    "        x = [i[0] for i in self.vertices]\n",
    "        y = [i[1] for i in self.vertices]\n",
    "        self.path.set_data(x,y)\n",
    "        self.draw()\n",
    "        \n",
    "    def update_mask(self):\n",
    "        marker_color = 1\n",
    "        \n",
    "        if self.mode == 'cell':\n",
    "            marker_color = 2\n",
    "            vlist = array(self.vertices)\n",
    "            xmin, xmax, ymin, ymax = vlist[:,0].min(), vlist[:,0].max(), vlist[:,1].min(), vlist[:,1].max()\n",
    "            for x in range(xmin, xmax+1):\n",
    "                for y in range(ymin, ymax+1):\n",
    "                    if point_in_poly(x, y, vlist):\n",
    "                        self.mask[y,x]=3\n",
    "        \n",
    "        if len(self.vertices) > 1:\n",
    "            for a,b in zip(self.vertices[:-1], self.vertices[1:]):\n",
    "                set_color(self.mask, line(a[1], a[0], b[1], b[0]), marker_color)\n",
    "        \n",
    "        \n",
    "            \n",
    "        self.vertices = []\n",
    "        self.showax1()\n",
    "        \n",
    "    def train(self):\n",
    "        points = argwhere(self.mask > 0).tolist()\n",
    "        classifications = self.mask[self.mask > 0].tolist()\n",
    "        self.counter.train(points, classifications)\n",
    "        results = counter.training_segment()\n",
    "        \n",
    "        \n",
    "        self.ax3.cla()\n",
    "        self.ax3.plot(self.counter.cls.feature_importances_, 'o-')\n",
    "        self.ax3.set_xticks(range(0,len(self.counter.training_labels)))\n",
    "        self.ax3.set_xticklabels(self.counter.training_labels, rotation='vertical')\n",
    "        self.ax3.grid()\n",
    "        \n",
    "        self.showax2(results)"
   ]
  },
  {
   "cell_type": "code",
   "execution_count": 170,
   "metadata": {
    "collapsed": false
   },
   "outputs": [],
   "source": [
    "f1=figure(1)\n",
    "f2=figure(2)\n",
    "k=ImageSelector(f1,f2, counter)"
   ]
  },
  {
   "cell_type": "code",
   "execution_count": 163,
   "metadata": {
    "collapsed": false
   },
   "outputs": [],
   "source": [
    "counter = ImageCounter([(imbf, 'bf'), (imctr, 'fl'), (imtc, 'fl')])"
   ]
  },
  {
   "cell_type": "code",
   "execution_count": 171,
   "metadata": {
    "collapsed": false
   },
   "outputs": [],
   "source": [
    "res=k.counter.training_segment()"
   ]
  },
  {
   "cell_type": "code",
   "execution_count": 193,
   "metadata": {
    "collapsed": false
   },
   "outputs": [
    {
     "ename": "NameError",
     "evalue": "name 'erode' is not defined",
     "output_type": "error",
     "traceback": [
      "\u001b[1;31m---------------------------------------------------------------------------\u001b[0m",
      "\u001b[1;31mNameError\u001b[0m                                 Traceback (most recent call last)",
      "\u001b[1;32m<ipython-input-193-3045a217e37a>\u001b[0m in \u001b[0;36m<module>\u001b[1;34m()\u001b[0m\n\u001b[0;32m     16\u001b[0m \u001b[1;33m\u001b[0m\u001b[0m\n\u001b[0;32m     17\u001b[0m \u001b[0msubplot\u001b[0m\u001b[1;33m(\u001b[0m\u001b[1;36m121\u001b[0m\u001b[1;33m)\u001b[0m\u001b[1;33m\u001b[0m\u001b[0m\n\u001b[1;32m---> 18\u001b[1;33m \u001b[0mimshow\u001b[0m\u001b[1;33m(\u001b[0m\u001b[0merode\u001b[0m\u001b[1;33m(\u001b[0m\u001b[0msel2\u001b[0m\u001b[1;33m)\u001b[0m\u001b[1;33m)\u001b[0m\u001b[1;33m\u001b[0m\u001b[0m\n\u001b[0m\u001b[0;32m     19\u001b[0m \u001b[1;33m\u001b[0m\u001b[0m\n\u001b[0;32m     20\u001b[0m \u001b[0msubplot\u001b[0m\u001b[1;33m(\u001b[0m\u001b[1;36m122\u001b[0m\u001b[1;33m)\u001b[0m\u001b[1;33m\u001b[0m\u001b[0m\n",
      "\u001b[1;31mNameError\u001b[0m: name 'erode' is not defined"
     ]
    }
   ],
   "source": [
    "figure(1)\n",
    "clf()\n",
    "sel=res[500:700, 350:550]\n",
    "sel2 = sel.copy()\n",
    "sel3=sel.copy()\n",
    "\n",
    "sel3[sel<2] = 0\n",
    "sel3[sel>=2] = 1\n",
    "\n",
    "sel2[sel<3] = 0\n",
    "dt = ndimage.distance_transform_edt(sel2)\n",
    "\n",
    "local_maxi = peak_local_max(dt, indices=False, footprint=disk(5), labels=sel3)\n",
    "markers = ndimage.label(local_maxi)[0]\n",
    "labels = watershed(-dt, markers, mask=sel3)\n",
    "\n",
    "subplot(121)\n",
    "imshow((sel2))\n",
    "\n",
    "subplot(122)\n",
    "imshow(labels)\n",
    "\n",
    "show()"
   ]
  },
  {
   "cell_type": "code",
   "execution_count": 160,
   "metadata": {
    "collapsed": false
   },
   "outputs": [
    {
     "data": {
      "text/plain": [
       "<matplotlib.image.AxesImage at 0x2558b518>"
      ]
     },
     "execution_count": 160,
     "metadata": {},
     "output_type": "execute_result"
    }
   ],
   "source": [
    "figure(3)\n",
    "clf()\n",
    "imshow(res)"
   ]
  },
  {
   "cell_type": "code",
   "execution_count": null,
   "metadata": {
    "collapsed": true
   },
   "outputs": [],
   "source": [
    "#figure 1 will show the image\n",
    "fig = figure(1)\n",
    "clf()\n",
    "ax1 = subplot(1,2,1)\n",
    "ax1.imshow(imbf, cmap='bone', interpolation='nearest')\n",
    "ax2 = subplot(1,2,2, sharex=ax1, sharey=ax1)\n",
    "ax2.imshow(immerg, cmap='bone', interpolation='nearest')\n",
    "show()\n",
    "\n",
    "#figure 2 will show counting results\n",
    "fig2=figure(2)\n",
    "ax3=subplot(1,1,1)\n",
    "show()\n",
    "\n",
    "vertices = []\n",
    "classification_map = zeros(imbf.shape)\n",
    "\n",
    "pts1, pts2, settings = None, None, None\n",
    "mode = 'cell' #or background\n",
    "def onclick(event):\n",
    "    global \n",
    "    #return of we're not in the axes\n",
    "    if not event.inaxes: return\n",
    "    \n",
    "    #add a point to the mask\n",
    "    if event.button == 1:\n",
    "        x,y = int(round(event.xdata)), int(round(event.ydata))\n",
    "        \n",
    "    #tie off the path and add to mask\n",
    "    elif event.button==3:\n",
    "        pass\n",
    "    \n",
    "def onkey(event):\n",
    "    global pts1, pts2\n",
    "    if event.key = 'c':\n",
    "        mode = 'cell'\n",
    "    elif event.key = 'b':\n",
    "        mode = 'background'\n",
    "\n",
    "\n",
    "    elif event.key == 'u':\n",
    "        print 'pressed u'\n",
    "        settings = (ax1.get_xlim(), ax1.get_ylim())\n",
    "        training = points\n",
    "        classes = [int(i) for i in classifications]\n",
    "\n",
    "        counter.train(training, classes)\n",
    "\n",
    "        results = counter.training_segment()\n",
    "\n",
    "\n",
    "        ax2.cla()\n",
    "        pts5=None\n",
    "        ax2.imshow(label2rgb(results, image=imbf, bg_label = 0), interpolation='nearest')\n",
    "\n",
    "        ax2.set_xlim(settings[0])\n",
    "        ax2.set_ylim(settings[1])\n",
    "\n",
    "\n",
    "        ax3.cla()\n",
    "        ax3.plot(counter.cls.feature_importances_, 'o-')\n",
    "        ax3.set_xticks(range(0,len(counter.training_labels)))\n",
    "        ax3.set_xticklabels(counter.training_labels, rotation='vertical')\n",
    "        ax3.grid()\n",
    "\n",
    "        fig2.canvas.draw()\n",
    "        fig.canvas.draw()\n",
    "\n",
    "pid = fig.canvas.mpl_connect(\"key_press_event\", onkey)\n",
    "cid = fig.canvas.mpl_connect(\"button_press_event\", onclick)\n",
    "#tight_layout()\n",
    "show()"
   ]
  },
  {
   "cell_type": "code",
   "execution_count": 6,
   "metadata": {
    "collapsed": false
   },
   "outputs": [
    {
     "name": "stderr",
     "output_type": "stream",
     "text": [
      "/Users/richardkwant/Library/Enthought/Canopy_64bit/User/lib/python2.7/site-packages/skimage/util/dtype.py:107: UserWarning: Possible precision loss when converting from float64 to uint16\n",
      "  \"%s to %s\" % (dtypeobj_in, dtypeobj))\n"
     ]
    }
   ],
   "source": [
    "figure(1)\n",
    "clf()\n",
    "\n",
    "ax=subplot(131)\n",
    "imshow(imtc+imctr)\n",
    "\n",
    "subplot(132, sharex=ax, sharey=ax)\n",
    "imshow(imbf)\n",
    "\n",
    "subplot(133, sharex=ax, sharey=ax)\n",
    "res=rgb2gray(equalize_adapthist(imtc))-rgb2gray(equalize_adapthist(imctr))\n",
    "res=sobel(res)\n",
    "\n",
    "#imshow(immerg)\n",
    "imshow(res)\n",
    "\n",
    "tight_layout()\n",
    "show()"
   ]
  },
  {
   "cell_type": "markdown",
   "metadata": {},
   "source": [
    "# make the classifier"
   ]
  },
  {
   "cell_type": "code",
   "execution_count": null,
   "metadata": {
    "collapsed": true
   },
   "outputs": [],
   "source": [
    "#path='/Users/richardkwant/Documents/Berkeley/rkwant/Notebook_Pages/Pages/5-079/'\n",
    "path='C:\\\\Users\\\\rkwant\\\\Documents\\\\Berkeley\\\\rkwant\\\\Notebook_Pages\\\\Pages\\\\5-079\\\\'\n",
    "image=imread(path+'SAV1.tif')\n",
    "x,y,z=image.shape\n",
    "\n",
    "sel = 1024\n",
    "imbf = image[x/2+1:,:y/2][:sel,sel:]\n",
    "imtc = image[:x/2,:y/2][:sel,sel:]\n",
    "imctr = image[:x/2,y/2+1:][:sel,sel:]\n",
    "immerg = image[x/2+1:, y/2+1:][:sel,sel:]"
   ]
  },
  {
   "cell_type": "code",
   "execution_count": 6,
   "metadata": {
    "collapsed": false
   },
   "outputs": [
    {
     "name": "stderr",
     "output_type": "stream",
     "text": [
      "C:\\Users\\rkwant\\AppData\\Local\\Enthought\\Canopy\\User\\lib\\site-packages\\skimage\\util\\dtype.py:107: UserWarning: Possible precision loss when converting from float64 to uint16\n",
      "  \"%s to %s\" % (dtypeobj_in, dtypeobj))\n",
      "C:\\Users\\rkwant\\AppData\\Local\\Enthought\\Canopy\\User\\lib\\site-packages\\skimage\\util\\dtype.py:107: UserWarning: Possible precision loss when converting from float64 to uint8\n",
      "  \"%s to %s\" % (dtypeobj_in, dtypeobj))\n"
     ]
    }
   ],
   "source": [
    "counter = ImageCounter([(imbf, 'bf'), (imctr, 'fl'), (imtc, 'fl')])"
   ]
  },
  {
   "cell_type": "markdown",
   "metadata": {},
   "source": [
    "## pts1"
   ]
  },
  {
   "cell_type": "code",
   "execution_count": 12,
   "metadata": {
    "collapsed": false
   },
   "outputs": [],
   "source": [
    "if False:\n",
    "    with open(path+'inpoints.dat', 'wb') as f:\n",
    "        pickle.dump(inpoints, f)\n",
    "    with open(path+'outpoints.dat', 'wb') as f:\n",
    "        pickle.dump(outpoints, f)"
   ]
  },
  {
   "cell_type": "code",
   "execution_count": 14,
   "metadata": {
    "collapsed": true
   },
   "outputs": [],
   "source": [
    "counter = ImageCounter([(imbf, 'bf'), (imctr, 'fl'), (imtc, 'fl')])\n",
    "training = inpoints+outpoints\n",
    "classes = [0 for i in range(0, len(inpoints))] + [1 for i in range(0, len(outpoints))]    \n",
    "counter.train(training, classes)"
   ]
  },
  {
   "cell_type": "code",
   "execution_count": 57,
   "metadata": {
    "collapsed": false
   },
   "outputs": [],
   "source": [
    "clf = RandomForestClassifier(n_estimators=50)\n",
    "scores = cross_validation.cross_val_score(clf, counter.training, counter.classifications, cv=25)"
   ]
  },
  {
   "cell_type": "code",
   "execution_count": 58,
   "metadata": {
    "collapsed": false
   },
   "outputs": [
    {
     "data": {
      "text/plain": [
       "0.96898039215686282"
      ]
     },
     "execution_count": 58,
     "metadata": {},
     "output_type": "execute_result"
    }
   ],
   "source": [
    "scores.mean()"
   ]
  },
  {
   "cell_type": "code",
   "execution_count": 8,
   "metadata": {
    "collapsed": false
   },
   "outputs": [
    {
     "name": "stdout",
     "output_type": "stream",
     "text": [
      "\n"
     ]
    }
   ],
   "source": [
    "#save the classifier\n",
    "counter.training_description = None\n",
    "counter.training_image = None\n",
    "counter.training = None\n",
    "counter.classifications = None\n",
    "f=open(path+'Burke1_segmenter_rkmb_20150322.pickle', 'wb')\n",
    "pickle.dump(counter, f)\n",
    "f.close()"
   ]
  },
  {
   "cell_type": "code",
   "execution_count": 6,
   "metadata": {
    "collapsed": false
   },
   "outputs": [],
   "source": [
    "f=open(path+'Burke1_class_segmenter_rkmb_20150312.pickle', 'rb')\n",
    "counter = pickle.load(f)"
   ]
  },
  {
   "cell_type": "code",
   "execution_count": 144,
   "metadata": {
    "collapsed": false
   },
   "outputs": [],
   "source": [
    "#print out images with counting ticks\n",
    "fname='SAV1'\n",
    "image=imread(path+fname+'.tif')\n",
    "x,y,z=image.shape\n",
    "\n",
    "sel = 1024\n",
    "imbf = image[x/2+1:,:y/2][:sel,sel:]\n",
    "imtc = image[:x/2,:y/2][:sel,sel:]\n",
    "imctr = image[:x/2,y/2+1:][:sel,sel:]\n",
    "immerg = image[x/2+1:, y/2+1:][:sel,sel:]\n",
    "\n",
    "results = 1-counter.segment([(imbf, 'bf'), (imctr, 'fl'), (imtc, 'fl')])\n",
    "labs = label(results, background=0)\n",
    "a=regionprops(labs)\n",
    "for b in a:\n",
    "    sli=b.image.astype(int8)\n",
    "    c=b.bbox\n",
    "    padsize=3\n",
    "    pad = zeros((sli.shape[0]+padsize*2, sli.shape[1]+padsize*2))\n",
    "    pad[padsize:-padsize, padsize:-padsize] = sli\n",
    "    pad=binary_closing(pad, square(3))\n",
    "    labs[c[0]:c[2], c[1]:c[3]][where(pad[padsize:-padsize, padsize:-padsize]>0)] = 1\n",
    "results = labs\n",
    "\n",
    "\n",
    "labeled = label(results, background=0)"
   ]
  },
  {
   "cell_type": "markdown",
   "metadata": {},
   "source": [
    "# Classification of segmentation"
   ]
  },
  {
   "cell_type": "code",
   "execution_count": 145,
   "metadata": {
    "collapsed": false
   },
   "outputs": [],
   "source": [
    "class CellClassifier:\n",
    "    def __init__(self):\n",
    "        self.cls = None\n",
    "    \n",
    "    def train(self, properties, classifications):\n",
    "        '''kernels = ['poly']#['linear', 'rbf', 'poly']\n",
    "        coef = [0]\n",
    "        Cs = np.logspace(-6, -1, 5)\n",
    "        gammas = np.logspace(-3, -1, 5)\n",
    "        degs=range(3,7)\n",
    "        print 'got here'\n",
    "        clfs=svm.SVC()\n",
    "        self.cls = GridSearchCV(estimator=clfs, param_grid=dict(kernel=kernels, C=Cs, degree=degs, \\\n",
    "                                        gamma=gammas, coef0=coef), n_jobs=-1)\n",
    "        self.cls.fit(properties, classifications)\n",
    "        \n",
    "        print self.cls.best_params_'''\n",
    "        \n",
    "        self.cls=svm.SVC(kernel='poly', degree=4)\n",
    "        self.cls.fit(properties, classifications)\n",
    "    \n",
    "    def predict(self, properties):\n",
    "        if self.cls is None: return None\n",
    "        return self.cls.predict(properties)\n",
    "    \n",
    "def is_number(s):\n",
    "    try:\n",
    "        float(s)\n",
    "        return True\n",
    "    except ValueError:\n",
    "        return False"
   ]
  },
  {
   "cell_type": "code",
   "execution_count": 146,
   "metadata": {
    "collapsed": false
   },
   "outputs": [],
   "source": [
    "tcprops = regionprops(labeled, rgb2gray(imtc))\n",
    "ctrprops = regionprops(labeled, rgb2gray(imctr))\n",
    "full_props = array([[a.mean_intensity, tcprops[i].mean_intensity, ctrprops[i].mean_intensity, \\\n",
    "                     a.area, a.perimeter, a.solidity, a.eccentricity,\\\n",
    "                     a.major_axis_length, a.minor_axis_length, a.convex_area, a.equivalent_diameter,\\\n",
    "                     ] for i,a in enumerate(regionprops(labeled, rgb2gray(imbf)))])"
   ]
  },
  {
   "cell_type": "code",
   "execution_count": 147,
   "metadata": {
    "collapsed": false
   },
   "outputs": [],
   "source": [
    "#figure 1 will show the image\n",
    "fig = figure(1)\n",
    "clf()\n",
    "ax1 = subplot(1,2,1)\n",
    "ax1.imshow(imbf, cmap='bone', interpolation='nearest')\n",
    "ax2 = subplot(1,2,2, sharex=ax1, sharey=ax1)\n",
    "ax2.imshow(results, cmap='bone') \n",
    "show()\n",
    "\n",
    "#figure 2 will show counting results\n",
    "fig2=figure(2)\n",
    "ax3=subplot(1,1,1)\n",
    "show()\n",
    "\n",
    "properties = []\n",
    "classifications = []\n",
    "\n",
    "settings = None\n",
    "\n",
    "cellclass = CellClassifier()\n",
    "iteration = 0    \n",
    "def onkey(event):\n",
    "    global properties, classifications, cellclass, iteration\n",
    "    settings = (ax1.get_xlim(), ax1.get_ylim())\n",
    "    x,y = event.xdata, event.ydata\n",
    "    try:\n",
    "        \n",
    "\n",
    "        if is_number(event.key):\n",
    "            xf, yf = round(x), round(y)\n",
    "            index = labeled[yf,xf]\n",
    "            if index >= 0:\n",
    "                properties.append(full_props[labeled[yf,xf]-1])\n",
    "                classifications.append(int(event.key))\n",
    "                ax1.plot(xf, yf, 'o', color=rcParams['axes.color_cycle'][int(event.key)])\n",
    "                fig.canvas.draw()\n",
    "\n",
    "\n",
    "        if len(classifications) > 2 and event.key == 'u':\n",
    "\n",
    "            cellclass.train(properties, classifications)\n",
    "            spreds = cellclass.predict(full_props)\n",
    "\n",
    "            zmat = zeros(labeled.shape)\n",
    "            for c in set(spreds):\n",
    "                indices = array(range(0, len(spreds)+1))[where(spreds==c)]\n",
    "                ix = in1d(labeled.ravel(), indices+1).reshape(labeled.shape)\n",
    "                zmat[ix] = c\n",
    "\n",
    "\n",
    "            for i in set(spreds):\n",
    "                ax3.plot(iteration, len(spreds[spreds==i]), 'o', color=rcParams['axes.color_cycle'][i])\n",
    "            iteration +=1\n",
    "\n",
    "            image_label_overlay = label2rgb(zmat, image=imbf, bg_label = 0)\n",
    "            marked = mark_boundaries(image_label_overlay, labeled, color=(1, 1, 1))\n",
    "            ax2.cla()\n",
    "            ax2.imshow(marked)\n",
    "            ax1.set_xlim(settings[0])\n",
    "            ax1.set_ylim(settings[1])\n",
    "\n",
    "            fig.canvas.draw()\n",
    "            fig2.canvas.draw()\n",
    "    except:\n",
    "        print 'woops'\n",
    "        pass\n",
    "\n",
    "pid = fig.canvas.mpl_connect(\"key_press_event\", onkey)\n",
    "\n",
    "show()"
   ]
  },
  {
   "cell_type": "code",
   "execution_count": 148,
   "metadata": {
    "collapsed": false
   },
   "outputs": [],
   "source": [
    "f=open(path+fname+'_shape_classifier_rkmb_20150322.pickle', 'wb')\n",
    "pickle.dump(cellclass, f)\n",
    "f.close()"
   ]
  },
  {
   "cell_type": "code",
   "execution_count": 149,
   "metadata": {
    "collapsed": false
   },
   "outputs": [
    {
     "name": "stdout",
     "output_type": "stream",
     "text": [
      "1 2977\n",
      "2 985\n",
      "3 238\n",
      "0.248611812216\n"
     ]
    }
   ],
   "source": [
    "spreds = cellclass.predict(full_props)\n",
    "counts = []\n",
    "for i in set(spreds):\n",
    "    counts.append(len(spreds[spreds==i]))\n",
    "    print i, len(spreds[spreds==i])\n",
    "print float(counts[1]) / (counts[1] + counts[0])"
   ]
  },
  {
   "cell_type": "code",
   "execution_count": 25,
   "metadata": {
    "collapsed": false
   },
   "outputs": [],
   "source": [
    "zmat = zeros(labeled.shape)\n",
    "for c in set(spreds):\n",
    "    indices = array(range(0, len(spreds)+1))[where(spreds==c)]\n",
    "    ix = in1d(labeled.ravel(), indices+1).reshape(labeled.shape)\n",
    "    zmat[ix] = c\n",
    "\n",
    "image_label_overlay = label2rgb(zmat, image=im_bf, bg_label = 0)\n",
    "marked = mark_boundaries(image_label_overlay, labeled, color=(1, 1, 1))\n",
    "\n",
    "figure(1, figsize=(10, 10))\n",
    "clf()\n",
    "imshow(marked)\n",
    "show()\n",
    "\n",
    "savefig(path+fname+'_classified.jpg', dpi=300)"
   ]
  },
  {
   "cell_type": "markdown",
   "metadata": {},
   "source": [
    "# CHugging"
   ]
  },
  {
   "cell_type": "code",
   "execution_count": 150,
   "metadata": {
    "collapsed": false
   },
   "outputs": [
    {
     "name": "stdout",
     "output_type": "stream",
     "text": [
      "done segmenting\n",
      "predicted classifications\n",
      "1 2481\n",
      "2 629\n",
      "3 429\n",
      "0.202250803859\n",
      "done segmenting\n",
      "predicted classifications\n",
      "1 2309\n",
      "2 669\n",
      "3 287\n",
      "0.224647414372\n",
      "done segmenting\n",
      "predicted classifications\n",
      "1 1294\n",
      "2 453\n",
      "3 207\n",
      "0.259301659989\n",
      "done segmenting\n",
      "predicted classifications\n",
      "1 672\n",
      "2 196\n",
      "3 137\n",
      "0.225806451613\n",
      "done segmenting\n",
      "predicted classifications\n",
      "1 1249\n",
      "2 347\n",
      "3 169\n",
      "0.217418546366\n",
      "done segmenting\n",
      "predicted classifications\n",
      "1 2977\n",
      "2 985\n",
      "3 238\n",
      "0.248611812216\n",
      "done segmenting\n",
      "predicted classifications\n",
      "1 3036\n",
      "2 681\n",
      "3 420\n",
      "0.183212267958\n",
      "done segmenting\n",
      "predicted classifications\n",
      "1 2509\n",
      "2 615\n",
      "3 396\n",
      "0.196862996159\n",
      "done segmenting\n",
      "predicted classifications\n",
      "1 2365\n",
      "2 636\n",
      "3 338\n",
      "0.211929356881\n",
      "done segmenting\n",
      "predicted classifications\n",
      "1 3056\n",
      "2 995\n",
      "3 214\n",
      "0.245618365836\n"
     ]
    }
   ],
   "source": [
    "hist_dict = {}\n",
    "tc_hist_dict = {}\n",
    "for fname in ['Burke1', 'Burke1a', 'Burke2a', 'Burke3a', 'Burke4a', 'SAV1', 'SAV1a', 'SAV2', 'SAV3', 'SAV3a']:    \n",
    "    #print out images with counting ticks\n",
    "    image=imread(path+fname+'.tif')\n",
    "    x,y,z=image.shape\n",
    "\n",
    "    sel = 1024\n",
    "    imbf = image[x/2+1:,:y/2][:sel,sel:]\n",
    "    imtc = image[:x/2,:y/2][:sel,sel:]\n",
    "    imctr = image[:x/2,y/2+1:][:sel,sel:]\n",
    "    immerg = image[x/2+1:, y/2+1:][:sel,sel:]\n",
    "\n",
    "    results = 1-counter.segment([(imbf, 'bf'), (imctr, 'fl'), (imtc, 'fl')])\n",
    "    labs = label(results, background=0)\n",
    "    a=regionprops(labs)\n",
    "    for b in a:\n",
    "        sli=b.image.astype(int8)\n",
    "        c=b.bbox\n",
    "        padsize=3\n",
    "        pad = zeros((sli.shape[0]+padsize*2, sli.shape[1]+padsize*2))\n",
    "        pad[padsize:-padsize, padsize:-padsize] = sli\n",
    "        pad=binary_closing(pad, square(3))\n",
    "        labs[c[0]:c[2], c[1]:c[3]][where(pad[padsize:-padsize, padsize:-padsize]>0)] = 1\n",
    "    results = labs\n",
    "\n",
    "    labeled = label(results, background=0)\n",
    "\n",
    "    print 'done segmenting'\n",
    "\n",
    "    tcprops = regionprops(labeled, rgb2gray(imtc))\n",
    "    ctrprops = regionprops(labeled, rgb2gray(imctr))\n",
    "    full_props = array([[a.mean_intensity, tcprops[i].mean_intensity, ctrprops[i].mean_intensity, \\\n",
    "                         a.area, a.perimeter, a.solidity, a.eccentricity,\\\n",
    "                         a.major_axis_length, a.minor_axis_length, a.convex_area, a.equivalent_diameter,\\\n",
    "                         ] for i,a in enumerate(regionprops(labeled, rgb2gray(imbf)))])\n",
    "\n",
    "    spreds = cellclass.predict(full_props)\n",
    "\n",
    "    print 'predicted classifications'\n",
    "\n",
    "    counts = []\n",
    "    for i in set(spreds):\n",
    "        counts.append(len(spreds[spreds==i]))\n",
    "        print i, len(spreds[spreds==i])\n",
    "    print float(counts[1]) / (counts[1] + counts[0])\n",
    "\n",
    "    zmat = zeros(labeled.shape)\n",
    "    for c in set(spreds):\n",
    "        indices = array(range(0, len(spreds)+1))[where(spreds==c)]\n",
    "        ix = in1d(labeled.ravel(), indices+1).reshape(labeled.shape)\n",
    "        zmat[ix] = c\n",
    "\n",
    "    image_label_overlay = label2rgb(zmat, image=imbf, bg_label = 0)\n",
    "    marked = mark_boundaries(image_label_overlay, labeled, color=(1, 1, 1))\n",
    "\n",
    "    figure(2, figsize=(10, 10))\n",
    "    clf()\n",
    "    imshow(marked)\n",
    "    title('Normal: %d, Dividing: %d, %0.3f'%(counts[0], counts[1], float(counts[1]) / (counts[1] + counts[0])))\n",
    "    show()\n",
    "\n",
    "    savefig(path+fname+'_classified_20150318.jpg', dpi=300)\n",
    "\n",
    "    props_tc = regionprops(labeled, rgb2gray(imtc))\n",
    "    props_ctr = regionprops(labeled, rgb2gray(imctr))\n",
    "    tc_int = array([a.mean_intensity for a in props_tc])\n",
    "    ctr_int = array([a.mean_intensity for a in props_ctr])\n",
    "\n",
    "    selector = where(spreds<3)\n",
    "    tc_int, ctr_int = tc_int[selector], ctr_int[selector]\n",
    "    cvals = spreds[selector]\n",
    "\n",
    "    figure(1)\n",
    "    clf()\n",
    "    scatter_plot(array(tc_int), array(ctr_int), \\\n",
    "                 xlabel='total cell', ylabel='cell tracker', \\\n",
    "                 xlim=(0, 0.08), ylim=(0, 0.8), colors=cvals, alpha=0.2, s=10)\n",
    "    suptitle(fname)\n",
    "    show()\n",
    "    savefig(path+fname+'_rg_scatter.pdf')\n",
    "\n",
    "    hist_dict[fname] = histogram(ctr_int, bins=50)\n",
    "    tc_hist_dict[fname] = histogram(tc_int, bins=50)"
   ]
  },
  {
   "cell_type": "code",
   "execution_count": 153,
   "metadata": {
    "collapsed": false
   },
   "outputs": [],
   "source": [
    "figure(3)\n",
    "clf()\n",
    "ax1 = subplot(211)\n",
    "ax2=subplot(212)\n",
    "thedic = hist_dict\n",
    "\n",
    "\n",
    "bres, sres = zeros(thedic[thedic.keys()[0]][0].shape), zeros(thedic[thedic.keys()[0]][0].shape)\n",
    "\n",
    "for key in sorted(thedic.iterkeys()):\n",
    "    val=thedic[key]\n",
    "    x=array(zip(val[1][:-1], val[1][1:])).mean(axis=1)\n",
    "    isBurke = key.find('Burke') > -1\n",
    "    ax1.plot(x, val[0], color='Black' if isBurke else 'Red', label=key)\n",
    "    \n",
    "    if isBurke: bres+=val[0]\n",
    "    else: sres+=val[0]\n",
    "ax2.plot(x, bres/bres.sum(), 'Black', label='Burke')\n",
    "ax2.plot(x, sres/sres.sum(), 'Red', label='SAV')\n",
    "\n",
    "ax1.legend(ncol=3)\n",
    "ax2.legend()\n",
    "\n",
    "ax1.set_ylabel('Cell count')\n",
    "ax2.set_ylabel('Summed Prob. Density')\n",
    "ax2.set_xlabel('Cell tracker intensity')\n",
    "\n",
    "savefig(path+'histograms.pdf')"
   ]
  },
  {
   "cell_type": "code",
   "execution_count": 137,
   "metadata": {
    "collapsed": false
   },
   "outputs": [],
   "source": [
    "a=regionprops(labeled, immerg)"
   ]
  },
  {
   "cell_type": "code",
   "execution_count": 139,
   "metadata": {
    "collapsed": false
   },
   "outputs": [
    {
     "data": {
      "text/plain": [
       "95.333333333333329"
      ]
     },
     "execution_count": 139,
     "metadata": {},
     "output_type": "execute_result"
    }
   ],
   "source": [
    "a[0].mean_intensity"
   ]
  },
  {
   "cell_type": "code",
   "execution_count": null,
   "metadata": {
    "collapsed": true
   },
   "outputs": [],
   "source": []
  }
 ],
 "metadata": {
  "kernelspec": {
   "display_name": "Python 2",
   "language": "python",
   "name": "python2"
  },
  "language_info": {
   "codemirror_mode": {
    "name": "ipython",
    "version": 2
   },
   "file_extension": ".py",
   "mimetype": "text/x-python",
   "name": "python",
   "nbconvert_exporter": "python",
   "pygments_lexer": "ipython2",
   "version": "2.7.6"
  }
 },
 "nbformat": 4,
 "nbformat_minor": 0
}
