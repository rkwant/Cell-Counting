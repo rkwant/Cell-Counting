{
 "cells": [
  {
   "cell_type": "code",
   "execution_count": 1,
   "metadata": {
    "collapsed": false
   },
   "outputs": [
    {
     "name": "stdout",
     "output_type": "stream",
     "text": [
      "Using matplotlib backend: WXAgg\n",
      "Populating the interactive namespace from numpy and matplotlib\n"
     ]
    }
   ],
   "source": [
    "%pylab"
   ]
  },
  {
   "cell_type": "code",
   "execution_count": 23,
   "metadata": {
    "collapsed": true
   },
   "outputs": [],
   "source": [
    "from skimage.draw import line, set_color"
   ]
  },
  {
   "cell_type": "code",
   "execution_count": 43,
   "metadata": {
    "collapsed": true
   },
   "outputs": [],
   "source": [
    "class Canvas(object):\n",
    "    def __init__(self,ax):\n",
    "        self.ax = ax\n",
    "\n",
    "        # Set limits to unit square\n",
    "        self.template = zeros((10, 10))\n",
    "        \n",
    "        self.ax.set_xlim((-1,10))\n",
    "        self.ax.set_ylim((-1,10))\n",
    "\n",
    "        # turn off axis\n",
    "        self.ax.set_xticklabels([])\n",
    "        self.ax.set_yticklabels([])\n",
    "\n",
    "        # Create handle for a path of connected points\n",
    "        self.path, = ax.plot([],[],'o-',lw=3)\n",
    "        self.vert = []\n",
    "        self.ax.set_title('LEFT: new point, MIDDLE: delete last point, RIGHT: close polygon')\n",
    "\n",
    "        self.x = [] \n",
    "        self.y = []\n",
    "\n",
    "        self.mouse_button = {1: self._add_point, 2: self._delete_point, 3: self._close_polygon}\n",
    "        \n",
    "    def set_location(self,event):\n",
    "        if event.inaxes:\n",
    "            self.x = event.xdata\n",
    "            self.y = event.ydata\n",
    "               \n",
    "    def _add_point(self):\n",
    "        self.vert.append((self.x,self.y))\n",
    "\n",
    "    def _delete_point(self):\n",
    "        if len(self.vert)>0:\n",
    "            self.vert.pop()\n",
    "\n",
    "    def _close_polygon(self):\n",
    "        self.vert.append(self.vert[0])\n",
    "\n",
    "    def update_path(self,event):\n",
    "\n",
    "        # If the mouse pointer is not on the canvas, ignore buttons\n",
    "        if not event.inaxes: return\n",
    "\n",
    "        # Do whichever action correspond to the mouse button clicked\n",
    "        self.mouse_button[event.button]()\n",
    "        \n",
    "        x = [self.vert[k][0] for k in range(len(self.vert))]\n",
    "        y = [self.vert[k][1] for k in range(len(self.vert))]\n",
    "        self.path.set_data(x,y)\n",
    "        \n",
    "        self.template=zeros((10,10))\n",
    "        for i in range(0,10):\n",
    "            for j in range(0, 10):\n",
    "                if point_in_poly(i, j, zip(x,y)):\n",
    "                    self.template[j,i]=1\n",
    "        if len(self.vert) > 1:\n",
    "            for a,b in zip(self.vert[:-1], self.vert[1:]):\n",
    "                set_color(self.template, line(int(round(a[1])), int(round(a[0])), int(round(b[1])), int(round(b[0]))), 2)\n",
    "        imshow(self.template, interpolation='nearest')\n",
    "        \n",
    "        plt.draw()\n",
    "        \n",
    "def point_in_poly(x,y,poly):\n",
    "\n",
    "    n = len(poly)\n",
    "    inside = False\n",
    "\n",
    "    p1x,p1y = poly[0]\n",
    "    for i in range(n+1):\n",
    "        p2x,p2y = poly[i % n]\n",
    "        if y > min(p1y,p2y):\n",
    "            if y <= max(p1y,p2y):\n",
    "                if x <= max(p1x,p2x):\n",
    "                    if p1y != p2y:\n",
    "                        xints = (y-p1y)*(p2x-p1x)/(p2y-p1y)+p1x\n",
    "                    if p1x == p2x or x <= xints:\n",
    "                        inside = not inside\n",
    "        p1x,p1y = p2x,p2y\n",
    "\n",
    "    return inside"
   ]
  },
  {
   "cell_type": "code",
   "execution_count": 44,
   "metadata": {
    "collapsed": false
   },
   "outputs": [],
   "source": [
    "fig = plt.figure(1,(8,8))\n",
    "template=zeros((10,10))\n",
    "ax = fig.add_subplot(111)\n",
    "cnv = Canvas(ax)\n",
    "plt.connect('button_press_event',cnv.update_path)\n",
    "plt.connect('motion_notify_event',cnv.set_location)\n",
    "\n",
    "imshow(template)\n",
    "plt.show()"
   ]
  },
  {
   "cell_type": "code",
   "execution_count": 42,
   "metadata": {
    "collapsed": false
   },
   "outputs": [],
   "source": [
    "a=cnv.vert[0]\n",
    "b=cnv.vert[1]\n",
    "\n",
    "set_color(cnv.template, line(int(round(a[1])), int(round(a[0])), int(round(b[1])), int(round(b[0]))), 2)"
   ]
  },
  {
   "cell_type": "code",
   "execution_count": 41,
   "metadata": {
    "collapsed": false
   },
   "outputs": [
    {
     "data": {
      "text/plain": [
       "4.0"
      ]
     },
     "execution_count": 41,
     "metadata": {},
     "output_type": "execute_result"
    }
   ],
   "source": [
    "round(a[0])"
   ]
  },
  {
   "cell_type": "code",
   "execution_count": null,
   "metadata": {
    "collapsed": true
   },
   "outputs": [],
   "source": []
  },
  {
   "cell_type": "code",
   "execution_count": 5,
   "metadata": {
    "collapsed": true
   },
   "outputs": [],
   "source": [
    "import numpy as np\n",
    "import matplotlib.path as mpath\n",
    "import matplotlib.patches as mpatches\n",
    "import matplotlib.pyplot as plt\n",
    "\n",
    "Path = mpath.Path\n",
    "\n",
    "fig, ax = plt.subplots()\n",
    "\n",
    "pathdata = [\n",
    "    (Path.MOVETO, (1.58, -2.57)),\n",
    "    (Path.CURVE4, (0.35, -1.1)),\n",
    "    (Path.CURVE4, (-1.75, 2.0)),\n",
    "    (Path.CURVE4, (0.375, 2.0)),\n",
    "    (Path.LINETO, (0.85, 1.15)),\n",
    "    (Path.CURVE4, (2.2, 3.2)),\n",
    "    (Path.CURVE4, (3, 0.05)),\n",
    "    (Path.CURVE4, (2.0, -0.5)),\n",
    "    (Path.CLOSEPOLY, (1.58, -2.57)),\n",
    "    ]\n",
    "\n",
    "codes, verts = zip(*pathdata)\n",
    "path = mpath.Path(verts, codes)\n",
    "patch = mpatches.PathPatch(path, facecolor='green', edgecolor='yellow', alpha=0.5)\n",
    "ax.add_patch(patch)\n",
    "\n",
    "\n",
    "class PathInteractor:\n",
    "    \"\"\"\n",
    "    An path editor.\n",
    "\n",
    "    Key-bindings\n",
    "\n",
    "      't' toggle vertex markers on and off.  When vertex markers are on,\n",
    "          you can move them, delete them\n",
    "\n",
    "\n",
    "    \"\"\"\n",
    "\n",
    "    showverts = True\n",
    "    epsilon = 5  # max pixel distance to count as a vertex hit\n",
    "\n",
    "    def __init__(self, pathpatch):\n",
    "\n",
    "        self.ax = pathpatch.axes\n",
    "        canvas = self.ax.figure.canvas\n",
    "        self.pathpatch = pathpatch\n",
    "        self.pathpatch.set_animated(True)\n",
    "\n",
    "        x, y = zip(*self.pathpatch.get_path().vertices)\n",
    "\n",
    "        self.line, = ax.plot(x,y,marker='o', markerfacecolor='r', animated=True)\n",
    "\n",
    "        self._ind = None # the active vert\n",
    "\n",
    "        canvas.mpl_connect('draw_event', self.draw_callback)\n",
    "        canvas.mpl_connect('button_press_event', self.button_press_callback)\n",
    "        canvas.mpl_connect('key_press_event', self.key_press_callback)\n",
    "        canvas.mpl_connect('button_release_event', self.button_release_callback)\n",
    "        canvas.mpl_connect('motion_notify_event', self.motion_notify_callback)\n",
    "        self.canvas = canvas\n",
    "\n",
    "\n",
    "    def draw_callback(self, event):\n",
    "        self.background = self.canvas.copy_from_bbox(self.ax.bbox)\n",
    "        self.ax.draw_artist(self.pathpatch)\n",
    "        self.ax.draw_artist(self.line)\n",
    "        self.canvas.blit(self.ax.bbox)\n",
    "\n",
    "    def pathpatch_changed(self, pathpatch):\n",
    "        'this method is called whenever the pathpatchgon object is called'\n",
    "        # only copy the artist props to the line (except visibility)\n",
    "        vis = self.line.get_visible()\n",
    "        plt.Artist.update_from(self.line, pathpatch)\n",
    "        self.line.set_visible(vis)  # don't use the pathpatch visibility state\n",
    "\n",
    "\n",
    "    def get_ind_under_point(self, event):\n",
    "        'get the index of the vertex under point if within epsilon tolerance'\n",
    "\n",
    "        # display coords\n",
    "        xy = np.asarray(self.pathpatch.get_path().vertices)\n",
    "        xyt = self.pathpatch.get_transform().transform(xy)\n",
    "        xt, yt = xyt[:, 0], xyt[:, 1]\n",
    "        d = np.sqrt((xt-event.x)**2 + (yt-event.y)**2)\n",
    "        ind = d.argmin()\n",
    "\n",
    "        if d[ind]>=self.epsilon:\n",
    "            ind = None\n",
    "\n",
    "        return ind\n",
    "\n",
    "    def button_press_callback(self, event):\n",
    "        'whenever a mouse button is pressed'\n",
    "        if not self.showverts: return\n",
    "        if event.inaxes==None: return\n",
    "        if event.button != 1: return\n",
    "        self._ind = self.get_ind_under_point(event)\n",
    "\n",
    "    def button_release_callback(self, event):\n",
    "        'whenever a mouse button is released'\n",
    "        if not self.showverts: return\n",
    "        if event.button != 1: return\n",
    "        self._ind = None\n",
    "\n",
    "    def key_press_callback(self, event):\n",
    "        'whenever a key is pressed'\n",
    "        if not event.inaxes: return\n",
    "        if event.key=='t':\n",
    "            self.showverts = not self.showverts\n",
    "            self.line.set_visible(self.showverts)\n",
    "            if not self.showverts: self._ind = None\n",
    "\n",
    "        self.canvas.draw()\n",
    "\n",
    "    def motion_notify_callback(self, event):\n",
    "        'on mouse movement'\n",
    "        if not self.showverts: return\n",
    "        if self._ind is None: return\n",
    "        if event.inaxes is None: return\n",
    "        if event.button != 1: return\n",
    "        x,y = event.xdata, event.ydata\n",
    "\n",
    "        vertices = self.pathpatch.get_path().vertices\n",
    "\n",
    "        vertices[self._ind] = x,y\n",
    "        self.line.set_data(zip(*vertices))\n",
    "\n",
    "        self.canvas.restore_region(self.background)\n",
    "        self.ax.draw_artist(self.pathpatch)\n",
    "        self.ax.draw_artist(self.line)\n",
    "        self.canvas.blit(self.ax.bbox)\n",
    "\n",
    "\n",
    "interactor = PathInteractor(patch)\n",
    "ax.set_title('drag vertices to update path')\n",
    "ax.set_xlim(-3,4)\n",
    "ax.set_ylim(-3,4)\n",
    "\n",
    "plt.show()"
   ]
  },
  {
   "cell_type": "code",
   "execution_count": null,
   "metadata": {
    "collapsed": true
   },
   "outputs": [],
   "source": []
  }
 ],
 "metadata": {
  "kernelspec": {
   "display_name": "Python 2",
   "language": "python",
   "name": "python2"
  },
  "language_info": {
   "codemirror_mode": {
    "name": "ipython",
    "version": 2
   },
   "file_extension": ".py",
   "mimetype": "text/x-python",
   "name": "python",
   "nbconvert_exporter": "python",
   "pygments_lexer": "ipython2",
   "version": "2.7.6"
  }
 },
 "nbformat": 4,
 "nbformat_minor": 0
}
