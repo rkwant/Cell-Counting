{
 "cells": [
  {
   "cell_type": "code",
   "execution_count": 1,
   "metadata": {
    "collapsed": false
   },
   "outputs": [
    {
     "name": "stdout",
     "output_type": "stream",
     "text": [
      "Populating the interactive namespace from numpy and matplotlib\n"
     ]
    }
   ],
   "source": [
    "%pylab tk"
   ]
  },
  {
   "cell_type": "code",
   "execution_count": 2,
   "metadata": {
    "collapsed": false
   },
   "outputs": [
    {
     "name": "stderr",
     "output_type": "stream",
     "text": [
      "/Users/richardkwant/Library/Enthought/Canopy_64bit/User/lib/python2.7/site-packages/skimage/filter/__init__.py:6: skimage_deprecation: The `skimage.filter` module has been renamed to `skimage.filters`.  This placeholder module will be removed in v0.13.\n",
      "  warn(skimage_deprecation('The `skimage.filter` module has been renamed '\n"
     ]
    }
   ],
   "source": [
    "from scipy import ndimage\n",
    "from skimage.morphology import watershed, closing, square, disk, reconstruction, binary_closing\n",
    "from skimage.segmentation import mark_boundaries, join_segmentations, relabel_sequential\n",
    "from skimage.feature import peak_local_max, corner_peaks\n",
    "from skimage.io import imread\n",
    "from skimage.filter import gaussian_filter, threshold_otsu, threshold_isodata, threshold_adaptive, threshold_yen, canny, sobel\n",
    "from skimage.exposure import adjust_log, adjust_sigmoid, adjust_gamma, equalize_hist, equalize_adapthist, rescale_intensity\n",
    "from skimage.measure import regionprops, label\n",
    "from skimage.color import label2rgb, rgb2gray\n",
    "from skimage.transform import hough_circle\n",
    "from skimage.filter.rank import entropy, mean_bilateral, enhance_contrast, maximum, minimum, gradient\n",
    "from skimage.restoration import denoise_bilateral\n",
    "from skimage.measure import find_contours, approximate_polygon, subdivide_polygon\n",
    "import time\n",
    "import pickle\n",
    "\n",
    "from sklearn.grid_search import GridSearchCV\n",
    "from sklearn import svm\n",
    "from sklearn.ensemble import RandomForestClassifier\n",
    "from sklearn.tree import DecisionTreeClassifier\n",
    "from sklearn.neighbors import KNeighborsClassifier\n",
    "from sklearn import linear_model\n",
    "from sklearn.mixture import GMM"
   ]
  },
  {
   "cell_type": "code",
   "execution_count": 28,
   "metadata": {
    "collapsed": false
   },
   "outputs": [],
   "source": [
    "path='/Users/richardkwant/Documents/Berkeley/rkwant/Notebook_Pages/Pages/5-066/'\n",
    "#path='C:\\\\Users\\\\rkwant\\\\Documents\\\\Berkeley\\\\rkwant\\\\Notebook_Pages\\\\Pages\\\\4-180\\\\'\n",
    "image=imread(path+'sav1_bf_small.tif', as_grey=True)\n",
    "#x,y=image.shape\n",
    "#image = image[x/2+1:,0:y/2]"
   ]
  },
  {
   "cell_type": "code",
   "execution_count": 30,
   "metadata": {
    "collapsed": false
   },
   "outputs": [],
   "source": [
    "figure(1, figsize=(20, 10))\n",
    "clf()\n",
    "subplot(131)\n",
    "sli = gaussian_filter(image, 1)\n",
    "sli = equalize_adapthist(sli)\n",
    "imshow(sli)\n",
    "\n",
    "\n",
    "ax2=subplot(132)\n",
    "hist(sli.ravel(), bins=100, normed=True)\n",
    "\n",
    "vlines(threshold_otsu(sli), 0,70)\n",
    "\n",
    "subplot(133)\n",
    "imshow(sli>threshold_otsu(sli))\n",
    "\n",
    "tight_layout()\n",
    "#imshow(dstack((sli, toshow.astype(float32), zeros(toshow.shape))), alpha=1)\n"
   ]
  },
  {
   "cell_type": "code",
   "execution_count": 54,
   "metadata": {
    "collapsed": false
   },
   "outputs": [
    {
     "name": "stderr",
     "output_type": "stream",
     "text": [
      "/Users/richardkwant/Library/Enthought/Canopy_64bit/User/lib/python2.7/site-packages/skimage/filter/__init__.py:40: skimage_deprecation: Call to deprecated function ``canny``. Use ``skimage.feature.canny`` instead.\n",
      "  def canny(*args, **kwargs):\n"
     ]
    }
   ],
   "source": [
    "figure(1, figsize=(10, 10))\n",
    "clf()\n",
    "\n",
    "ax=[]\n",
    "sli=image[100:300, 100:300]\n",
    "nrows, ncols=3,3\n",
    "i=1\n",
    "\n",
    "ax.append(subplot(nrows, ncols, i))\n",
    "i+=1\n",
    "imshow(sli)\n",
    "\n",
    "ax.append(subplot(nrows, ncols, i))\n",
    "i+=1\n",
    "imshow(sobel(sli))\n",
    "\n",
    "ax.append(subplot(nrows, ncols, i))\n",
    "i+=1\n",
    "imshow(canny(sli, 1))\n",
    "       \n",
    "ax.append(subplot(nrows, ncols, i))\n",
    "i+=1\n",
    "imshow(gaussian_filter(sli, 1) - gaussian_filter(sli, 2))\n",
    "\n",
    "\n",
    "ax.append(subplot(nrows, ncols, i))\n",
    "i+=1\n",
    "imshow(gaussian_filter(sli, 3) - gaussian_filter(sli, 4))\n",
    "\n",
    "ax.append(subplot(nrows, ncols, i))\n",
    "i+=1\n",
    "imshow(gaussian_filter(sli, 5) - gaussian_filter(sli, 6))\n",
    "       \n",
    "ax.append(subplot(nrows, ncols, i))\n",
    "i+=1\n",
    "seed = np.copy(sli)\n",
    "seed[1:-1, 1:-1] = sli.max()\n",
    "imshow(reconstruction(seed, sli, method='erosion')-sli)\n",
    "\n",
    "ax.append(subplot(nrows, ncols, i))\n",
    "i+=1\n",
    "seed = np.copy(sli)\n",
    "seed[1:-1, 1:-1] = sli.min()\n",
    "zboo = sli-reconstruction(seed, sli, method='dilation')\n",
    "imshow(zboo)\n",
    "       \n",
    "ax.append(subplot(nrows, ncols, i))\n",
    "i+=1\n",
    "imshow(gaussian_filter(zboo, 2))\n",
    "       \n",
    "for axes in ax:\n",
    "    axes.get_xaxis().set_visible(False)\n",
    "    axes.get_yaxis().set_visible(False)\n",
    "\n",
    "tight_layout()\n",
    "#imshow(dstack((sli, toshow.astype(float32), zeros(toshow.shape))), alpha=1)"
   ]
  },
  {
   "cell_type": "code",
   "execution_count": 35,
   "metadata": {
    "collapsed": false
   },
   "outputs": [
    {
     "ename": "ValueError",
     "evalue": "could not broadcast input array from shape (15,13) into shape (1,4)",
     "output_type": "error",
     "traceback": [
      "\u001b[0;31m---------------------------------------------------------------------------\u001b[0m",
      "\u001b[0;31mValueError\u001b[0m                                Traceback (most recent call last)",
      "\u001b[0;32m<ipython-input-35-f6725224274c>\u001b[0m in \u001b[0;36m<module>\u001b[0;34m()\u001b[0m\n\u001b[1;32m     14\u001b[0m \u001b[0mimshow\u001b[0m\u001b[0;34m(\u001b[0m\u001b[0mpad\u001b[0m\u001b[0;34m,\u001b[0m \u001b[0minterpolation\u001b[0m\u001b[0;34m=\u001b[0m\u001b[0;34m'nearest'\u001b[0m\u001b[0;34m)\u001b[0m\u001b[0;34m\u001b[0m\u001b[0m\n\u001b[1;32m     15\u001b[0m \u001b[0;34m\u001b[0m\u001b[0m\n\u001b[0;32m---> 16\u001b[0;31m \u001b[0mlabs\u001b[0m\u001b[0;34m[\u001b[0m\u001b[0mc\u001b[0m\u001b[0;34m[\u001b[0m\u001b[0;36m0\u001b[0m\u001b[0;34m]\u001b[0m\u001b[0;34m:\u001b[0m\u001b[0mc\u001b[0m\u001b[0;34m[\u001b[0m\u001b[0;36m2\u001b[0m\u001b[0;34m]\u001b[0m\u001b[0;34m,\u001b[0m \u001b[0mc\u001b[0m\u001b[0;34m[\u001b[0m\u001b[0;36m1\u001b[0m\u001b[0;34m]\u001b[0m\u001b[0;34m:\u001b[0m\u001b[0mc\u001b[0m\u001b[0;34m[\u001b[0m\u001b[0;36m3\u001b[0m\u001b[0;34m]\u001b[0m\u001b[0;34m]\u001b[0m \u001b[0;34m=\u001b[0m \u001b[0mpad\u001b[0m\u001b[0;34m[\u001b[0m\u001b[0mpadsize\u001b[0m\u001b[0;34m:\u001b[0m\u001b[0;34m-\u001b[0m\u001b[0mpadsize\u001b[0m\u001b[0;34m,\u001b[0m \u001b[0mpadsize\u001b[0m\u001b[0;34m:\u001b[0m\u001b[0;34m-\u001b[0m\u001b[0mpadsize\u001b[0m\u001b[0;34m]\u001b[0m\u001b[0;34m\u001b[0m\u001b[0m\n\u001b[0m\u001b[1;32m     17\u001b[0m \u001b[0;34m\u001b[0m\u001b[0m\n\u001b[1;32m     18\u001b[0m \u001b[0mshow\u001b[0m\u001b[0;34m(\u001b[0m\u001b[0;34m)\u001b[0m\u001b[0;34m\u001b[0m\u001b[0m\n",
      "\u001b[0;31mValueError\u001b[0m: could not broadcast input array from shape (15,13) into shape (1,4)"
     ]
    }
   ],
   "source": [
    "figure(2)\n",
    "clf()\n",
    "subplot(121)\n",
    "sli=a[290].image.astype(int8)\n",
    "\n",
    "padsize=3\n",
    "pad = zeros((sli.shape[0]+padsize*2, sli.shape[1]+padsize*2))\n",
    "pad[padsize:-padsize, padsize:-padsize] = sli\n",
    "\n",
    "imshow(pad, interpolation='nearest')\n",
    "\n",
    "subplot(122)\n",
    "pad=binary_closing(pad, square(3))\n",
    "imshow(pad, interpolation='nearest')\n",
    "\n",
    "labs[c[0]:c[2], c[1]:c[3]] = pad[padsize:-padsize, padsize:-padsize]\n",
    "\n",
    "show()"
   ]
  },
  {
   "cell_type": "code",
   "execution_count": 72,
   "metadata": {
    "collapsed": false
   },
   "outputs": [],
   "source": [
    "c=a[290].bbox"
   ]
  },
  {
   "cell_type": "code",
   "execution_count": 74,
   "metadata": {
    "collapsed": false
   },
   "outputs": [
    {
     "data": {
      "text/plain": [
       "array([[ -1,  -1, 268,  -1,  -1,  -1, 268, 268, 268,  -1],\n",
       "       [ -1,  -1, 268, 268, 268,  -1,  -1, 268, 268,  -1],\n",
       "       [ -1, 268, 268, 268, 268, 268,  -1, 268, 268, 268],\n",
       "       [268, 268, 268, 268, 268, 268,  -1,  -1, 268, 268],\n",
       "       [268, 268,  -1, 268, 268, 268,  -1,  -1, 268, 268],\n",
       "       [268, 268,  -1,  -1, 268, 268, 268, 268, 268,  -1],\n",
       "       [ -1, 268, 268, 268, 268, 268, 268, 268,  -1,  -1],\n",
       "       [ -1,  -1, 268, 268, 268, 268, 268,  -1,  -1,  -1]], dtype=int64)"
      ]
     },
     "execution_count": 74,
     "metadata": {},
     "output_type": "execute_result"
    }
   ],
   "source": [
    "labs[c[0]:c[2], c[1]:c[3]]"
   ]
  },
  {
   "cell_type": "code",
   "execution_count": null,
   "metadata": {
    "collapsed": false
   },
   "outputs": [],
   "source": []
  }
 ],
 "metadata": {
  "kernelspec": {
   "display_name": "Python 2",
   "language": "python",
   "name": "python2"
  },
  "language_info": {
   "codemirror_mode": {
    "name": "ipython",
    "version": 2
   },
   "file_extension": ".py",
   "mimetype": "text/x-python",
   "name": "python",
   "nbconvert_exporter": "python",
   "pygments_lexer": "ipython2",
   "version": "2.7.6"
  }
 },
 "nbformat": 4,
 "nbformat_minor": 0
}
