{
 "metadata": {
  "name": "",
  "signature": "sha256:99bc919d180d9207b3775ce845ce377fa4be99e29b3b637ab103a60c57615a8b"
 },
 "nbformat": 3,
 "nbformat_minor": 0,
 "worksheets": [
  {
   "cells": [
    {
     "cell_type": "code",
     "collapsed": false,
     "input": [
      "%pylab tk"
     ],
     "language": "python",
     "metadata": {},
     "outputs": [
      {
       "output_type": "stream",
       "stream": "stdout",
       "text": [
        "Populating the interactive namespace from numpy and matplotlib\n"
       ]
      }
     ],
     "prompt_number": 1
    },
    {
     "cell_type": "code",
     "collapsed": false,
     "input": [
      "from scipy import ndimage\n",
      "from skimage.morphology import watershed, closing, square, label, disk\n",
      "from skimage.segmentation import mark_boundaries, join_segmentations, relabel_sequential\n",
      "from skimage.feature import peak_local_max, corner_peaks\n",
      "from skimage.io import imread\n",
      "from skimage.filter import gaussian_filter, threshold_otsu, threshold_isodata, threshold_adaptive, threshold_yen, canny, sobel\n",
      "from skimage.exposure import adjust_log, adjust_sigmoid, adjust_gamma, equalize_hist, equalize_adapthist, rescale_intensity\n",
      "from skimage.measure import regionprops\n",
      "from skimage.color import label2rgb, rgb2gray\n",
      "from skimage.transform import hough_circle\n",
      "from skimage.filter.rank import entropy\n",
      "import time\n",
      "import pickle\n",
      "\n",
      "from sklearn.grid_search import GridSearchCV\n",
      "from sklearn import svm\n",
      "from sklearn.ensemble import RandomForestClassifier\n",
      "from sklearn.tree import DecisionTreeClassifier\n",
      "from sklearn.neighbors import KNeighborsClassifier\n",
      "from sklearn import linear_model\n",
      "from sklearn.mixture import GMM"
     ],
     "language": "python",
     "metadata": {},
     "outputs": [],
     "prompt_number": 2
    },
    {
     "cell_type": "code",
     "collapsed": false,
     "input": [
      "def scatter_plot(x, y, xlabel='', ylabel='', xlim=None, ylim=None, colors = None):\n",
      "    if xlim is None: x1,x2 = x.min(), x.max()*1.1\n",
      "    else: x1,x2 = xlim[0], xlim[1]\n",
      "        \n",
      "    if ylim is None: y1,y2 = y.min(), y.max()*1.1\n",
      "    else: y1,y2 = ylim[0], ylim[1]\n",
      "        \n",
      "    nullfmt   = NullFormatter()         # no labels\n",
      "\n",
      "    # definitions for the axes\n",
      "    left, width = 0.1, 0.65\n",
      "    bottom, height = 0.1, 0.65\n",
      "    bottom_h = left_h = left+width+0.02\n",
      "    rect_scatter = [left, bottom, width, height]\n",
      "    rect_histx = [left, bottom_h, width, 0.2]\n",
      "    rect_histy = [left_h, bottom, 0.2, height]\n",
      "    # start with a rectangular Figure\n",
      "    plt.figure(1, figsize=(8,8))\n",
      "    axScatter = plt.axes(rect_scatter)\n",
      "    axHistx = plt.axes(rect_histx)\n",
      "    axHisty = plt.axes(rect_histy)\n",
      "    # no labels\n",
      "    axHistx.xaxis.set_major_formatter(nullfmt)\n",
      "    axHisty.yaxis.set_major_formatter(nullfmt)\n",
      "\n",
      "    # the scatter plot:\n",
      "    if colors is None: axScatter.scatter(x, y)\n",
      "    else: axScatter.scatter(x, y, c=colors)\n",
      "\n",
      "    # now determine nice limits by hand:\n",
      "    binwidth = 0.25\n",
      "    xymax = np.max( [np.max(np.fabs(x)), np.max(np.fabs(y))] )\n",
      "    lim = ( int(xymax/binwidth) + 1) * binwidth\n",
      "\n",
      "    axScatter.set_xlim( (x1, x2) )\n",
      "    axScatter.set_ylim( (y1, y2) )\n",
      "\n",
      "    bins = 50\n",
      "    axHistx.hist(x, bins=bins, range=(x1,x2))\n",
      "    axHisty.hist(y, bins=bins, orientation='horizontal', range=(y1,y2))\n",
      "    axHistx.set_xlim( axScatter.get_xlim() )\n",
      "    axHisty.set_ylim( axScatter.get_ylim() )\n",
      "    axScatter.set_xlabel(xlabel)\n",
      "    axScatter.set_ylabel(ylabel)\n",
      "    draw()"
     ],
     "language": "python",
     "metadata": {},
     "outputs": [],
     "prompt_number": 3
    },
    {
     "cell_type": "code",
     "collapsed": false,
     "input": [
      "class ImageCounter:\n",
      "    '''a class to train and apply counting on images'''\n",
      "    def __init__(self, image):\n",
      "        self.training_image = image\n",
      "        self.training_description = self.describe(self.training_image)\n",
      "        self.cls = None\n",
      "        self.training = None\n",
      "        self.classifications = None\n",
      "        \n",
      "    def describe(self, image):\n",
      "        \n",
      "        #                  0                         1                   2  \n",
      "        im_range = [equalize_adapthist(image), sobel(image), sobel(equalize_adapthist(image)), entropy(image, disk(4))]\n",
      "        im_gaussian = [gaussian_filter(image, i) for i in range(1,7,1)]\n",
      "        im_edges_ranges = [canny(image, sigma=1)]\n",
      "        hough_ranges = []\n",
      "        for k in im_edges_ranges:\n",
      "            hough_ranges = hough_ranges+[i for i in hough_circle(k, arange(3,6,1))]\n",
      "        gauss_ranges = [equalize_adapthist(gaussian_filter(image, i) - gaussian_filter(image, i+1)) for i in arange(3,9,1)]\n",
      "        \n",
      "        des = array(im_range+im_gaussian+hough_ranges+gauss_ranges)\n",
      "        descriptors = des.reshape(des.shape[0],-1).transpose()\n",
      "        return descriptors\n",
      "    \n",
      "    def get_imdex(self, x, y, image):\n",
      "        return int(y*image.shape[1] + x)\n",
      "    \n",
      "    def train(self, keys, classifications):\n",
      "        training = [self.training_description[self.get_imdex(j[0], j[1], self.training_image)] for j in keys]\n",
      "        self.training = training\n",
      "        self.classifications = classifications\n",
      "        self.cls = KNeighborsClassifier()#RandomForestClassifier(n_jobs=-1, n_estimators=50)#KNeighborsClassifier()##svm.SVC(probability=True)\n",
      "        self.cls.fit(training, classifications)\n",
      "        \n",
      "    def retrain(self):\n",
      "        self.cls.fit(self.training, self.classifications)\n",
      "        \n",
      "    def get_cls(self):\n",
      "        return self.cls\n",
      "    \n",
      "    def set_cls(self, s):\n",
      "        self.cls = s\n",
      "        \n",
      "    def training_predict(self):\n",
      "        if self.cls is None: return\n",
      "        linear_prediction = self.cls.predict_proba(self.training_description)\n",
      "        return linear_prediction[:,0].reshape(self.training_image.shape)\n",
      "    \n",
      "    def training_segment(self):\n",
      "        if self.cls is None: return\n",
      "        linear_prediction = self.cls.predict(self.training_description)\n",
      "        return linear_prediction.reshape(self.training_image.shape)\n",
      "    \n",
      "    def segment(self, image):\n",
      "        if self.cls is None: return\n",
      "        linear_prediction = self.cls.predict(self.describe(image))\n",
      "        return linear_prediction.reshape(image.shape)\n",
      "    \n",
      "    def predict(self, image):\n",
      "        if self.cls is None: return\n",
      "        linear_prediction = self.cls.predict_proba(self.describe(image))\n",
      "        return linear_prediction[:,0].reshape(image.shape)\n",
      "    \n",
      "    def count(self, image):\n",
      "        r = 3\n",
      "        a, b = r, r\n",
      "        n = 2*a+1\n",
      "        y,x = np.ogrid[-a:n-a, -b:n-b]\n",
      "        mask = x*x + y*y <= r*r\n",
      "        prediction = self.predict(image)\n",
      "        prediction = gaussian_filter(prediction, 1)\n",
      "        local_maxi = peak_local_max(prediction, indices=False, exclude_border=False, footprint=mask)\n",
      "        markers = ndimage.label(local_maxi)[0]\n",
      "        return markers.max()"
     ],
     "language": "python",
     "metadata": {},
     "outputs": [
      {
       "output_type": "stream",
       "stream": "stdout",
       "text": [
        "\n"
       ]
      },
      {
       "output_type": "stream",
       "stream": "stderr",
       "text": [
        "Traceback (most recent call last):\n",
        "  File \"/Applications/Canopy.app/appdata/canopy-1.5.2.2785.macosx-x86_64/Canopy.app/Contents/lib/python2.7/lib-tk/Tkinter.py\", line 1470, in __call__\n",
        "    return self.func(*args)\n",
        "  File \"/Users/richardkwant/Library/Enthought/Canopy_64bit/User/lib/python2.7/site-packages/matplotlib/backends/backend_tkagg.py\", line 398, in button_press_event\n",
        "    FigureCanvasBase.button_press_event(self, x, y, num, dblclick=dblclick, guiEvent=event)\n",
        "  File \"/Users/richardkwant/Library/Enthought/Canopy_64bit/User/lib/python2.7/site-packages/matplotlib/backend_bases.py\", line 1887, in button_press_event\n",
        "    self.callbacks.process(s, mouseevent)\n",
        "  File \"/Users/richardkwant/Library/Enthought/Canopy_64bit/User/lib/python2.7/site-packages/matplotlib/cbook.py\", line 540, in process\n",
        "    proxy(*args, **kwargs)\n",
        "  File \"/Users/richardkwant/Library/Enthought/Canopy_64bit/User/lib/python2.7/site-packages/matplotlib/cbook.py\", line 415, in __call__\n",
        "    return mtd(*args, **kwargs)\n",
        "  File \"<ipython-input-9-1380cacc4f71>\", line 31, in onclick\n",
        "    xf, yf = round(x), round(y)\n",
        "TypeError: a float is required\n"
       ]
      }
     ],
     "prompt_number": 10
    },
    {
     "cell_type": "heading",
     "level": 1,
     "metadata": {},
     "source": [
      "determine filters"
     ]
    },
    {
     "cell_type": "code",
     "collapsed": false,
     "input": [
      "path='/Users/richardkwant/Documents/Berkeley/rkwant/Notebook_Pages/Pages/5-066/'\n",
      "#ath='C:\\\\Users\\\\rkwant\\\\Documents\\\\Berkeley\\\\rkwant\\\\Notebook_Pages\\\\Pages\\\\5-066\\\\'\n",
      "image=imread(path+'Burke1.tif', as_grey=True)\n",
      "x,y=image.shape\n",
      "image = image[x/2+1:,0:y/2]\n",
      "#image=image[:500, :500]"
     ],
     "language": "python",
     "metadata": {},
     "outputs": [],
     "prompt_number": 6
    },
    {
     "cell_type": "code",
     "collapsed": false,
     "input": [
      "figure(1)\n",
      "clf()\n",
      "sli = image[600:860, 150:350]\n",
      "subplot(1,2,1)\n",
      "imshow(sli)\n",
      "subplot(1,2,2)\n",
      "i=6\n",
      "toshow=(gaussian_filter(image, i) - gaussian_filter(image, i+1))[600:860, 150:350]\n",
      "imshow(toshow)\n",
      "show()"
     ],
     "language": "python",
     "metadata": {},
     "outputs": [],
     "prompt_number": 6
    },
    {
     "cell_type": "code",
     "collapsed": false,
     "input": [
      "start = time.time()\n",
      "im_range = [image.copy(), equalize_adapthist(image), sobel(image), sobel(equalize_adapthist(image))]\n",
      "im_edges_ranges = [canny(image, sigma=i) for i in arange(0.5, 2, 0.5)]\n",
      "hough_ranges = []\n",
      "for k in im_edges_ranges:\n",
      "    hough_ranges = hough_ranges+[i for i in hough_circle(k, arange(3,7,1))]\n",
      "gauss_ranges = [equalize_adapthist(gaussian_filter(image, i) - gaussian_filter(image, i+1)) for i in arange(2,7,1)]\n",
      "des = array(im_range+im_edges_ranges+hough_ranges+gauss_ranges)\n",
      "descriptors = des.reshape(des.shape[0],-1).transpose()\n",
      "print time.time()-start"
     ],
     "language": "python",
     "metadata": {},
     "outputs": []
    },
    {
     "cell_type": "heading",
     "level": 1,
     "metadata": {},
     "source": [
      "make the classifier"
     ]
    },
    {
     "cell_type": "code",
     "collapsed": false,
     "input": [
      "#figure 1 will show the image\n",
      "fig = figure(1)\n",
      "clf()\n",
      "ax1 = subplot(1,2,1)\n",
      "ax1.imshow(image, cmap='bone', interpolation='nearest')\n",
      "ax2 = subplot(1,2,2, sharex=ax1, sharey=ax1)\n",
      "ax2.imshow(image, cmap='bone')\n",
      "show()\n",
      "\n",
      "#figure 2 will show counting results\n",
      "fig2=figure(2)\n",
      "ax3=subplot(1,1,1)\n",
      "show()\n",
      "\n",
      "inpoints=[]\n",
      "outpoints=[]\n",
      "countresults=[]\n",
      "\n",
      "counter = ImageCounter(image)\n",
      "settings = None\n",
      "pts1=None\n",
      "pts2=None\n",
      "pts3=None\n",
      "\n",
      "def onclick(event):\n",
      "    global pts1, pts2, pts3\n",
      "    if get_current_fig_manager().toolbar.mode != '': return\n",
      "    \n",
      "    settings = (ax1.get_xlim(), ax1.get_ylim())\n",
      "    x,y = event.xdata, event.ydata\n",
      "    xf, yf = round(x), round(y)    \n",
      "    if event.button ==1: \n",
      "        inpoints.append((xf, yf))\n",
      "    elif event.button==3:\n",
      "        outpoints.append((xf,yf))\n",
      "    \n",
      "    def getimdex(xx,yy):\n",
      "        return int(yy*image.shape[0] + xx)\n",
      "    \n",
      "    #ax2.imshow(test.reshape(image.shape))\n",
      "    \n",
      "    if len(inpoints) < 1 or len(outpoints) < 1: return\n",
      "    \n",
      "    #ax1.cla()\n",
      "    #ax1.imshow(image, cmap='bone', interpolation='nearest')\n",
      "    ip, op = array(inpoints), array(outpoints)\n",
      "    if pts1 is not None: pts1[0].remove()\n",
      "    if pts2 is not None: pts2[0].remove()\n",
      "    pts1 = ax1.plot(ip[:,0], ip[:,1], 'o', color='green')\n",
      "    pts2 = ax1.plot(op[:,0], op[:,1], 'o', color='red')\n",
      "    \n",
      "    \n",
      "    #ax1.set_xlim(settings[0])\n",
      "    #ax1.set_ylim(settings[1])\n",
      "    fig2.canvas.draw()\n",
      "    fig.canvas.draw()\n",
      "    \n",
      "def onkey(event):\n",
      "    global pts1, pts2, pts3\n",
      "    if event.key != 'u': return\n",
      "    print 'pressed u'\n",
      "    settings = (ax1.get_xlim(), ax1.get_ylim())\n",
      "    training = inpoints+outpoints\n",
      "    classes = [0 for i in range(0, len(inpoints))] + [1 for i in range(0, len(outpoints))]    \n",
      "    \n",
      "    counter.train(training, classes)\n",
      "    #results = counter.training_predict()\n",
      "    results = counter.training_segment()\n",
      "    \n",
      "    ax2.cla()\n",
      "    ax2.imshow(results)\n",
      "    '''if pts3 is not None: pts3[0].remove()\n",
      "    \n",
      "    \n",
      "    r = 3\n",
      "    a, b = r, r\n",
      "    n = 2*a+1\n",
      "    y,x = np.ogrid[-a:n-a, -b:n-b]\n",
      "    mask = x*x + y*y <= r*r\n",
      "    \n",
      "    prediction = gaussian_filter(results, 1)\n",
      "    local_maxi = peak_local_max(prediction, indices=False, exclude_border=False, footprint=mask)\n",
      "    markers = ndimage.label(local_maxi)[0]\n",
      "    ax2.imshow(prediction, cmap='bone')\n",
      "    nz = nonzero(markers)\n",
      "    ax2.plot(nz[1], nz[0], '.', color='purple')\n",
      "    pts3 = ax1.plot(nz[1], nz[0], '.', color='purple')\n",
      "    #print markers.max()\n",
      "    countresults.append(markers.max())\n",
      "    '''       \n",
      "    ax2.set_xlim(settings[0])\n",
      "    ax2.set_ylim(settings[1])\n",
      "    \n",
      "    \n",
      "    #ax3.cla()\n",
      "    #ax3.plot(counter.cls.feature_importances_)\n",
      "    \n",
      "    fig2.canvas.draw()\n",
      "    fig.canvas.draw()\n",
      "cid = fig.canvas.mpl_connect(\"button_press_event\", onclick)\n",
      "pid = fig.canvas.mpl_connect(\"key_press_event\", onkey)\n",
      "#tight_layout()\n",
      "show()"
     ],
     "language": "python",
     "metadata": {},
     "outputs": [
      {
       "output_type": "stream",
       "stream": "stdout",
       "text": [
        "pressed u\n",
        "pressed u"
       ]
      },
      {
       "output_type": "stream",
       "stream": "stdout",
       "text": [
        "\n",
        "pressed u"
       ]
      },
      {
       "output_type": "stream",
       "stream": "stdout",
       "text": [
        "\n",
        "pressed u"
       ]
      },
      {
       "output_type": "stream",
       "stream": "stdout",
       "text": [
        "\n",
        "pressed u"
       ]
      },
      {
       "output_type": "stream",
       "stream": "stdout",
       "text": [
        "\n",
        "pressed u"
       ]
      },
      {
       "output_type": "stream",
       "stream": "stdout",
       "text": [
        "\n",
        "pressed u"
       ]
      },
      {
       "output_type": "stream",
       "stream": "stdout",
       "text": [
        "\n",
        "pressed u"
       ]
      },
      {
       "output_type": "stream",
       "stream": "stdout",
       "text": [
        "\n",
        "pressed u"
       ]
      }
     ],
     "prompt_number": 11
    },
    {
     "cell_type": "code",
     "collapsed": false,
     "input": [
      "figure(2)\n",
      "clf()\n",
      "plot(counter.cls.feature_importances_)\n",
      "show()"
     ],
     "language": "python",
     "metadata": {},
     "outputs": [],
     "prompt_number": 10
    },
    {
     "cell_type": "code",
     "collapsed": false,
     "input": [
      "#save the classifier\n",
      "counter.training_description = None\n",
      "counter.training_image = None\n",
      "counter.training = None\n",
      "counter.classifications = None\n",
      "f=open(path+'Burke1_class_segmenter_rklab.pickle', 'wb')\n",
      "pickle.dump(counter, f)\n",
      "f.close()"
     ],
     "language": "python",
     "metadata": {},
     "outputs": [
      {
       "output_type": "stream",
       "stream": "stdout",
       "text": [
        "\n"
       ]
      }
     ],
     "prompt_number": 7
    },
    {
     "cell_type": "code",
     "collapsed": false,
     "input": [
      "f=open(path+'Burke1_class_segmenter_rklab.pickle', 'rb')\n",
      "counter = pickle.load(f)"
     ],
     "language": "python",
     "metadata": {},
     "outputs": [],
     "prompt_number": 8
    },
    {
     "cell_type": "code",
     "collapsed": false,
     "input": [
      "#print out images with counting ticks\n",
      "fname='Burke2'\n",
      "image=imread(path+fname+'.tif', as_grey=True)\n",
      "x,y=image.shape\n",
      "\n",
      "im_bf = image[x/2+1:, :y/2]\n",
      "im_red = image[:x/2,y/2+1:]\n",
      "im_green = image[:x/2,:y/2]\n",
      "\n",
      "segmentation_results = 1-counter.segment(im_bf)\n",
      "labeled = label(segmentation_results, background=0)"
     ],
     "language": "python",
     "metadata": {},
     "outputs": [],
     "prompt_number": 9
    },
    {
     "cell_type": "heading",
     "level": 1,
     "metadata": {},
     "source": [
      "Fluorescence information"
     ]
    },
    {
     "cell_type": "code",
     "collapsed": false,
     "input": [
      "labeled = label(segmentation_results, background=0)\n",
      "#labeled,seg2_labels,l2 = relabel_sequential(labeled)"
     ],
     "language": "python",
     "metadata": {},
     "outputs": [
      {
       "output_type": "stream",
       "stream": "stderr",
       "text": [
        "C:\\Users\\rkwant\\AppData\\Local\\Enthought\\Canopy\\User\\lib\\site-packages\\skimage\\measure\\_label.py:4: skimage_deprecation: Call to deprecated function ``label``. Use ``skimage.measure.label`` instead.\n",
        "  return _label(input, neighbors, background, return_num)\n"
       ]
      }
     ],
     "prompt_number": 12
    },
    {
     "cell_type": "code",
     "collapsed": false,
     "input": [
      "figure(1)\n",
      "clf()\n",
      "imshow(labeled)\n",
      "show()"
     ],
     "language": "python",
     "metadata": {},
     "outputs": [],
     "prompt_number": 22
    },
    {
     "cell_type": "code",
     "collapsed": false,
     "input": [
      "props_red = regionprops(labeled, im_red)\n",
      "props_green = regionprops(labeled, im_green)"
     ],
     "language": "python",
     "metadata": {},
     "outputs": [],
     "prompt_number": 9
    },
    {
     "cell_type": "code",
     "collapsed": false,
     "input": [
      "green_int = [a.mean_intensity for a in props_red]\n",
      "red_int = [a.mean_intensity for a in props_green]"
     ],
     "language": "python",
     "metadata": {},
     "outputs": [],
     "prompt_number": 10
    },
    {
     "cell_type": "code",
     "collapsed": false,
     "input": [
      "figure(1)\n",
      "clf()\n",
      "scatter_plot(array(green_int), array(red_int), xlabel='green intensity', ylabel='red intensity', xlim=(0,0.005), ylim=(0,0.04))\n",
      "suptitle(fname)\n",
      "show()\n",
      "savefig(path+fname+'_rg_scatter.pdf')"
     ],
     "language": "python",
     "metadata": {},
     "outputs": [],
     "prompt_number": 75
    },
    {
     "cell_type": "heading",
     "level": 1,
     "metadata": {},
     "source": [
      "Classification of segmentation"
     ]
    },
    {
     "cell_type": "code",
     "collapsed": false,
     "input": [
      "class CellClassifier:\n",
      "    def __init__(self):\n",
      "        self.cls = None\n",
      "    \n",
      "    def train(self, properties, classifications):\n",
      "        '''kernels = ['poly']#['linear', 'rbf', 'poly']\n",
      "        coef = [0]\n",
      "        Cs = np.logspace(-6, -1, 5)\n",
      "        gammas = np.logspace(-3, -1, 5)\n",
      "        degs=range(3,7)\n",
      "        print 'got here'\n",
      "        clfs=svm.SVC()\n",
      "        self.cls = GridSearchCV(estimator=clfs, param_grid=dict(kernel=kernels, C=Cs, degree=degs, \\\n",
      "                                        gamma=gammas, coef0=coef), n_jobs=-1)\n",
      "        self.cls.fit(properties, classifications)\n",
      "        \n",
      "        print self.cls.best_params_'''\n",
      "        \n",
      "        self.cls=svm.SVC(kernel='poly', degree=4)\n",
      "        self.cls.fit(properties, classifications)\n",
      "    \n",
      "    def predict(self, properties):\n",
      "        if self.cls is None: return None\n",
      "        return self.cls.predict(properties)\n",
      "    \n",
      "def is_number(s):\n",
      "    try:\n",
      "        float(s)\n",
      "        return True\n",
      "    except ValueError:\n",
      "        return False"
     ],
     "language": "python",
     "metadata": {},
     "outputs": [],
     "prompt_number": 13
    },
    {
     "cell_type": "code",
     "collapsed": false,
     "input": [
      "full_props = array([[a.area, a.perimeter, a.solidity, a.eccentricity,\\\n",
      "                     a.major_axis_length, a.minor_axis_length, a.convex_area, a.equivalent_diameter,\\\n",
      "                     ] for a in regionprops(labeled, im_bf)])"
     ],
     "language": "python",
     "metadata": {},
     "outputs": [],
     "prompt_number": 14
    },
    {
     "cell_type": "code",
     "collapsed": false,
     "input": [
      "#figure 1 will show the image\n",
      "fig = figure(1)\n",
      "clf()\n",
      "ax1 = subplot(1,2,1)\n",
      "ax1.imshow(im_bf, cmap='bone', interpolation='nearest')\n",
      "ax2 = subplot(1,2,2, sharex=ax1, sharey=ax1)\n",
      "ax2.imshow(segmentation_results, cmap='bone') \n",
      "show()\n",
      "\n",
      "#figure 2 will show counting results\n",
      "fig2=figure(2)\n",
      "ax3=subplot(1,1,1)\n",
      "show()\n",
      "\n",
      "properties = []\n",
      "classifications = []\n",
      "\n",
      "settings = None\n",
      "\n",
      "cellclass = CellClassifier()\n",
      "iteration = 0    \n",
      "def onkey(event):\n",
      "    global properties, classifications, cellclass, iteration\n",
      "    settings = (ax1.get_xlim(), ax1.get_ylim())\n",
      "    x,y = event.xdata, event.ydata\n",
      "    xf, yf = round(x), round(y)\n",
      "    \n",
      "    index = labeled[yf,xf]\n",
      "    \n",
      "    if index >= 0 and is_number(event.key):\n",
      "        properties.append(full_props[labeled[yf,xf]-1])\n",
      "        classifications.append(int(event.key))\n",
      "        ax1.plot(xf, yf, 'o', color=rcParams['axes.color_cycle'][int(event.key)])\n",
      "        fig.canvas.draw()\n",
      "    \n",
      "    \n",
      "    if len(classifications) > 2 and event.key == 'u':\n",
      "        \n",
      "        cellclass.train(properties, classifications)\n",
      "        spreds = cellclass.predict(full_props)\n",
      "        \n",
      "        zmat = zeros(labeled.shape)\n",
      "        for c in set(spreds):\n",
      "            indices = array(range(0, len(spreds)+1))[where(spreds==c)]\n",
      "            ix = in1d(labeled.ravel(), indices+1).reshape(labeled.shape)\n",
      "            zmat[ix] = c\n",
      "        \n",
      "        \n",
      "        for i in set(spreds):\n",
      "            ax3.plot(iteration, len(spreds[spreds==i]), 'o', color=rcParams['axes.color_cycle'][i])\n",
      "        iteration +=1\n",
      "        \n",
      "        image_label_overlay = label2rgb(zmat, image=im_bf, bg_label = 0)\n",
      "        marked = mark_boundaries(image_label_overlay, labeled, color=(1, 1, 1))\n",
      "        ax2.cla()\n",
      "        ax2.imshow(marked)\n",
      "        ax1.set_xlim(settings[0])\n",
      "        ax1.set_ylim(settings[1])\n",
      "    \n",
      "        fig.canvas.draw()\n",
      "        fig2.canvas.draw()\n",
      "\n",
      "pid = fig.canvas.mpl_connect(\"key_press_event\", onkey)\n",
      "\n",
      "show()"
     ],
     "language": "python",
     "metadata": {},
     "outputs": [
      {
       "output_type": "stream",
       "stream": "stderr",
       "text": [
        "-c:28: DeprecationWarning: using a non-integer number instead of an integer will result in an error in the future\n",
        "-c:28: DeprecationWarning: using a non-integer number instead of an integer will result in an error in the future\n",
        "-c:31: DeprecationWarning: using a non-integer number instead of an integer will result in an error in the future\n",
        "-c:31: DeprecationWarning: using a non-integer number instead of an integer will result in an error in the future\n",
        "-c:28: DeprecationWarning: using a non-integer number instead of an integer will result in an error in the future\n"
       ]
      },
      {
       "output_type": "stream",
       "stream": "stderr",
       "text": [
        "-c:28: DeprecationWarning: using a non-integer number instead of an integer will result in an error in the future\n",
        "-c:31: DeprecationWarning: using a non-integer number instead of an integer will result in an error in the future\n",
        "-c:31: DeprecationWarning: using a non-integer number instead of an integer will result in an error in the future\n",
        "-c:28: DeprecationWarning: using a non-integer number instead of an integer will result in an error in the future\n"
       ]
      },
      {
       "output_type": "stream",
       "stream": "stderr",
       "text": [
        "-c:28: DeprecationWarning: using a non-integer number instead of an integer will result in an error in the future\n",
        "-c:31: DeprecationWarning: using a non-integer number instead of an integer will result in an error in the future\n",
        "-c:31: DeprecationWarning: using a non-integer number instead of an integer will result in an error in the future\n",
        "-c:28: DeprecationWarning: using a non-integer number instead of an integer will result in an error in the future\n"
       ]
      },
      {
       "output_type": "stream",
       "stream": "stderr",
       "text": [
        "-c:28: DeprecationWarning: using a non-integer number instead of an integer will result in an error in the future\n",
        "-c:31: DeprecationWarning: using a non-integer number instead of an integer will result in an error in the future\n",
        "-c:31: DeprecationWarning: using a non-integer number instead of an integer will result in an error in the future\n",
        "-c:28: DeprecationWarning: using a non-integer number instead of an integer will result in an error in the future\n"
       ]
      },
      {
       "output_type": "stream",
       "stream": "stderr",
       "text": [
        "-c:28: DeprecationWarning: using a non-integer number instead of an integer will result in an error in the future\n",
        "-c:31: DeprecationWarning: using a non-integer number instead of an integer will result in an error in the future\n",
        "-c:31: DeprecationWarning: using a non-integer number instead of an integer will result in an error in the future\n",
        "-c:28: DeprecationWarning: using a non-integer number instead of an integer will result in an error in the future\n"
       ]
      },
      {
       "output_type": "stream",
       "stream": "stderr",
       "text": [
        "-c:28: DeprecationWarning: using a non-integer number instead of an integer will result in an error in the future\n",
        "-c:31: DeprecationWarning: using a non-integer number instead of an integer will result in an error in the future\n",
        "-c:31: DeprecationWarning: using a non-integer number instead of an integer will result in an error in the future\n",
        "-c:28: DeprecationWarning: using a non-integer number instead of an integer will result in an error in the future\n"
       ]
      },
      {
       "output_type": "stream",
       "stream": "stderr",
       "text": [
        "-c:28: DeprecationWarning: using a non-integer number instead of an integer will result in an error in the future\n",
        "-c:31: DeprecationWarning: using a non-integer number instead of an integer will result in an error in the future\n",
        "-c:31: DeprecationWarning: using a non-integer number instead of an integer will result in an error in the future\n",
        "-c:28: DeprecationWarning: using a non-integer number instead of an integer will result in an error in the future\n"
       ]
      },
      {
       "output_type": "stream",
       "stream": "stderr",
       "text": [
        "-c:28: DeprecationWarning: using a non-integer number instead of an integer will result in an error in the future\n",
        "-c:31: DeprecationWarning: using a non-integer number instead of an integer will result in an error in the future\n",
        "-c:31: DeprecationWarning: using a non-integer number instead of an integer will result in an error in the future\n",
        "-c:28: DeprecationWarning: using a non-integer number instead of an integer will result in an error in the future\n"
       ]
      },
      {
       "output_type": "stream",
       "stream": "stderr",
       "text": [
        "-c:28: DeprecationWarning: using a non-integer number instead of an integer will result in an error in the future\n",
        "-c:31: DeprecationWarning: using a non-integer number instead of an integer will result in an error in the future\n",
        "-c:31: DeprecationWarning: using a non-integer number instead of an integer will result in an error in the future\n",
        "-c:28: DeprecationWarning: using a non-integer number instead of an integer will result in an error in the future\n"
       ]
      },
      {
       "output_type": "stream",
       "stream": "stderr",
       "text": [
        "-c:28: DeprecationWarning: using a non-integer number instead of an integer will result in an error in the future\n",
        "-c:31: DeprecationWarning: using a non-integer number instead of an integer will result in an error in the future\n",
        "-c:31: DeprecationWarning: using a non-integer number instead of an integer will result in an error in the future\n",
        "-c:28: DeprecationWarning: using a non-integer number instead of an integer will result in an error in the future\n"
       ]
      },
      {
       "output_type": "stream",
       "stream": "stderr",
       "text": [
        "-c:28: DeprecationWarning: using a non-integer number instead of an integer will result in an error in the future\n",
        "-c:31: DeprecationWarning: using a non-integer number instead of an integer will result in an error in the future\n",
        "-c:31: DeprecationWarning: using a non-integer number instead of an integer will result in an error in the future\n",
        "-c:28: DeprecationWarning: using a non-integer number instead of an integer will result in an error in the future\n"
       ]
      },
      {
       "output_type": "stream",
       "stream": "stderr",
       "text": [
        "-c:28: DeprecationWarning: using a non-integer number instead of an integer will result in an error in the future\n",
        "-c:31: DeprecationWarning: using a non-integer number instead of an integer will result in an error in the future\n",
        "-c:31: DeprecationWarning: using a non-integer number instead of an integer will result in an error in the future\n",
        "-c:28: DeprecationWarning: using a non-integer number instead of an integer will result in an error in the future\n"
       ]
      },
      {
       "output_type": "stream",
       "stream": "stderr",
       "text": [
        "-c:28: DeprecationWarning: using a non-integer number instead of an integer will result in an error in the future\n",
        "-c:28: DeprecationWarning: using a non-integer number instead of an integer will result in an error in the future\n"
       ]
      },
      {
       "output_type": "stream",
       "stream": "stderr",
       "text": [
        "-c:28: DeprecationWarning: using a non-integer number instead of an integer will result in an error in the future\n",
        "-c:31: DeprecationWarning: using a non-integer number instead of an integer will result in an error in the future\n",
        "-c:31: DeprecationWarning: using a non-integer number instead of an integer will result in an error in the future\n",
        "-c:28: DeprecationWarning: using a non-integer number instead of an integer will result in an error in the future\n"
       ]
      },
      {
       "output_type": "stream",
       "stream": "stderr",
       "text": [
        "-c:28: DeprecationWarning: using a non-integer number instead of an integer will result in an error in the future\n",
        "-c:31: DeprecationWarning: using a non-integer number instead of an integer will result in an error in the future\n",
        "-c:31: DeprecationWarning: using a non-integer number instead of an integer will result in an error in the future\n",
        "-c:28: DeprecationWarning: using a non-integer number instead of an integer will result in an error in the future\n"
       ]
      },
      {
       "output_type": "stream",
       "stream": "stderr",
       "text": [
        "-c:28: DeprecationWarning: using a non-integer number instead of an integer will result in an error in the future\n",
        "-c:31: DeprecationWarning: using a non-integer number instead of an integer will result in an error in the future\n",
        "-c:31: DeprecationWarning: using a non-integer number instead of an integer will result in an error in the future\n",
        "-c:28: DeprecationWarning: using a non-integer number instead of an integer will result in an error in the future\n"
       ]
      },
      {
       "output_type": "stream",
       "stream": "stderr",
       "text": [
        "-c:28: DeprecationWarning: using a non-integer number instead of an integer will result in an error in the future\n",
        "-c:31: DeprecationWarning: using a non-integer number instead of an integer will result in an error in the future\n",
        "-c:31: DeprecationWarning: using a non-integer number instead of an integer will result in an error in the future\n",
        "-c:28: DeprecationWarning: using a non-integer number instead of an integer will result in an error in the future\n"
       ]
      },
      {
       "output_type": "stream",
       "stream": "stderr",
       "text": [
        "-c:28: DeprecationWarning: using a non-integer number instead of an integer will result in an error in the future\n",
        "-c:31: DeprecationWarning: using a non-integer number instead of an integer will result in an error in the future\n",
        "-c:31: DeprecationWarning: using a non-integer number instead of an integer will result in an error in the future\n",
        "-c:28: DeprecationWarning: using a non-integer number instead of an integer will result in an error in the future\n"
       ]
      },
      {
       "output_type": "stream",
       "stream": "stderr",
       "text": [
        "-c:28: DeprecationWarning: using a non-integer number instead of an integer will result in an error in the future\n",
        "-c:31: DeprecationWarning: using a non-integer number instead of an integer will result in an error in the future\n",
        "-c:31: DeprecationWarning: using a non-integer number instead of an integer will result in an error in the future\n",
        "-c:28: DeprecationWarning: using a non-integer number instead of an integer will result in an error in the future\n"
       ]
      },
      {
       "output_type": "stream",
       "stream": "stderr",
       "text": [
        "-c:28: DeprecationWarning: using a non-integer number instead of an integer will result in an error in the future\n",
        "-c:31: DeprecationWarning: using a non-integer number instead of an integer will result in an error in the future\n",
        "-c:31: DeprecationWarning: using a non-integer number instead of an integer will result in an error in the future\n",
        "-c:28: DeprecationWarning: using a non-integer number instead of an integer will result in an error in the future\n"
       ]
      },
      {
       "output_type": "stream",
       "stream": "stderr",
       "text": [
        "-c:28: DeprecationWarning: using a non-integer number instead of an integer will result in an error in the future\n",
        "-c:31: DeprecationWarning: using a non-integer number instead of an integer will result in an error in the future\n",
        "-c:31: DeprecationWarning: using a non-integer number instead of an integer will result in an error in the future\n",
        "-c:28: DeprecationWarning: using a non-integer number instead of an integer will result in an error in the future\n"
       ]
      },
      {
       "output_type": "stream",
       "stream": "stderr",
       "text": [
        "-c:28: DeprecationWarning: using a non-integer number instead of an integer will result in an error in the future\n",
        "-c:31: DeprecationWarning: using a non-integer number instead of an integer will result in an error in the future\n",
        "-c:31: DeprecationWarning: using a non-integer number instead of an integer will result in an error in the future\n",
        "-c:28: DeprecationWarning: using a non-integer number instead of an integer will result in an error in the future\n"
       ]
      },
      {
       "output_type": "stream",
       "stream": "stderr",
       "text": [
        "-c:28: DeprecationWarning: using a non-integer number instead of an integer will result in an error in the future\n",
        "-c:31: DeprecationWarning: using a non-integer number instead of an integer will result in an error in the future\n",
        "-c:31: DeprecationWarning: using a non-integer number instead of an integer will result in an error in the future\n",
        "-c:28: DeprecationWarning: using a non-integer number instead of an integer will result in an error in the future\n"
       ]
      },
      {
       "output_type": "stream",
       "stream": "stderr",
       "text": [
        "-c:28: DeprecationWarning: using a non-integer number instead of an integer will result in an error in the future\n",
        "-c:28: DeprecationWarning: using a non-integer number instead of an integer will result in an error in the future\n"
       ]
      },
      {
       "output_type": "stream",
       "stream": "stderr",
       "text": [
        "-c:28: DeprecationWarning: using a non-integer number instead of an integer will result in an error in the future\n",
        "-c:28: DeprecationWarning: using a non-integer number instead of an integer will result in an error in the future\n"
       ]
      },
      {
       "output_type": "stream",
       "stream": "stderr",
       "text": [
        "-c:28: DeprecationWarning: using a non-integer number instead of an integer will result in an error in the future\n",
        "-c:28: DeprecationWarning: using a non-integer number instead of an integer will result in an error in the future\n"
       ]
      },
      {
       "output_type": "stream",
       "stream": "stderr",
       "text": [
        "-c:28: DeprecationWarning: using a non-integer number instead of an integer will result in an error in the future\n",
        "-c:28: DeprecationWarning: using a non-integer number instead of an integer will result in an error in the future\n"
       ]
      },
      {
       "output_type": "stream",
       "stream": "stderr",
       "text": [
        "-c:28: DeprecationWarning: using a non-integer number instead of an integer will result in an error in the future\n",
        "-c:28: DeprecationWarning: using a non-integer number instead of an integer will result in an error in the future\n"
       ]
      },
      {
       "output_type": "stream",
       "stream": "stderr",
       "text": [
        "-c:28: DeprecationWarning: using a non-integer number instead of an integer will result in an error in the future\n",
        "-c:28: DeprecationWarning: using a non-integer number instead of an integer will result in an error in the future\n"
       ]
      },
      {
       "output_type": "stream",
       "stream": "stderr",
       "text": [
        "-c:28: DeprecationWarning: using a non-integer number instead of an integer will result in an error in the future\n",
        "-c:28: DeprecationWarning: using a non-integer number instead of an integer will result in an error in the future\n"
       ]
      },
      {
       "output_type": "stream",
       "stream": "stderr",
       "text": [
        "-c:28: DeprecationWarning: using a non-integer number instead of an integer will result in an error in the future\n",
        "-c:28: DeprecationWarning: using a non-integer number instead of an integer will result in an error in the future\n"
       ]
      },
      {
       "output_type": "stream",
       "stream": "stderr",
       "text": [
        "-c:28: DeprecationWarning: using a non-integer number instead of an integer will result in an error in the future\n",
        "-c:31: DeprecationWarning: using a non-integer number instead of an integer will result in an error in the future\n",
        "-c:31: DeprecationWarning: using a non-integer number instead of an integer will result in an error in the future\n",
        "-c:28: DeprecationWarning: using a non-integer number instead of an integer will result in an error in the future\n"
       ]
      },
      {
       "output_type": "stream",
       "stream": "stderr",
       "text": [
        "-c:28: DeprecationWarning: using a non-integer number instead of an integer will result in an error in the future\n",
        "-c:28: DeprecationWarning: using a non-integer number instead of an integer will result in an error in the future\n"
       ]
      },
      {
       "output_type": "stream",
       "stream": "stderr",
       "text": [
        "-c:28: DeprecationWarning: using a non-integer number instead of an integer will result in an error in the future\n",
        "-c:28: DeprecationWarning: using a non-integer number instead of an integer will result in an error in the future\n"
       ]
      },
      {
       "output_type": "stream",
       "stream": "stderr",
       "text": [
        "-c:28: DeprecationWarning: using a non-integer number instead of an integer will result in an error in the future\n",
        "-c:28: DeprecationWarning: using a non-integer number instead of an integer will result in an error in the future\n"
       ]
      },
      {
       "output_type": "stream",
       "stream": "stderr",
       "text": [
        "-c:28: DeprecationWarning: using a non-integer number instead of an integer will result in an error in the future\n",
        "-c:31: DeprecationWarning: using a non-integer number instead of an integer will result in an error in the future\n",
        "-c:31: DeprecationWarning: using a non-integer number instead of an integer will result in an error in the future\n",
        "-c:28: DeprecationWarning: using a non-integer number instead of an integer will result in an error in the future\n"
       ]
      },
      {
       "output_type": "stream",
       "stream": "stderr",
       "text": [
        "-c:28: DeprecationWarning: using a non-integer number instead of an integer will result in an error in the future\n",
        "-c:28: DeprecationWarning: using a non-integer number instead of an integer will result in an error in the future\n"
       ]
      },
      {
       "output_type": "stream",
       "stream": "stderr",
       "text": [
        "-c:28: DeprecationWarning: using a non-integer number instead of an integer will result in an error in the future\n",
        "-c:28: DeprecationWarning: using a non-integer number instead of an integer will result in an error in the future\n"
       ]
      },
      {
       "output_type": "stream",
       "stream": "stderr",
       "text": [
        "-c:28: DeprecationWarning: using a non-integer number instead of an integer will result in an error in the future\n",
        "-c:28: DeprecationWarning: using a non-integer number instead of an integer will result in an error in the future\n"
       ]
      },
      {
       "output_type": "stream",
       "stream": "stderr",
       "text": [
        "-c:28: DeprecationWarning: using a non-integer number instead of an integer will result in an error in the future\n",
        "-c:31: DeprecationWarning: using a non-integer number instead of an integer will result in an error in the future\n",
        "-c:31: DeprecationWarning: using a non-integer number instead of an integer will result in an error in the future\n",
        "-c:28: DeprecationWarning: using a non-integer number instead of an integer will result in an error in the future\n"
       ]
      },
      {
       "output_type": "stream",
       "stream": "stderr",
       "text": [
        "-c:28: DeprecationWarning: using a non-integer number instead of an integer will result in an error in the future\n",
        "-c:28: DeprecationWarning: using a non-integer number instead of an integer will result in an error in the future\n"
       ]
      },
      {
       "output_type": "stream",
       "stream": "stderr",
       "text": [
        "-c:28: DeprecationWarning: using a non-integer number instead of an integer will result in an error in the future\n",
        "-c:28: DeprecationWarning: using a non-integer number instead of an integer will result in an error in the future\n"
       ]
      },
      {
       "output_type": "stream",
       "stream": "stderr",
       "text": [
        "-c:28: DeprecationWarning: using a non-integer number instead of an integer will result in an error in the future\n",
        "-c:28: DeprecationWarning: using a non-integer number instead of an integer will result in an error in the future\n"
       ]
      },
      {
       "output_type": "stream",
       "stream": "stderr",
       "text": [
        "-c:28: DeprecationWarning: using a non-integer number instead of an integer will result in an error in the future\n",
        "-c:28: DeprecationWarning: using a non-integer number instead of an integer will result in an error in the future\n"
       ]
      },
      {
       "output_type": "stream",
       "stream": "stderr",
       "text": [
        "-c:28: DeprecationWarning: using a non-integer number instead of an integer will result in an error in the future\n",
        "-c:28: DeprecationWarning: using a non-integer number instead of an integer will result in an error in the future\n"
       ]
      },
      {
       "output_type": "stream",
       "stream": "stderr",
       "text": [
        "-c:28: DeprecationWarning: using a non-integer number instead of an integer will result in an error in the future\n",
        "-c:28: DeprecationWarning: using a non-integer number instead of an integer will result in an error in the future\n"
       ]
      },
      {
       "output_type": "stream",
       "stream": "stderr",
       "text": [
        "-c:28: DeprecationWarning: using a non-integer number instead of an integer will result in an error in the future\n",
        "-c:28: DeprecationWarning: using a non-integer number instead of an integer will result in an error in the future\n"
       ]
      },
      {
       "output_type": "stream",
       "stream": "stderr",
       "text": [
        "-c:28: DeprecationWarning: using a non-integer number instead of an integer will result in an error in the future\n",
        "-c:28: DeprecationWarning: using a non-integer number instead of an integer will result in an error in the future\n"
       ]
      },
      {
       "output_type": "stream",
       "stream": "stderr",
       "text": [
        "-c:28: DeprecationWarning: using a non-integer number instead of an integer will result in an error in the future\n",
        "-c:28: DeprecationWarning: using a non-integer number instead of an integer will result in an error in the future\n"
       ]
      },
      {
       "output_type": "stream",
       "stream": "stderr",
       "text": [
        "-c:28: DeprecationWarning: using a non-integer number instead of an integer will result in an error in the future\n",
        "-c:31: DeprecationWarning: using a non-integer number instead of an integer will result in an error in the future\n",
        "-c:31: DeprecationWarning: using a non-integer number instead of an integer will result in an error in the future\n",
        "-c:28: DeprecationWarning: using a non-integer number instead of an integer will result in an error in the future\n"
       ]
      },
      {
       "output_type": "stream",
       "stream": "stderr",
       "text": [
        "-c:28: DeprecationWarning: using a non-integer number instead of an integer will result in an error in the future\n",
        "-c:28: DeprecationWarning: using a non-integer number instead of an integer will result in an error in the future\n"
       ]
      },
      {
       "output_type": "stream",
       "stream": "stderr",
       "text": [
        "-c:28: DeprecationWarning: using a non-integer number instead of an integer will result in an error in the future\n",
        "-c:28: DeprecationWarning: using a non-integer number instead of an integer will result in an error in the future\n"
       ]
      },
      {
       "output_type": "stream",
       "stream": "stderr",
       "text": [
        "-c:28: DeprecationWarning: using a non-integer number instead of an integer will result in an error in the future\n",
        "-c:28: DeprecationWarning: using a non-integer number instead of an integer will result in an error in the future\n"
       ]
      },
      {
       "output_type": "stream",
       "stream": "stderr",
       "text": [
        "-c:28: DeprecationWarning: using a non-integer number instead of an integer will result in an error in the future\n",
        "-c:31: DeprecationWarning: using a non-integer number instead of an integer will result in an error in the future\n",
        "-c:31: DeprecationWarning: using a non-integer number instead of an integer will result in an error in the future\n",
        "-c:28: DeprecationWarning: using a non-integer number instead of an integer will result in an error in the future\n"
       ]
      },
      {
       "output_type": "stream",
       "stream": "stderr",
       "text": [
        "-c:28: DeprecationWarning: using a non-integer number instead of an integer will result in an error in the future\n",
        "-c:31: DeprecationWarning: using a non-integer number instead of an integer will result in an error in the future\n",
        "-c:31: DeprecationWarning: using a non-integer number instead of an integer will result in an error in the future\n",
        "-c:28: DeprecationWarning: using a non-integer number instead of an integer will result in an error in the future\n"
       ]
      },
      {
       "output_type": "stream",
       "stream": "stderr",
       "text": [
        "-c:28: DeprecationWarning: using a non-integer number instead of an integer will result in an error in the future\n",
        "-c:28: DeprecationWarning: using a non-integer number instead of an integer will result in an error in the future\n"
       ]
      },
      {
       "output_type": "stream",
       "stream": "stderr",
       "text": [
        "-c:28: DeprecationWarning: using a non-integer number instead of an integer will result in an error in the future\n",
        "-c:28: DeprecationWarning: using a non-integer number instead of an integer will result in an error in the future\n"
       ]
      },
      {
       "output_type": "stream",
       "stream": "stderr",
       "text": [
        "-c:28: DeprecationWarning: using a non-integer number instead of an integer will result in an error in the future\n",
        "-c:28: DeprecationWarning: using a non-integer number instead of an integer will result in an error in the future\n"
       ]
      },
      {
       "output_type": "stream",
       "stream": "stderr",
       "text": [
        "-c:28: DeprecationWarning: using a non-integer number instead of an integer will result in an error in the future\n",
        "-c:28: DeprecationWarning: using a non-integer number instead of an integer will result in an error in the future\n"
       ]
      },
      {
       "output_type": "stream",
       "stream": "stderr",
       "text": [
        "-c:28: DeprecationWarning: using a non-integer number instead of an integer will result in an error in the future\n",
        "-c:28: DeprecationWarning: using a non-integer number instead of an integer will result in an error in the future\n"
       ]
      },
      {
       "output_type": "stream",
       "stream": "stderr",
       "text": [
        "-c:28: DeprecationWarning: using a non-integer number instead of an integer will result in an error in the future\n",
        "-c:31: DeprecationWarning: using a non-integer number instead of an integer will result in an error in the future\n",
        "-c:31: DeprecationWarning: using a non-integer number instead of an integer will result in an error in the future\n",
        "-c:28: DeprecationWarning: using a non-integer number instead of an integer will result in an error in the future\n"
       ]
      },
      {
       "output_type": "stream",
       "stream": "stderr",
       "text": [
        "-c:28: DeprecationWarning: using a non-integer number instead of an integer will result in an error in the future\n",
        "-c:28: DeprecationWarning: using a non-integer number instead of an integer will result in an error in the future\n"
       ]
      },
      {
       "output_type": "stream",
       "stream": "stderr",
       "text": [
        "-c:28: DeprecationWarning: using a non-integer number instead of an integer will result in an error in the future\n",
        "-c:28: DeprecationWarning: using a non-integer number instead of an integer will result in an error in the future\n"
       ]
      },
      {
       "output_type": "stream",
       "stream": "stderr",
       "text": [
        "-c:28: DeprecationWarning: using a non-integer number instead of an integer will result in an error in the future\n",
        "-c:28: DeprecationWarning: using a non-integer number instead of an integer will result in an error in the future\n"
       ]
      },
      {
       "output_type": "stream",
       "stream": "stderr",
       "text": [
        "-c:28: DeprecationWarning: using a non-integer number instead of an integer will result in an error in the future\n",
        "-c:31: DeprecationWarning: using a non-integer number instead of an integer will result in an error in the future\n",
        "-c:31: DeprecationWarning: using a non-integer number instead of an integer will result in an error in the future\n",
        "-c:28: DeprecationWarning: using a non-integer number instead of an integer will result in an error in the future\n"
       ]
      },
      {
       "output_type": "stream",
       "stream": "stderr",
       "text": [
        "-c:28: DeprecationWarning: using a non-integer number instead of an integer will result in an error in the future\n",
        "-c:31: DeprecationWarning: using a non-integer number instead of an integer will result in an error in the future\n",
        "-c:31: DeprecationWarning: using a non-integer number instead of an integer will result in an error in the future\n",
        "-c:28: DeprecationWarning: using a non-integer number instead of an integer will result in an error in the future\n"
       ]
      },
      {
       "output_type": "stream",
       "stream": "stderr",
       "text": [
        "-c:28: DeprecationWarning: using a non-integer number instead of an integer will result in an error in the future\n",
        "-c:31: DeprecationWarning: using a non-integer number instead of an integer will result in an error in the future\n",
        "-c:31: DeprecationWarning: using a non-integer number instead of an integer will result in an error in the future\n",
        "-c:28: DeprecationWarning: using a non-integer number instead of an integer will result in an error in the future\n"
       ]
      },
      {
       "output_type": "stream",
       "stream": "stderr",
       "text": [
        "-c:28: DeprecationWarning: using a non-integer number instead of an integer will result in an error in the future\n",
        "-c:28: DeprecationWarning: using a non-integer number instead of an integer will result in an error in the future\n"
       ]
      },
      {
       "output_type": "stream",
       "stream": "stderr",
       "text": [
        "-c:28: DeprecationWarning: using a non-integer number instead of an integer will result in an error in the future\n",
        "-c:31: DeprecationWarning: using a non-integer number instead of an integer will result in an error in the future\n",
        "-c:31: DeprecationWarning: using a non-integer number instead of an integer will result in an error in the future\n",
        "-c:28: DeprecationWarning: using a non-integer number instead of an integer will result in an error in the future\n"
       ]
      },
      {
       "output_type": "stream",
       "stream": "stderr",
       "text": [
        "-c:28: DeprecationWarning: using a non-integer number instead of an integer will result in an error in the future\n",
        "-c:31: DeprecationWarning: using a non-integer number instead of an integer will result in an error in the future\n",
        "-c:31: DeprecationWarning: using a non-integer number instead of an integer will result in an error in the future\n",
        "-c:28: DeprecationWarning: using a non-integer number instead of an integer will result in an error in the future\n"
       ]
      },
      {
       "output_type": "stream",
       "stream": "stderr",
       "text": [
        "-c:28: DeprecationWarning: using a non-integer number instead of an integer will result in an error in the future\n",
        "-c:31: DeprecationWarning: using a non-integer number instead of an integer will result in an error in the future\n",
        "-c:31: DeprecationWarning: using a non-integer number instead of an integer will result in an error in the future\n",
        "-c:28: DeprecationWarning: using a non-integer number instead of an integer will result in an error in the future\n"
       ]
      },
      {
       "output_type": "stream",
       "stream": "stderr",
       "text": [
        "-c:28: DeprecationWarning: using a non-integer number instead of an integer will result in an error in the future\n",
        "-c:31: DeprecationWarning: using a non-integer number instead of an integer will result in an error in the future\n",
        "-c:31: DeprecationWarning: using a non-integer number instead of an integer will result in an error in the future\n",
        "-c:28: DeprecationWarning: using a non-integer number instead of an integer will result in an error in the future\n"
       ]
      },
      {
       "output_type": "stream",
       "stream": "stderr",
       "text": [
        "-c:28: DeprecationWarning: using a non-integer number instead of an integer will result in an error in the future\n",
        "-c:31: DeprecationWarning: using a non-integer number instead of an integer will result in an error in the future\n",
        "-c:31: DeprecationWarning: using a non-integer number instead of an integer will result in an error in the future\n",
        "-c:28: DeprecationWarning: using a non-integer number instead of an integer will result in an error in the future\n"
       ]
      },
      {
       "output_type": "stream",
       "stream": "stderr",
       "text": [
        "-c:28: DeprecationWarning: using a non-integer number instead of an integer will result in an error in the future\n",
        "-c:31: DeprecationWarning: using a non-integer number instead of an integer will result in an error in the future\n",
        "-c:31: DeprecationWarning: using a non-integer number instead of an integer will result in an error in the future\n",
        "-c:28: DeprecationWarning: using a non-integer number instead of an integer will result in an error in the future\n"
       ]
      },
      {
       "output_type": "stream",
       "stream": "stderr",
       "text": [
        "-c:28: DeprecationWarning: using a non-integer number instead of an integer will result in an error in the future\n",
        "-c:31: DeprecationWarning: using a non-integer number instead of an integer will result in an error in the future\n",
        "-c:31: DeprecationWarning: using a non-integer number instead of an integer will result in an error in the future\n",
        "-c:28: DeprecationWarning: using a non-integer number instead of an integer will result in an error in the future\n"
       ]
      },
      {
       "output_type": "stream",
       "stream": "stderr",
       "text": [
        "-c:28: DeprecationWarning: using a non-integer number instead of an integer will result in an error in the future\n",
        "-c:31: DeprecationWarning: using a non-integer number instead of an integer will result in an error in the future\n",
        "-c:31: DeprecationWarning: using a non-integer number instead of an integer will result in an error in the future\n",
        "-c:28: DeprecationWarning: using a non-integer number instead of an integer will result in an error in the future\n"
       ]
      },
      {
       "output_type": "stream",
       "stream": "stderr",
       "text": [
        "-c:28: DeprecationWarning: using a non-integer number instead of an integer will result in an error in the future\n",
        "-c:31: DeprecationWarning: using a non-integer number instead of an integer will result in an error in the future\n",
        "-c:31: DeprecationWarning: using a non-integer number instead of an integer will result in an error in the future\n",
        "-c:28: DeprecationWarning: using a non-integer number instead of an integer will result in an error in the future\n"
       ]
      },
      {
       "output_type": "stream",
       "stream": "stderr",
       "text": [
        "-c:28: DeprecationWarning: using a non-integer number instead of an integer will result in an error in the future\n",
        "-c:28: DeprecationWarning: using a non-integer number instead of an integer will result in an error in the future\n"
       ]
      },
      {
       "output_type": "stream",
       "stream": "stderr",
       "text": [
        "-c:28: DeprecationWarning: using a non-integer number instead of an integer will result in an error in the future\n",
        "-c:28: DeprecationWarning: using a non-integer number instead of an integer will result in an error in the future\n"
       ]
      },
      {
       "output_type": "stream",
       "stream": "stderr",
       "text": [
        "-c:28: DeprecationWarning: using a non-integer number instead of an integer will result in an error in the future\n",
        "-c:28: DeprecationWarning: using a non-integer number instead of an integer will result in an error in the future\n"
       ]
      },
      {
       "output_type": "stream",
       "stream": "stderr",
       "text": [
        "-c:28: DeprecationWarning: using a non-integer number instead of an integer will result in an error in the future\n",
        "-c:28: DeprecationWarning: using a non-integer number instead of an integer will result in an error in the future\n"
       ]
      },
      {
       "output_type": "stream",
       "stream": "stderr",
       "text": [
        "-c:28: DeprecationWarning: using a non-integer number instead of an integer will result in an error in the future\n",
        "-c:28: DeprecationWarning: using a non-integer number instead of an integer will result in an error in the future\n"
       ]
      },
      {
       "output_type": "stream",
       "stream": "stderr",
       "text": [
        "-c:28: DeprecationWarning: using a non-integer number instead of an integer will result in an error in the future\n",
        "-c:28: DeprecationWarning: using a non-integer number instead of an integer will result in an error in the future\n"
       ]
      },
      {
       "output_type": "stream",
       "stream": "stderr",
       "text": [
        "-c:28: DeprecationWarning: using a non-integer number instead of an integer will result in an error in the future\n",
        "-c:28: DeprecationWarning: using a non-integer number instead of an integer will result in an error in the future\n"
       ]
      },
      {
       "output_type": "stream",
       "stream": "stderr",
       "text": [
        "-c:28: DeprecationWarning: using a non-integer number instead of an integer will result in an error in the future\n",
        "-c:31: DeprecationWarning: using a non-integer number instead of an integer will result in an error in the future\n",
        "-c:31: DeprecationWarning: using a non-integer number instead of an integer will result in an error in the future\n",
        "-c:28: DeprecationWarning: using a non-integer number instead of an integer will result in an error in the future\n"
       ]
      },
      {
       "output_type": "stream",
       "stream": "stderr",
       "text": [
        "-c:28: DeprecationWarning: using a non-integer number instead of an integer will result in an error in the future\n",
        "-c:28: DeprecationWarning: using a non-integer number instead of an integer will result in an error in the future\n"
       ]
      },
      {
       "output_type": "stream",
       "stream": "stderr",
       "text": [
        "-c:28: DeprecationWarning: using a non-integer number instead of an integer will result in an error in the future\n",
        "-c:28: DeprecationWarning: using a non-integer number instead of an integer will result in an error in the future\n"
       ]
      },
      {
       "output_type": "stream",
       "stream": "stderr",
       "text": [
        "-c:28: DeprecationWarning: using a non-integer number instead of an integer will result in an error in the future\n",
        "-c:31: DeprecationWarning: using a non-integer number instead of an integer will result in an error in the future\n",
        "-c:31: DeprecationWarning: using a non-integer number instead of an integer will result in an error in the future\n",
        "-c:28: DeprecationWarning: using a non-integer number instead of an integer will result in an error in the future\n"
       ]
      },
      {
       "output_type": "stream",
       "stream": "stderr",
       "text": [
        "-c:28: DeprecationWarning: using a non-integer number instead of an integer will result in an error in the future\n",
        "-c:28: DeprecationWarning: using a non-integer number instead of an integer will result in an error in the future\n"
       ]
      },
      {
       "output_type": "stream",
       "stream": "stderr",
       "text": [
        "-c:28: DeprecationWarning: using a non-integer number instead of an integer will result in an error in the future\n",
        "-c:31: DeprecationWarning: using a non-integer number instead of an integer will result in an error in the future\n",
        "-c:31: DeprecationWarning: using a non-integer number instead of an integer will result in an error in the future\n",
        "-c:28: DeprecationWarning: using a non-integer number instead of an integer will result in an error in the future\n"
       ]
      },
      {
       "output_type": "stream",
       "stream": "stderr",
       "text": [
        "-c:28: DeprecationWarning: using a non-integer number instead of an integer will result in an error in the future\n",
        "-c:31: DeprecationWarning: using a non-integer number instead of an integer will result in an error in the future\n",
        "-c:31: DeprecationWarning: using a non-integer number instead of an integer will result in an error in the future\n",
        "-c:28: DeprecationWarning: using a non-integer number instead of an integer will result in an error in the future\n"
       ]
      },
      {
       "output_type": "stream",
       "stream": "stderr",
       "text": [
        "-c:28: DeprecationWarning: using a non-integer number instead of an integer will result in an error in the future\n",
        "-c:31: DeprecationWarning: using a non-integer number instead of an integer will result in an error in the future\n",
        "-c:31: DeprecationWarning: using a non-integer number instead of an integer will result in an error in the future\n",
        "-c:28: DeprecationWarning: using a non-integer number instead of an integer will result in an error in the future\n"
       ]
      }
     ],
     "prompt_number": 15
    },
    {
     "cell_type": "code",
     "collapsed": false,
     "input": [
      "#f=open(path+fname+'_shape_classifier.pickle', 'wb')\n",
      "pickle.dump(cellclass, f)\n",
      "f.close()"
     ],
     "language": "python",
     "metadata": {},
     "outputs": [],
     "prompt_number": 87
    },
    {
     "cell_type": "code",
     "collapsed": false,
     "input": [
      "spreds = cellclass.predict(full_props)\n",
      "for i in set(spreds):\n",
      "    print i, len(spreds[spreds==i])"
     ],
     "language": "python",
     "metadata": {},
     "outputs": [
      {
       "output_type": "stream",
       "stream": "stdout",
       "text": [
        "1 1079\n",
        "2 746\n",
        "3 139\n"
       ]
      }
     ],
     "prompt_number": 105
    },
    {
     "cell_type": "code",
     "collapsed": false,
     "input": [
      "a,b = 838., 554.\n",
      "\n",
      "b / (a+b)"
     ],
     "language": "python",
     "metadata": {},
     "outputs": [
      {
       "metadata": {},
       "output_type": "pyout",
       "prompt_number": 111,
       "text": [
        "0.39798850574712646"
       ]
      }
     ],
     "prompt_number": 111
    },
    {
     "cell_type": "code",
     "collapsed": false,
     "input": [
      "zmat = zeros(labeled.shape)\n",
      "for c in set(spreds):\n",
      "    indices = array(range(0, len(spreds)+1))[where(spreds==c)]\n",
      "    ix = in1d(labeled.ravel(), indices+1).reshape(labeled.shape)\n",
      "    zmat[ix] = c\n",
      "\n",
      "image_label_overlay = label2rgb(zmat, image=im_bf, bg_label = 0)\n",
      "marked = mark_boundaries(image_label_overlay, labeled, color=(1, 1, 1))\n",
      "\n",
      "figure(1, figsize=(10, 10))\n",
      "clf()\n",
      "imshow(marked)\n",
      "show()\n",
      "\n",
      "savefig(path+fname+'_classified.jpg', dpi=300)"
     ],
     "language": "python",
     "metadata": {},
     "outputs": [],
     "prompt_number": 107
    },
    {
     "cell_type": "code",
     "collapsed": false,
     "input": [],
     "language": "python",
     "metadata": {},
     "outputs": []
    }
   ],
   "metadata": {}
  }
 ]
}