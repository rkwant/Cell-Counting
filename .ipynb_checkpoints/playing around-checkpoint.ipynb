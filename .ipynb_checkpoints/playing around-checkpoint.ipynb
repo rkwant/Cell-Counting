{
 "metadata": {
  "name": "",
  "signature": "sha256:c5d016a6a029f1e1c80ba1535dee0350c0285a2c69706f04dc4c3977df98f78a"
 },
 "nbformat": 3,
 "nbformat_minor": 0,
 "worksheets": [
  {
   "cells": [
    {
     "cell_type": "code",
     "collapsed": false,
     "input": [
      "%pylab tk"
     ],
     "language": "python",
     "metadata": {},
     "outputs": [
      {
       "output_type": "stream",
       "stream": "stdout",
       "text": [
        "Populating the interactive namespace from numpy and matplotlib\n"
       ]
      }
     ],
     "prompt_number": 1
    },
    {
     "cell_type": "code",
     "collapsed": false,
     "input": [
      "from scipy import ndimage\n",
      "from skimage.morphology import watershed, closing, square, disk, reconstruction\n",
      "from skimage.segmentation import mark_boundaries, join_segmentations, relabel_sequential\n",
      "from skimage.feature import peak_local_max, corner_peaks\n",
      "from skimage.io import imread\n",
      "from skimage.filter import gaussian_filter, threshold_otsu, threshold_isodata, threshold_adaptive, threshold_yen, canny, sobel\n",
      "from skimage.exposure import adjust_log, adjust_sigmoid, adjust_gamma, equalize_hist, equalize_adapthist, rescale_intensity\n",
      "from skimage.measure import regionprops, label\n",
      "from skimage.color import label2rgb, rgb2gray\n",
      "from skimage.transform import hough_circle\n",
      "from skimage.filter.rank import entropy, mean_bilateral, enhance_contrast, maximum, minimum, gradient\n",
      "from skimage.restoration import denoise_bilateral\n",
      "from skimage.measure import find_contours, approximate_polygon, subdivide_polygon\n",
      "import time\n",
      "import pickle\n",
      "\n",
      "from sklearn.grid_search import GridSearchCV\n",
      "from sklearn import svm\n",
      "from sklearn.ensemble import RandomForestClassifier\n",
      "from sklearn.tree import DecisionTreeClassifier\n",
      "from sklearn.neighbors import KNeighborsClassifier\n",
      "from sklearn import linear_model\n",
      "from sklearn.mixture import GMM"
     ],
     "language": "python",
     "metadata": {},
     "outputs": [],
     "prompt_number": 28
    },
    {
     "cell_type": "code",
     "collapsed": false,
     "input": [
      "#path='/Users/richardkwant/Documents/Berkeley/rkwant/Notebook_Pages/Pages/5-066/'\n",
      "path='C:\\\\Users\\\\rkwant\\\\Documents\\\\Berkeley\\\\rkwant\\\\Notebook_Pages\\\\Pages\\\\5-066\\\\'\n",
      "image=imread(path+'Burke1.tif', as_grey=True)\n",
      "x,y=image.shape\n",
      "image = image[x/2+1:,0:y/2]"
     ],
     "language": "python",
     "metadata": {},
     "outputs": [],
     "prompt_number": 29
    },
    {
     "cell_type": "code",
     "collapsed": false,
     "input": [
      "figure(2, figsize=(20, 10))\n",
      "clf()\n",
      "sli = image[100:612,100:612]\n",
      "subplot(121)\n",
      "imshow(gaussian_filter(sli, 0))\n",
      "\n",
      "subplot(122)\n",
      "toshow=sli\n",
      "\n",
      "\n",
      "if True:\n",
      "    toshow=equalize_adapthist(toshow)\n",
      "    toshow=denoise_bilateral(toshow)\n",
      "    toshow= mean_bilateral(toshow, disk(5))\n",
      "\n",
      "i=4\n",
      "toshow = gradient(toshow, disk(i))\n",
      "#toshow = gradient(toshow, disk(i))\n",
      "#toshow=minimum(toshow, disk(2))\n",
      "\n",
      "\n",
      "imshow(gaussian_filter(sli, 0), cmap='Reds')\n",
      "\n",
      "#imshow(dstack((sli, toshow.astype(float32), zeros(toshow.shape))), alpha=1)\n"
     ],
     "language": "python",
     "metadata": {},
     "outputs": [
      {
       "metadata": {},
       "output_type": "pyout",
       "prompt_number": 107,
       "text": [
        "<matplotlib.image.AxesImage at 0x11c22978>"
       ]
      }
     ],
     "prompt_number": 107
    },
    {
     "cell_type": "code",
     "collapsed": false,
     "input": [
      "a=sli.astype(uint8)"
     ],
     "language": "python",
     "metadata": {},
     "outputs": [],
     "prompt_number": 101
    },
    {
     "cell_type": "code",
     "collapsed": false,
     "input": [
      "a.max()"
     ],
     "language": "python",
     "metadata": {},
     "outputs": [
      {
       "metadata": {},
       "output_type": "pyout",
       "prompt_number": 102,
       "text": [
        "0"
       ]
      }
     ],
     "prompt_number": 102
    },
    {
     "cell_type": "code",
     "collapsed": false,
     "input": [],
     "language": "python",
     "metadata": {},
     "outputs": []
    }
   ],
   "metadata": {}
  }
 ]
}