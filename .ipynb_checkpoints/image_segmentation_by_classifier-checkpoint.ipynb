{
 "metadata": {
  "name": "",
  "signature": "sha256:3b80f790012bd83b247c10f8a44687ce306d2bc35c02ba56e6d5cef4d5571fc5"
 },
 "nbformat": 3,
 "nbformat_minor": 0,
 "worksheets": [
  {
   "cells": [
    {
     "cell_type": "code",
     "collapsed": false,
     "input": [
      "%pylab"
     ],
     "language": "python",
     "metadata": {},
     "outputs": [
      {
       "output_type": "stream",
       "stream": "stdout",
       "text": [
        "Using matplotlib backend: MacOSX\n",
        "Populating the interactive namespace from numpy and matplotlib\n"
       ]
      }
     ],
     "prompt_number": 1
    },
    {
     "cell_type": "code",
     "collapsed": false,
     "input": [
      "from scipy import ndimage\n",
      "from skimage.morphology import watershed\n",
      "from skimage.segmentation import mark_boundaries, join_segmentations, relabel_sequential\n",
      "from skimage.feature import peak_local_max, corner_peaks\n",
      "from skimage.io import imread\n",
      "from skimage.filter import gaussian_filter, threshold_otsu, threshold_isodata, threshold_adaptive, threshold_yen, canny, sobel\n",
      "from skimage.exposure import adjust_log, adjust_sigmoid, adjust_gamma, equalize_hist, equalize_adapthist, rescale_intensity\n",
      "from skimage.measure import regionprops\n",
      "from skimage.color import label2rgb\n",
      "from skimage.transform import hough_circle\n",
      "import time\n",
      "import pickle\n",
      "\n",
      "from sklearn.grid_search import GridSearchCV\n",
      "from sklearn import svm\n",
      "from sklearn.ensemble import RandomForestClassifier\n",
      "from sklearn.tree import DecisionTreeClassifier\n",
      "from sklearn.neighbors import KNeighborsClassifier\n",
      "from sklearn import linear_model\n",
      "from sklearn.mixture import GMM"
     ],
     "language": "python",
     "metadata": {},
     "outputs": [],
     "prompt_number": 2
    },
    {
     "cell_type": "code",
     "collapsed": false,
     "input": [
      "class ImageCounter:\n",
      "    '''a class to train and apply counting on images'''\n",
      "    def __init__(self, image):\n",
      "        self.training_image = image\n",
      "        self.training_description = self.describe(self.training_image)\n",
      "        self.cls = None\n",
      "        self.training = None\n",
      "        self.classifications = None\n",
      "        \n",
      "    def describe(self, image):\n",
      "        im_range = [image.copy(), equalize_adapthist(image), sobel(image), sobel(equalize_adapthist(image))]\n",
      "        im_edges_ranges = [canny(image, sigma=i) for i in arange(0.5, 2, 0.5)]\n",
      "        hough_ranges = []\n",
      "        for k in im_edges_ranges:\n",
      "            hough_ranges = hough_ranges+[i for i in hough_circle(k, arange(3,7,1))]\n",
      "        gauss_ranges = [equalize_adapthist(gaussian_filter(image, i) - gaussian_filter(image, i+1)) for i in arange(2,7,1)]\n",
      "        des = array(im_range+im_edges_ranges+hough_ranges+gauss_ranges)\n",
      "        descriptors = des.reshape(des.shape[0],-1).transpose()\n",
      "        return descriptors\n",
      "    \n",
      "    def get_imdex(self, x, y, image):\n",
      "        return int(y*image.shape[1] + x)\n",
      "    \n",
      "    def train(self, keys, classifications):\n",
      "        training = [self.training_description[self.get_imdex(j[0], j[1], self.training_image)] for j in keys]\n",
      "        self.training = training\n",
      "        self.classifications = classifications\n",
      "        self.cls = KNeighborsClassifier()#RandomForestClassifier(n_jobs=-1)#KNeighborsClassifier()##svm.SVC(probability=True)\n",
      "        self.cls.fit(training, classifications)\n",
      "        \n",
      "    def retrain(self):\n",
      "        self.cls.fit(self.training, self.classifications)\n",
      "        \n",
      "    def get_cls(self):\n",
      "        return self.cls\n",
      "    \n",
      "    def set_cls(self, s):\n",
      "        self.cls = s\n",
      "        \n",
      "    def training_predict(self):\n",
      "        if self.cls is None: return\n",
      "        linear_prediction = self.cls.predict_proba(self.training_description)\n",
      "        return linear_prediction[:,0].reshape(self.training_image.shape)\n",
      "    \n",
      "    def training_segment(self):\n",
      "        if self.cls is None: return\n",
      "        linear_prediction = self.cls.predict(self.training_description)\n",
      "        return linear_prediction.reshape(self.training_image.shape)\n",
      "    \n",
      "    def predict(self, image):\n",
      "        if self.cls is None: return\n",
      "        linear_prediction = self.cls.predict_proba(self.describe(image))\n",
      "        return linear_prediction[:,0].reshape(image.shape)\n",
      "    \n",
      "    def count(self, image):\n",
      "        r = 3\n",
      "        a, b = r, r\n",
      "        n = 2*a+1\n",
      "        y,x = np.ogrid[-a:n-a, -b:n-b]\n",
      "        mask = x*x + y*y <= r*r\n",
      "        prediction = self.predict(image)\n",
      "        prediction = gaussian_filter(prediction, 1)\n",
      "        local_maxi = peak_local_max(prediction, indices=False, exclude_border=False, footprint=mask)\n",
      "        markers = ndimage.label(local_maxi)[0]\n",
      "        return markers.max()"
     ],
     "language": "python",
     "metadata": {},
     "outputs": [],
     "prompt_number": 3
    },
    {
     "cell_type": "code",
     "collapsed": false,
     "input": [
      "path='/Users/richardkwant/Documents/Berkeley/rkwant/Notebook_Pages/Pages/5-066/'\n",
      "#path='C:\\\\Users\\\\rkwant\\\\Documents\\\\Berkeley\\\\rkwant\\\\Notebook_Pages\\\\Pages\\\\5-066\\\\'\n",
      "image=imread(path+'Burke1.tif', as_grey=True)\n",
      "x,y=image.shape\n",
      "image = image[x/2+1:,0:y/2]\n",
      "image=image[:500, :500]"
     ],
     "language": "python",
     "metadata": {},
     "outputs": [],
     "prompt_number": 4
    },
    {
     "cell_type": "code",
     "collapsed": false,
     "input": [
      "#figure 1 will show the image\n",
      "fig = figure(1)\n",
      "clf()\n",
      "ax1 = subplot(1,2,1)\n",
      "ax1.imshow(image, cmap='bone', interpolation='nearest')\n",
      "ax2 = subplot(1,2,2, sharex=ax1, sharey=ax1)\n",
      "ax2.imshow(image, cmap='bone')\n",
      "show()\n",
      "\n",
      "#figure 2 will show counting results\n",
      "fig2=figure(2)\n",
      "ax3=subplot(1,1,1)\n",
      "show()\n",
      "\n",
      "inpoints=[]\n",
      "outpoints=[]\n",
      "countresults=[]\n",
      "\n",
      "counter = ImageCounter(image)\n",
      "settings = None\n",
      "pts1=None\n",
      "pts2=None\n",
      "pts3=None\n",
      "\n",
      "def onclick(event):\n",
      "    global pts1, pts2, pts3\n",
      "    if get_current_fig_manager().toolbar.mode != '': return\n",
      "    \n",
      "    settings = (ax1.get_xlim(), ax1.get_ylim())\n",
      "    x,y = event.xdata, event.ydata\n",
      "    xf, yf = round(x), round(y)    \n",
      "    if event.button ==1: \n",
      "        inpoints.append((xf, yf))\n",
      "    elif event.button==3:\n",
      "        outpoints.append((xf,yf))\n",
      "    \n",
      "    def getimdex(xx,yy):\n",
      "        return int(yy*image.shape[0] + xx)\n",
      "    \n",
      "    #ax2.imshow(test.reshape(image.shape))\n",
      "    \n",
      "    if len(inpoints) < 1 or len(outpoints) < 1: return\n",
      "    \n",
      "    #ax1.cla()\n",
      "    #ax1.imshow(image, cmap='bone', interpolation='nearest')\n",
      "    ip, op = array(inpoints), array(outpoints)\n",
      "    #if pts1 is not None: pts1[0].remove()\n",
      "    #if pts2 is not None: pts2[0].remove()\n",
      "    pts1 = ax1.plot(ip[:,0], ip[:,1], 'o', color='green')\n",
      "    pts2 = ax1.plot(op[:,0], op[:,1], 'o', color='red')\n",
      "    #ax1.plot(nz[1], nz[0], '.', color='purple')\n",
      "    \n",
      "    #ax1.set_xlim(settings[0])\n",
      "    #ax1.set_ylim(settings[1])\n",
      "    fig2.canvas.draw()\n",
      "    fig.canvas.draw()\n",
      "    \n",
      "def onkey(event):\n",
      "    global pts1, pts2, pts3\n",
      "    if event.key != 'u': return\n",
      "    print 'pressed u'\n",
      "    settings = (ax1.get_xlim(), ax1.get_ylim())\n",
      "    training = inpoints+outpoints\n",
      "    classes = [0 for i in range(0, len(inpoints))] + [1 for i in range(0, len(outpoints))]    \n",
      "    \n",
      "    counter.train(training, classes)\n",
      "    #results = counter.training_predict()\n",
      "    results = counter.training_segment()\n",
      "    \n",
      "    ax2.cla()\n",
      "    ax2.imshow(results)\n",
      "    '''if pts3 is not None: pts3[0].remove()\n",
      "    \n",
      "    \n",
      "    r = 3\n",
      "    a, b = r, r\n",
      "    n = 2*a+1\n",
      "    y,x = np.ogrid[-a:n-a, -b:n-b]\n",
      "    mask = x*x + y*y <= r*r\n",
      "    \n",
      "    prediction = gaussian_filter(results, 1)\n",
      "    local_maxi = peak_local_max(prediction, indices=False, exclude_border=False, footprint=mask)\n",
      "    markers = ndimage.label(local_maxi)[0]\n",
      "    ax2.imshow(prediction, cmap='bone')\n",
      "    nz = nonzero(markers)\n",
      "    ax2.plot(nz[1], nz[0], '.', color='purple')\n",
      "    pts3 = ax1.plot(nz[1], nz[0], '.', color='purple')\n",
      "    #print markers.max()\n",
      "    countresults.append(markers.max())\n",
      "           \n",
      "    ax2.set_xlim(settings[0])\n",
      "    ax2.set_ylim(settings[1])\n",
      "    \n",
      "    ax3.cla()\n",
      "    ax3.plot(countresults)\n",
      "    '''\n",
      "    fig2.canvas.draw()\n",
      "    fig.canvas.draw()\n",
      "cid = fig.canvas.mpl_connect(\"button_press_event\", onclick)\n",
      "pid = fig.canvas.mpl_connect(\"key_press_event\", onkey)\n",
      "#tight_layout()\n",
      "show()"
     ],
     "language": "python",
     "metadata": {},
     "outputs": [
      {
       "output_type": "stream",
       "stream": "stderr",
       "text": [
        "/Users/richardkwant/Library/Enthought/Canopy_64bit/User/lib/python2.7/site-packages/skimage/util/dtype.py:107: UserWarning: Possible precision loss when converting from float64 to uint16\n",
        "  \"%s to %s\" % (dtypeobj_in, dtypeobj))\n",
        "/Users/richardkwant/Library/Enthought/Canopy_64bit/User/lib/python2.7/site-packages/skimage/util/shape.py:92: RuntimeWarning: Cannot provide views on a non-contiguous input array without copying.\n",
        "  warn(RuntimeWarning(\"Cannot provide views on a non-contiguous input \"\n"
       ]
      },
      {
       "output_type": "stream",
       "stream": "stdout",
       "text": [
        "pressed u\n",
        "pressed u"
       ]
      },
      {
       "output_type": "stream",
       "stream": "stdout",
       "text": [
        "\n",
        "pressed u"
       ]
      },
      {
       "output_type": "stream",
       "stream": "stdout",
       "text": [
        "\n",
        "pressed u"
       ]
      },
      {
       "output_type": "stream",
       "stream": "stdout",
       "text": [
        "\n",
        "pressed u"
       ]
      },
      {
       "output_type": "stream",
       "stream": "stdout",
       "text": [
        "\n",
        "pressed u"
       ]
      },
      {
       "output_type": "stream",
       "stream": "stdout",
       "text": [
        "\n",
        "pressed u"
       ]
      }
     ],
     "prompt_number": 5
    },
    {
     "cell_type": "code",
     "collapsed": false,
     "input": [
      "counter.training_description = None\n",
      "counter.training_image = None\n",
      "counter.training = None\n",
      "counter.classifications = None\n",
      "f=open(path+'Burke1_counter.pickle', 'wb')\n",
      "pickle.dump(counter, f)\n",
      "f.close()"
     ],
     "language": "python",
     "metadata": {},
     "outputs": [
      {
       "output_type": "stream",
       "stream": "stdout",
       "text": [
        "\n"
       ]
      }
     ],
     "prompt_number": 23
    },
    {
     "cell_type": "code",
     "collapsed": false,
     "input": [
      "start = time.time()\n",
      "im_range = [image.copy(), equalize_adapthist(image), sobel(image), sobel(equalize_adapthist(image))]\n",
      "im_edges_ranges = [canny(image, sigma=i) for i in arange(0.5, 2, 0.5)]\n",
      "hough_ranges = []\n",
      "for k in im_edges_ranges:\n",
      "    hough_ranges = hough_ranges+[i for i in hough_circle(k, arange(3,7,1))]\n",
      "gauss_ranges = [equalize_adapthist(gaussian_filter(image, i) - gaussian_filter(image, i+1)) for i in arange(2,7,1)]\n",
      "des = array(im_range+im_edges_ranges+hough_ranges+gauss_ranges)\n",
      "descriptors = des.reshape(des.shape[0],-1).transpose()\n",
      "print time.time()-start"
     ],
     "language": "python",
     "metadata": {},
     "outputs": [
      {
       "output_type": "stream",
       "stream": "stdout",
       "text": [
        "24.7650001049\n"
       ]
      }
     ],
     "prompt_number": 61
    },
    {
     "cell_type": "code",
     "collapsed": false,
     "input": [
      "figure(1)\n",
      "clf()\n",
      "sli = image[600:860, 150:350]\n",
      "subplot(1,2,1)\n",
      "imshow(sli)\n",
      "subplot(1,2,2)\n",
      "i=6\n",
      "toshow=(gaussian_filter(image, i) - gaussian_filter(image, i+1))[600:860, 150:350]\n",
      "imshow(toshow)\n",
      "show()"
     ],
     "language": "python",
     "metadata": {},
     "outputs": [],
     "prompt_number": 62
    },
    {
     "cell_type": "code",
     "collapsed": false,
     "input": [
      "#print out images with counting ticks\n",
      "fname='SAV2'\n",
      "image=imread(path+fname+'.tif', as_grey=True)\n",
      "x,y=image.shape\n",
      "image = image[x/2+1:,0:y/2]\n",
      "#image=image[:300, :300]\n",
      "\n",
      "results = counter.predict(image)\n",
      "\n",
      "r = 3\n",
      "a, b = r, r\n",
      "n = 2*a+1\n",
      "y,x = np.ogrid[-a:n-a, -b:n-b]\n",
      "mask = x*x + y*y <= r*r\n",
      "prediction = results\n",
      "prediction = gaussian_filter(prediction, 1)\n",
      "local_maxi = peak_local_max(prediction, indices=False, exclude_border=False, footprint=mask)\n",
      "markers = ndimage.label(local_maxi)[0]\n",
      "nz = nonzero(markers)\n",
      "\n",
      "markers.max()\n",
      "\n",
      "figure(1)\n",
      "clf()\n",
      "imshow(image, cmap='bone')\n",
      "plot(nz[1], nz[0], '.', color='purple')\n",
      "title('found %d cells'%(markers.max()))\n",
      "tight_layout()\n",
      "show()\n",
      "\n",
      "savefig(path+fname+'_count.jpg', bbox_inches=0)"
     ],
     "language": "python",
     "metadata": {},
     "outputs": [],
     "prompt_number": 32
    },
    {
     "cell_type": "heading",
     "level": 1,
     "metadata": {},
     "source": [
      "Validation"
     ]
    },
    {
     "cell_type": "code",
     "collapsed": false,
     "input": [
      "x,y = image.shape\n",
      "slice_x, slice_y = int(x/15), int(y/15)\n",
      "maxes = array([x-slice_x, y-slice_y])\n",
      "\n",
      "f=figure(3)\n",
      "ax1=subplot(1,2,1)\n",
      "ax2=subplot(1,2,2)\n",
      "show()\n",
      "\n",
      "\n",
      "points = 0\n",
      "tallies = []\n",
      "\n",
      "def key_listen(event):\n",
      "    global points, tallies, imslice\n",
      "    if event.button == 3:\n",
      "        tallies.append((points, counter.count(imslice)))\n",
      "        points=0\n",
      "        ax2.cla()\n",
      "        results = array(tallies)\n",
      "        ax2.plot(results[:,0], results[:,1], 'o')\n",
      "        show_next()\n",
      "    else:\n",
      "        settings=(ax1.get_xlim(), ax1.get_ylim())\n",
      "        ax1.plot(event.xdata, event.ydata, 'ro')\n",
      "        points = points + 1\n",
      "        ax1.set_xlim(settings[0])\n",
      "        ax1.set_ylim(settings[1])\n",
      "        f.canvas.draw()\n",
      "    \n",
      "\n",
      "\n",
      "def show_next():\n",
      "    global imslice\n",
      "    indices = (rand(2)*maxes).astype(int)\n",
      "    imslice = image[indices[0]:indices[0]+slice_x, indices[1]:indices[1]+slice_y]\n",
      "    ax1.cla()\n",
      "    ax1.imshow(imslice, cmap='bone', interpolation='nearest')\n",
      "    f.canvas.draw()\n",
      "\n",
      "f.canvas.mpl_connect('button_press_event', key_listen)\n",
      "show_next()"
     ],
     "language": "python",
     "metadata": {},
     "outputs": [
      {
       "output_type": "stream",
       "stream": "stdout",
       "text": [
        "pressed u\n"
       ]
      },
      {
       "output_type": "stream",
       "stream": "stderr",
       "text": [
        "Exception in Tkinter callback\n",
        "Traceback (most recent call last):\n",
        "  File \"C:\\Users\\rkwant\\AppData\\Local\\Enthought\\Canopy\\App\\appdata\\canopy-1.4.1.1975.win-x86_64\\lib\\lib-tk\\Tkinter.py\", line 1470, in __call__\n",
        "    return self.func(*args)\n",
        "  File \"C:\\Users\\rkwant\\AppData\\Local\\Enthought\\Canopy\\User\\lib\\site-packages\\matplotlib\\backends\\backend_tkagg.py\", line 398, in button_press_event\n",
        "    FigureCanvasBase.button_press_event(self, x, y, num, dblclick=dblclick, guiEvent=event)\n",
        "  File \"C:\\Users\\rkwant\\AppData\\Local\\Enthought\\Canopy\\User\\lib\\site-packages\\matplotlib\\backend_bases.py\", line 1870, in button_press_event\n",
        "    self.callbacks.process(s, mouseevent)\n",
        "  File \"C:\\Users\\rkwant\\AppData\\Local\\Enthought\\Canopy\\User\\lib\\site-packages\\matplotlib\\cbook.py\", line 540, in process\n",
        "    proxy(*args, **kwargs)\n",
        "  File \"C:\\Users\\rkwant\\AppData\\Local\\Enthought\\Canopy\\User\\lib\\site-packages\\matplotlib\\cbook.py\", line 415, in __call__\n",
        "    return mtd(*args, **kwargs)\n",
        "  File \"<ipython-input-6-504350c95c8e>\", line 31, in onclick\n",
        "    xf, yf = int(round(x)), int(round(y))\n",
        "TypeError: a float is required\n"
       ]
      }
     ],
     "prompt_number": 7
    },
    {
     "cell_type": "code",
     "collapsed": false,
     "input": [
      "points"
     ],
     "language": "python",
     "metadata": {},
     "outputs": [
      {
       "metadata": {},
       "output_type": "pyout",
       "prompt_number": 28,
       "text": [
        "[1, 1, 1, 1, 1, 1, 1]"
       ]
      }
     ],
     "prompt_number": 28
    },
    {
     "cell_type": "code",
     "collapsed": false,
     "input": [
      "figure(2)\n",
      "clf()\n",
      "imshow(image)\n",
      "show()"
     ],
     "language": "python",
     "metadata": {},
     "outputs": [],
     "prompt_number": 54
    },
    {
     "cell_type": "code",
     "collapsed": false,
     "input": [
      "figure(3)\n",
      "clf()\n",
      "i=6\n",
      "theim = sobel(image)\n",
      "theim = theim\n",
      "imshow(gaussian_filter(image, i) - gaussian_filter(image, i+1))\n",
      "show()"
     ],
     "language": "python",
     "metadata": {},
     "outputs": [],
     "prompt_number": 31
    },
    {
     "cell_type": "code",
     "collapsed": false,
     "input": [
      "im_range = [image]\n",
      "im_edges_ranges = [canny(image, sigma=i) for i in arange(0.1, 1.1, 0.1)]\n",
      "hough_ranges = [gaussian_filter(hough_circle(k, array([1]))[0], 1) for k in im_edges_ranges]\n",
      "gauss_ranges = [gaussian_filter(image, i) - gaussian_filter(image, i+1) for i in range(1, 4)]\n",
      "des = array(im_range)\n",
      "descriptors = des.reshape(des.shape[0],-1).transpose()"
     ],
     "language": "python",
     "metadata": {},
     "outputs": [],
     "prompt_number": 5
    },
    {
     "cell_type": "code",
     "collapsed": false,
     "input": [
      "def getimdex(x,y):\n",
      "    return y*image.shape[0] + x\n",
      "\n",
      "training = inpoints+outpoints\n",
      "training = [descriptors[getimdex(j[0], j[1])] for j in training]\n",
      "classes = [0 for i in range(0, len(inpoints))] + [1 for i in range(0, len(outpoints))]"
     ],
     "language": "python",
     "metadata": {},
     "outputs": [
      {
       "output_type": "stream",
       "stream": "stderr",
       "text": [
        "-c:5: DeprecationWarning: using a non-integer number instead of an integer will result in an error in the future\n",
        "-c:5: DeprecationWarning: using a non-integer number instead of an integer will result in an error in the future\n",
        "-c:5: DeprecationWarning: using a non-integer number instead of an integer will result in an error in the future\n",
        "-c:5: DeprecationWarning: using a non-integer number instead of an integer will result in an error in the future\n",
        "-c:5: DeprecationWarning: using a non-integer number instead of an integer will result in an error in the future\n",
        "-c:5: DeprecationWarning: using a non-integer number instead of an integer will result in an error in the future\n"
       ]
      }
     ],
     "prompt_number": 21
    },
    {
     "cell_type": "code",
     "collapsed": false,
     "input": [
      "s = svm.SVC()\n",
      "s.fit(training, classes)"
     ],
     "language": "python",
     "metadata": {},
     "outputs": [
      {
       "metadata": {},
       "output_type": "pyout",
       "prompt_number": 162,
       "text": [
        "SVC(C=1.0, cache_size=200, class_weight=None, coef0=0.0, degree=3, gamma=0.0,\n",
        "  kernel='rbf', max_iter=-1, probability=False, random_state=None,\n",
        "  shrinking=True, tol=0.001, verbose=False)"
       ]
      }
     ],
     "prompt_number": 162
    },
    {
     "cell_type": "code",
     "collapsed": false,
     "input": [
      "results = s.predict(descriptors)"
     ],
     "language": "python",
     "metadata": {},
     "outputs": [],
     "prompt_number": 164
    },
    {
     "cell_type": "code",
     "collapsed": false,
     "input": [
      "figure(2)\n",
      "clf()\n",
      "imshow(image)\n",
      "show()"
     ],
     "language": "python",
     "metadata": {},
     "outputs": [
      {
       "ename": "NameError",
       "evalue": "name 'image' is not defined",
       "output_type": "pyerr",
       "traceback": [
        "\u001b[1;31m---------------------------------------------------------------------------\u001b[0m\n\u001b[1;31mNameError\u001b[0m                                 Traceback (most recent call last)",
        "\u001b[1;32m<ipython-input-5-4e2d8c1ea936>\u001b[0m in \u001b[0;36m<module>\u001b[1;34m()\u001b[0m\n\u001b[0;32m      1\u001b[0m \u001b[0mfigure\u001b[0m\u001b[1;33m(\u001b[0m\u001b[1;36m2\u001b[0m\u001b[1;33m)\u001b[0m\u001b[1;33m\u001b[0m\u001b[0m\n\u001b[0;32m      2\u001b[0m \u001b[0mclf\u001b[0m\u001b[1;33m(\u001b[0m\u001b[1;33m)\u001b[0m\u001b[1;33m\u001b[0m\u001b[0m\n\u001b[1;32m----> 3\u001b[1;33m \u001b[0mimshow\u001b[0m\u001b[1;33m(\u001b[0m\u001b[0mimage\u001b[0m\u001b[1;33m)\u001b[0m\u001b[1;33m\u001b[0m\u001b[0m\n\u001b[0m\u001b[0;32m      4\u001b[0m \u001b[0mshow\u001b[0m\u001b[1;33m(\u001b[0m\u001b[1;33m)\u001b[0m\u001b[1;33m\u001b[0m\u001b[0m\n",
        "\u001b[1;31mNameError\u001b[0m: name 'image' is not defined"
       ]
      }
     ],
     "prompt_number": 5
    },
    {
     "cell_type": "code",
     "collapsed": false,
     "input": [
      "image"
     ],
     "language": "python",
     "metadata": {},
     "outputs": [
      {
       "output_type": "stream",
       "stream": "stderr",
       "text": [
        "-c:38: DeprecationWarning: using a non-integer number instead of an integer will result in an error in the future\n",
        "-c:38: DeprecationWarning: using a non-integer number instead of an integer will result in an error in the future\n",
        "-c:38: DeprecationWarning: using a non-integer number instead of an integer will result in an error in the future\n"
       ]
      },
      {
       "metadata": {},
       "output_type": "pyout",
       "prompt_number": 4,
       "text": [
        "array([[44, 57, 65, ..., 48, 51, 63],\n",
        "       [54, 46, 61, ..., 55, 50, 44],\n",
        "       [59, 46, 49, ..., 58, 53, 47],\n",
        "       ..., \n",
        "       [50, 50, 64, ..., 62, 51, 51],\n",
        "       [53, 44, 56, ..., 57, 57, 52],\n",
        "       [56, 48, 49, ..., 70, 69, 55]], dtype=uint8)"
       ]
      }
     ],
     "prompt_number": 4
    },
    {
     "cell_type": "code",
     "collapsed": false,
     "input": [
      "def getimdex(x,y):\n",
      "    return y*image.shape[0] + x"
     ],
     "language": "python",
     "metadata": {},
     "outputs": [],
     "prompt_number": 7
    },
    {
     "cell_type": "code",
     "collapsed": false,
     "input": [
      "a=image.reshape(1,-1)\n",
      "a[getimdex(0,0)]"
     ],
     "language": "python",
     "metadata": {},
     "outputs": [
      {
       "metadata": {},
       "output_type": "pyout",
       "prompt_number": 10,
       "text": [
        "array([44, 57, 65, ..., 70, 69, 55], dtype=uint8)"
       ]
      }
     ],
     "prompt_number": 10
    },
    {
     "cell_type": "code",
     "collapsed": false,
     "input": [
      "a[0, getimdex(0,0)].shape"
     ],
     "language": "python",
     "metadata": {},
     "outputs": [
      {
       "metadata": {},
       "output_type": "pyout",
       "prompt_number": 16,
       "text": [
        "()"
       ]
      }
     ],
     "prompt_number": 16
    },
    {
     "cell_type": "code",
     "collapsed": false,
     "input": [
      "image[10,0]"
     ],
     "language": "python",
     "metadata": {},
     "outputs": [
      {
       "metadata": {},
       "output_type": "pyout",
       "prompt_number": 8,
       "text": [
        "39"
       ]
      }
     ],
     "prompt_number": 8
    },
    {
     "cell_type": "code",
     "collapsed": false,
     "input": [
      "descriptors[getimdex(2,7)]"
     ],
     "language": "python",
     "metadata": {},
     "outputs": [
      {
       "metadata": {},
       "output_type": "pyout",
       "prompt_number": 16,
       "text": [
        "array([96], dtype=uint8)"
       ]
      }
     ],
     "prompt_number": 16
    },
    {
     "cell_type": "code",
     "collapsed": false,
     "input": [
      "figure(2)\n",
      "clf()\n",
      "imshow(image[0:10, 0:10])\n",
      "show()"
     ],
     "language": "python",
     "metadata": {},
     "outputs": [],
     "prompt_number": 14
    },
    {
     "cell_type": "code",
     "collapsed": false,
     "input": [
      "image[0:10, 0:10]"
     ],
     "language": "python",
     "metadata": {},
     "outputs": [
      {
       "metadata": {},
       "output_type": "pyout",
       "prompt_number": 15,
       "text": [
        "array([[44, 57, 65, 62, 65, 60, 46, 50, 62, 78],\n",
        "       [54, 46, 61, 69, 59, 52, 50, 51, 63, 68],\n",
        "       [59, 46, 49, 50, 51, 53, 55, 53, 46, 54],\n",
        "       [53, 54, 56, 55, 56, 58, 55, 48, 42, 38],\n",
        "       [46, 54, 52, 50, 52, 54, 50, 51, 62, 66],\n",
        "       [42, 43, 45, 45, 44, 42, 46, 59, 67, 74],\n",
        "       [33, 36, 54, 59, 65, 41, 42, 68, 81, 65],\n",
        "       [35, 58, 96, 82, 82, 58, 40, 79, 86, 68],\n",
        "       [38, 58, 64, 86, 74, 63, 40, 45, 62, 55],\n",
        "       [35, 52, 79, 84, 64, 59, 45, 46, 48, 46]], dtype=uint8)"
       ]
      }
     ],
     "prompt_number": 15
    },
    {
     "cell_type": "code",
     "collapsed": false,
     "input": [],
     "language": "python",
     "metadata": {},
     "outputs": []
    }
   ],
   "metadata": {}
  }
 ]
}