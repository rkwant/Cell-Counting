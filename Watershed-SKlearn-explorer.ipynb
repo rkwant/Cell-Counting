{
 "metadata": {
  "name": "",
  "signature": "sha256:fc8247baeadb22f3f6c18e9fee356e98dbae4d9f61ed8f1b042b41d68c752ae6"
 },
 "nbformat": 3,
 "nbformat_minor": 0,
 "worksheets": [
  {
   "cells": [
    {
     "cell_type": "code",
     "collapsed": false,
     "input": [
      "%pylab tk"
     ],
     "language": "python",
     "metadata": {},
     "outputs": [
      {
       "output_type": "stream",
       "stream": "stdout",
       "text": [
        "Populating the interactive namespace from numpy and matplotlib\n"
       ]
      }
     ],
     "prompt_number": 1
    },
    {
     "cell_type": "code",
     "collapsed": false,
     "input": [
      "from scipy import ndimage\n",
      "from skimage.morphology import watershed\n",
      "from skimage.segmentation import mark_boundaries, join_segmentations, relabel_sequential\n",
      "from skimage.feature import peak_local_max, blob_dog, blob_log, blob_doh, corner_peaks\n",
      "from skimage.io import imread\n",
      "from skimage.filter import gaussian_filter, threshold_otsu, threshold_isodata, threshold_adaptive, threshold_yen\n",
      "from skimage.exposure import adjust_log, adjust_sigmoid, adjust_gamma, equalize_hist, equalize_adapthist, rescale_intensity\n",
      "from skimage.measure import regionprops\n",
      "from skimage.color import label2rgb\n",
      "import time\n",
      "\n",
      "from sklearn.grid_search import GridSearchCV\n",
      "from sklearn import svm\n",
      "from sklearn.neighbors import KNeighborsClassifier\n",
      "from sklearn import linear_model\n",
      "from sklearn.mixture import GMM\n",
      "\n",
      "from sklearn import mixture\n",
      "from sklearn import metrics\n",
      "from sklearn.decomposition import PCA\n",
      "from sklearn.preprocessing import StandardScaler\n",
      "from matplotlib.ticker import NullFormatter\n",
      "from sklearn.covariance import EllipticEnvelope\n",
      "\n",
      "import pickle"
     ],
     "language": "python",
     "metadata": {},
     "outputs": [],
     "prompt_number": 200
    },
    {
     "cell_type": "code",
     "collapsed": false,
     "input": [
      "#functions\n",
      "\n",
      "def scatter_plot(x, y, xlabel='', ylabel='', xlim=None, ylim=None, colors = None, fig=1):\n",
      "    thefigure = figure(fig)\n",
      "    clf()\n",
      "    if xlim is None: x1,x2 = x.min(), x.max()*1.1\n",
      "    else: x1,x2 = xlim[0], xlim[1]\n",
      "        \n",
      "    if ylim is None: y1,y2 = y.min(), y.max()*1.1\n",
      "    else: y1,y2 = ylim[0], ylim[1]\n",
      "        \n",
      "    nullfmt   = NullFormatter()         # no labels\n",
      "\n",
      "    # definitions for the axes\n",
      "    left, width = 0.1, 0.65\n",
      "    bottom, height = 0.1, 0.65\n",
      "    bottom_h = left_h = left+width+0.02\n",
      "    rect_scatter = [left, bottom, width, height]\n",
      "    rect_histx = [left, bottom_h, width, 0.2]\n",
      "    rect_histy = [left_h, bottom, 0.2, height]\n",
      "    rect_inspect = [left_h, bottom_h, 0.2, 0.2]\n",
      "    # start with a rectangular Figure\n",
      "    plt.figure(1, figsize=(8,8))\n",
      "    axScatter = plt.axes(rect_scatter)\n",
      "    axHistx = plt.axes(rect_histx)\n",
      "    axHisty = plt.axes(rect_histy)\n",
      "    axInspect = plt.axes(rect_inspect)\n",
      "    \n",
      "    # no labels\n",
      "    axHistx.xaxis.set_major_formatter(nullfmt)\n",
      "    axHisty.yaxis.set_major_formatter(nullfmt)\n",
      "    axInspect.yaxis.set_major_formatter(nullfmt)\n",
      "    axInspect.xaxis.set_major_formatter(nullfmt)\n",
      "\n",
      "    # the scatter plot:\n",
      "    if colors is None: axScatter.scatter(x, y, picker=0)\n",
      "    else: axScatter.scatter(x, y, c=colors, picker=5)\n",
      "\n",
      "    # now determine nice limits by hand:\n",
      "    binwidth = 0.25\n",
      "    xymax = np.max( [np.max(np.fabs(x)), np.max(np.fabs(y))] )\n",
      "    lim = ( int(xymax/binwidth) + 1) * binwidth\n",
      "\n",
      "    axScatter.set_xlim( (x1, x2) )\n",
      "    axScatter.set_ylim( (y1, y2) )\n",
      "\n",
      "    bins = 50\n",
      "    axHistx.hist(x, bins=bins, range=(x1,x2))\n",
      "    axHisty.hist(y, bins=bins, orientation='horizontal', range=(y1,y2))\n",
      "    axHistx.set_xlim( axScatter.get_xlim() )\n",
      "    axHisty.set_ylim( axScatter.get_ylim() )\n",
      "    axScatter.set_xlabel(xlabel)\n",
      "    axScatter.set_ylabel(ylabel)\n",
      "    \n",
      "    def onpick(event):\n",
      "        N = len(event.ind)\n",
      "        if not N: return True\n",
      "\n",
      "        for subplotnum, dataind in enumerate(event.ind):\n",
      "            axInspect.cla()\n",
      "            axInspect.set_title(str(dataind))\n",
      "            bbox=props[dataind].bbox\n",
      "            axInspect.imshow(image[bbox[0]:bbox[2], bbox[1]:bbox[3]])\n",
      "            axInspect.yaxis.set_major_formatter(nullfmt)\n",
      "            axInspect.xaxis.set_major_formatter(nullfmt)\n",
      "            draw()\n",
      "            break\n",
      "        return True\n",
      "    \n",
      "    thefigure.canvas.mpl_connect('pick_event', onpick)\n",
      "    show()\n",
      "\n",
      "def segment_the_image(image, radius=3, gaussian_radius=1, thresh_factor=1.0, eq_hist = True):\n",
      "    if eq_hist: eqimage = equalize_adapthist(image)\n",
      "    else: eqimage = image\n",
      "    thresh = threshold_otsu(eqimage)*thresh_factor\n",
      "    binary = eqimage > thresh\n",
      "    smoothed = gaussian_filter(eqimage, gaussian_radius)\n",
      "    \n",
      "    print 'Threshold is',thresh\n",
      "\n",
      "    r = radius\n",
      "    a, b = r, r\n",
      "    n = 2*a+1\n",
      "    y,x = np.ogrid[-a:n-a, -b:n-b]\n",
      "    mask = x*x + y*y <= r*r\n",
      "\n",
      "    max_neighborhood = 6\n",
      "    local_maxi = peak_local_max(smoothed, indices=False, footprint=mask, exclude_border=False)\n",
      "    markers = ndimage.label(local_maxi)[0]\n",
      "    expanded = gaussian_filter(local_maxi, 0)\n",
      "    segmented2 = watershed(-image, markers, mask=binary)\n",
      "    segmented2,seg2_labels,l2 = relabel_sequential(segmented2)\n",
      "\n",
      "    props = regionprops(segmented2, image)\n",
      "    full_props = array([[a.area, a.mean_intensity, a.perimeter, a.solidity, a.eccentricity,\\\n",
      "                         a.major_axis_length, a.minor_axis_length, a.convex_area, a.equivalent_diameter,\\\n",
      "                         a.inertia_tensor_eigvals[0], a.inertia_tensor_eigvals[1], get_std(a, image), get_med(a, image)] for a in props])\n",
      "    return segmented2, props, full_props\n",
      "\n",
      "def get_std(prop, image):\n",
      "    bbox = prop.bbox\n",
      "    im = prop.image\n",
      "    return (image[bbox[0]:bbox[2], bbox[1]:bbox[3]])[prop.image].std()\n",
      "\n",
      "def get_med(prop, image):\n",
      "    bbox = prop.bbox\n",
      "    im = prop.image\n",
      "    return median((image[bbox[0]:bbox[2], bbox[1]:bbox[3]])[prop.image])"
     ],
     "language": "python",
     "metadata": {},
     "outputs": [],
     "prompt_number": 183
    },
    {
     "cell_type": "code",
     "collapsed": false,
     "input": [
      "figure(3)\n",
      "clf()\n",
      "image = imread(path+fname)[:,:,1]#take the green channel\n",
      "imshow(image)\n",
      "\n",
      "figure(1)\n",
      "clf()\n",
      "imshow(equalize_adapthist(image))\n",
      "\n",
      "draw()"
     ],
     "language": "python",
     "metadata": {},
     "outputs": [],
     "prompt_number": 271
    },
    {
     "cell_type": "code",
     "collapsed": false,
     "input": [
      "##approach number 2\n",
      "path = 'C:\\\\Users\\\\rkwant\\\\Documents\\\\Berkeley\\\\rkwant\\\\Notebook_Pages\\\\Pages\\\\4-180\\\\'\n",
      "fname = '40xsynechcrop1.tif'\n",
      "#fname = 'SAVavin1.tif'\n",
      "image = imread(path+fname)[:,:,0]#take the green channel\n",
      "\n",
      "segmented2, props, full_props = segment_the_image(image, eq_hist=False, thresh_factor=1, radius=3)\n",
      "\n",
      "print 'Found',segmented2.max(),'cells'\n",
      "\n",
      "#############################\n",
      "figure(3)\n",
      "clf()\n",
      "image_color = imread(path+fname, as_grey=False)\n",
      "marked = mark_boundaries(image_color, segmented2, color=(0.7, 0.7, 0.7))\n",
      "imshow(marked)\n",
      "tight_layout()\n",
      "draw()\n",
      "savefig(path+fname.split('.')[0]+'_marked.tif', bbox_inches=0)\n",
      "\n",
      "figure(2)\n",
      "clf()\n",
      "hist(image.flatten(), bins=40)\n",
      "print image.max()\n",
      "draw()\n",
      "\n",
      "figure(1)\n",
      "clf()\n",
      "imshow(image)\n",
      "draw()"
     ],
     "language": "python",
     "metadata": {},
     "outputs": [
      {
       "output_type": "stream",
       "stream": "stdout",
       "text": [
        "Threshold is 49\n",
        "Found"
       ]
      },
      {
       "output_type": "stream",
       "stream": "stdout",
       "text": [
        " 3320 cells\n",
        "255"
       ]
      },
      {
       "output_type": "stream",
       "stream": "stdout",
       "text": [
        "\n"
       ]
      }
     ],
     "prompt_number": 298
    },
    {
     "cell_type": "code",
     "collapsed": false,
     "input": [
      "##generate training data\n",
      "load_pickle = False\n",
      "save_pickle = False\n",
      "\n",
      "#BurkeAvin1\n",
      "'''#normal cells\n",
      "training = [2,4,10,22,23,28,27,49,50,51,84,215,47,247,193,285]\n",
      "classifics = [0 for i in range(0, len(training))]\n",
      "\n",
      "#dividing/neighboring\n",
      "training = training +[80,131,154,173,202,304,318,331,89,]\n",
      "classifics = classifics+[1 for i in range(0, len(training) - len(classifics))]\n",
      "\n",
      "#crap\n",
      "training = training +[107,148,150,156,198,196,251,289,292,]\n",
      "classifics = classifics + [2 for i in range(0, len(training) - len(classifics))]'''\n",
      "\n",
      "#SAVavin\n",
      "'''#normal cells\n",
      "training = [10,14,45,48,66,78,112,113,132,859,884,]\n",
      "classifics = [0 for i in range(0, len(training))]\n",
      "\n",
      "#dividing/neighboring\n",
      "training = training +[246,670,808,2100,2276,2125,2341,1389,1613,2348]\n",
      "classifics = classifics+[1 for i in range(0, len(training) - len(classifics))]\n",
      "\n",
      "#crap\n",
      "training = training +[355,353,391,418,61,875,2164,2109,2328]\n",
      "classifics = classifics + [2 for i in range(0, len(training) - len(classifics))]'''\n",
      "\n",
      "trainingdat = [full_props[i] for i in training]\n",
      "\n",
      "if load_pickle:\n",
      "    with open(path+'Burkeavin1.tif'+'.pickle', 'rb') as f:\n",
      "        old_trainingdat, old_classifics = pickle.load(f)\n",
      "        trainingdat = trainingdat+old_trainingdat\n",
      "        classifics = classifics + old_classifics\n",
      "\n",
      "if save_pickle:\n",
      "    with open(path+'together.pickle','wb') as f:\n",
      "        pickle.dump((trainingdat, classifics),f)\n",
      "\n",
      "len(classifics)"
     ],
     "language": "python",
     "metadata": {},
     "outputs": [
      {
       "metadata": {},
       "output_type": "pyout",
       "prompt_number": 253,
       "text": [
        "64"
       ]
      }
     ],
     "prompt_number": 253
    },
    {
     "cell_type": "code",
     "collapsed": false,
     "input": [
      "if True:#make SVC classifier\n",
      "    clfs=svm.SVC()\n",
      "\n",
      "    kernels = ['rbf', 'poly']#['linear', 'rbf', 'poly']\n",
      "    coef = [0]\n",
      "    Cs = np.logspace(-6, -1, 10)\n",
      "    gammas = np.logspace(-3, -1, 15)\n",
      "    degs=range(1,8)\n",
      "    s = GridSearchCV(estimator=clfs, param_grid=dict(C=Cs, kernel=kernels, degree=degs, gamma=gammas, coef0=coef), n_jobs=-1)\n",
      "\n",
      "    s.fit(trainingdat, classifics)\n",
      "    \n",
      "    print 'Number of points in training set',len(trainingdat)\n",
      "    print s.best_score_\n",
      "    print s.best_estimator_\n",
      "    print s.best_params_\n",
      "\n",
      "    s=svm.SVC(**s.best_params_)\n",
      "    s.fit(trainingdat, classifics)\n",
      "    spreds=s.predict(full_props)"
     ],
     "language": "python",
     "metadata": {},
     "outputs": [
      {
       "output_type": "stream",
       "stream": "stdout",
       "text": [
        "Number of points in training set 64\n",
        "0.875\n",
        "SVC(C=4.64158883361e-05, cache_size=200, class_weight=None, coef0=0, degree=2,\n",
        "  gamma=0.0719685673001, kernel=poly, max_iter=-1, probability=False,\n",
        "  random_state=None, shrinking=True, tol=0.001, verbose=False)\n",
        "{'kernel': 'poly', 'C': 4.6415888336127818e-05, 'coef0': 0, 'gamma': 0.07196856730011518, 'degree': 2}\n"
       ]
      }
     ],
     "prompt_number": 254
    },
    {
     "cell_type": "code",
     "collapsed": false,
     "input": [
      "spreds=s.predict(full_props)\n",
      "print len(spreds[spreds==0]),'cells'\n",
      "print len(spreds[spreds==1]),'dividing cells'\n",
      "print len(spreds[spreds==2]),'crap'"
     ],
     "language": "python",
     "metadata": {},
     "outputs": [
      {
       "output_type": "stream",
       "stream": "stdout",
       "text": [
        "2557 cells\n",
        "254 dividing cells\n",
        "381 crap\n"
       ]
      }
     ],
     "prompt_number": 258
    },
    {
     "cell_type": "code",
     "collapsed": false,
     "input": [
      "#                        0            1              2           3            4\n",
      "#full_props = array([[a.area, a.mean_intensity, a.perimeter, a.solidity, a.eccentricity,\\\n",
      "#                              5                     6                7                  8\n",
      "              #       a.major_axis_length, a.minor_axis_length, a.convex_area, a.equivalent_diameter,\\\n",
      "#                              9                                   10\n",
      "              #       a.inertia_tensor_eigvals[0], a.inertia_tensor_eigvals [0]] for a in props])\n",
      "\n",
      "#scatter_plot(full_props[:,0], full_props[:,1], 'area', 'mean intensity', colors=spreds[:], fig=1)\n",
      "scatter_plot(full_props[:,5], full_props[:,6], 'major', 'minor', colors=spreds[:], fig=1)"
     ],
     "language": "python",
     "metadata": {},
     "outputs": [],
     "prompt_number": 244
    },
    {
     "cell_type": "code",
     "collapsed": false,
     "input": [
      "zmat = zeros(segmented2.shape)\n",
      "for c in set(spreds):\n",
      "    indices = array(range(1, len(spreds)+1))[where(spreds==c)]\n",
      "    ix = in1d(segmented2.ravel(), indices).reshape(segmented2.shape)\n",
      "    zmat[ix] = c+1\n",
      "\n",
      "#divide up regions\n",
      "\n",
      "figure(2, figsize=(12,12))\n",
      "clf()\n",
      "\n",
      "image_color = imread(path+fname, as_grey=False)\n",
      "image_label_overlay = label2rgb(zmat, image=image, bg_label = 0)\n",
      "marked = mark_boundaries(image_label_overlay, segmented2, color=(0.7, 0.7, 0.7))\n",
      "\n",
      "imshow(marked)\n",
      "\n",
      "tight_layout()\n",
      "draw()\n",
      "savefig(path+fname.split('.')[0]+'_classified.tif', bbox_inches=0)"
     ],
     "language": "python",
     "metadata": {},
     "outputs": [],
     "prompt_number": 256
    },
    {
     "cell_type": "code",
     "collapsed": false,
     "input": [
      "#save images of cells\n",
      "props = regionprops(segmented2, image)\n",
      "figure(1, figsize=(2,1))\n",
      "\n",
      "for i in range(1,min([4000, segmented2.max()])):\n",
      "    p = props[i]\n",
      "    sl = p.image\n",
      "    bbox = p.bbox\n",
      "    \n",
      "    if True:\n",
      "        subplot(1,2,1)\n",
      "        imshow(image[bbox[0]:bbox[2], bbox[1]:bbox[3]], vmin=0, vmax = image.max())\n",
      "        subplot(1,2,2)\n",
      "        imshow(p.filled_image)\n",
      "\n",
      "        #savefig(path+'Burkeavin1\\\\%d.jpg'%(i), dpi=72)\n",
      "        \n",
      "        if spreds[i] == 0: savefig(path+'Burkeavin1\\\\a\\\\%d.jpg'%(i), dpi=72)\n",
      "        if spreds[i] == 1: savefig(path+'Burkeavin1\\\\b\\\\%d.jpg'%(i), dpi=72)\n",
      "        if spreds[i] == 2: savefig(path+'Burkeavin1\\\\c\\\\%d.jpg'%(i), dpi=72)\n",
      "        clf()"
     ],
     "language": "python",
     "metadata": {},
     "outputs": [
      {
       "ename": "KeyboardInterrupt",
       "evalue": "",
       "output_type": "pyerr",
       "traceback": [
        "\u001b[1;31m---------------------------------------------------------------------------\u001b[0m\n\u001b[1;31mKeyboardInterrupt\u001b[0m                         Traceback (most recent call last)",
        "\u001b[1;32m<ipython-input-245-c2587448bbd1>\u001b[0m in \u001b[0;36m<module>\u001b[1;34m()\u001b[0m\n\u001b[0;32m     11\u001b[0m         \u001b[0msubplot\u001b[0m\u001b[1;33m(\u001b[0m\u001b[1;36m1\u001b[0m\u001b[1;33m,\u001b[0m\u001b[1;36m2\u001b[0m\u001b[1;33m,\u001b[0m\u001b[1;36m1\u001b[0m\u001b[1;33m)\u001b[0m\u001b[1;33m\u001b[0m\u001b[0m\n\u001b[0;32m     12\u001b[0m         \u001b[0mimshow\u001b[0m\u001b[1;33m(\u001b[0m\u001b[0mimage\u001b[0m\u001b[1;33m[\u001b[0m\u001b[0mbbox\u001b[0m\u001b[1;33m[\u001b[0m\u001b[1;36m0\u001b[0m\u001b[1;33m]\u001b[0m\u001b[1;33m:\u001b[0m\u001b[0mbbox\u001b[0m\u001b[1;33m[\u001b[0m\u001b[1;36m2\u001b[0m\u001b[1;33m]\u001b[0m\u001b[1;33m,\u001b[0m \u001b[0mbbox\u001b[0m\u001b[1;33m[\u001b[0m\u001b[1;36m1\u001b[0m\u001b[1;33m]\u001b[0m\u001b[1;33m:\u001b[0m\u001b[0mbbox\u001b[0m\u001b[1;33m[\u001b[0m\u001b[1;36m3\u001b[0m\u001b[1;33m]\u001b[0m\u001b[1;33m]\u001b[0m\u001b[1;33m,\u001b[0m \u001b[0mvmin\u001b[0m\u001b[1;33m=\u001b[0m\u001b[1;36m0\u001b[0m\u001b[1;33m,\u001b[0m \u001b[0mvmax\u001b[0m \u001b[1;33m=\u001b[0m \u001b[0mimage\u001b[0m\u001b[1;33m.\u001b[0m\u001b[0mmax\u001b[0m\u001b[1;33m(\u001b[0m\u001b[1;33m)\u001b[0m\u001b[1;33m)\u001b[0m\u001b[1;33m\u001b[0m\u001b[0m\n\u001b[1;32m---> 13\u001b[1;33m         \u001b[0msubplot\u001b[0m\u001b[1;33m(\u001b[0m\u001b[1;36m1\u001b[0m\u001b[1;33m,\u001b[0m\u001b[1;36m2\u001b[0m\u001b[1;33m,\u001b[0m\u001b[1;36m2\u001b[0m\u001b[1;33m)\u001b[0m\u001b[1;33m\u001b[0m\u001b[0m\n\u001b[0m\u001b[0;32m     14\u001b[0m         \u001b[0mimshow\u001b[0m\u001b[1;33m(\u001b[0m\u001b[0mp\u001b[0m\u001b[1;33m.\u001b[0m\u001b[0mfilled_image\u001b[0m\u001b[1;33m)\u001b[0m\u001b[1;33m\u001b[0m\u001b[0m\n\u001b[0;32m     15\u001b[0m \u001b[1;33m\u001b[0m\u001b[0m\n",
        "\u001b[1;32mC:\\Users\\rkwant\\AppData\\Local\\Enthought\\Canopy\\User\\lib\\site-packages\\matplotlib\\pyplot.pyc\u001b[0m in \u001b[0;36msubplot\u001b[1;34m(*args, **kwargs)\u001b[0m\n\u001b[0;32m    920\u001b[0m \u001b[1;33m\u001b[0m\u001b[0m\n\u001b[0;32m    921\u001b[0m     \u001b[0mfig\u001b[0m \u001b[1;33m=\u001b[0m \u001b[0mgcf\u001b[0m\u001b[1;33m(\u001b[0m\u001b[1;33m)\u001b[0m\u001b[1;33m\u001b[0m\u001b[0m\n\u001b[1;32m--> 922\u001b[1;33m     \u001b[0ma\u001b[0m \u001b[1;33m=\u001b[0m \u001b[0mfig\u001b[0m\u001b[1;33m.\u001b[0m\u001b[0madd_subplot\u001b[0m\u001b[1;33m(\u001b[0m\u001b[1;33m*\u001b[0m\u001b[0margs\u001b[0m\u001b[1;33m,\u001b[0m \u001b[1;33m**\u001b[0m\u001b[0mkwargs\u001b[0m\u001b[1;33m)\u001b[0m\u001b[1;33m\u001b[0m\u001b[0m\n\u001b[0m\u001b[0;32m    923\u001b[0m     \u001b[0mbbox\u001b[0m \u001b[1;33m=\u001b[0m \u001b[0ma\u001b[0m\u001b[1;33m.\u001b[0m\u001b[0mbbox\u001b[0m\u001b[1;33m\u001b[0m\u001b[0m\n\u001b[0;32m    924\u001b[0m     \u001b[0mbyebye\u001b[0m \u001b[1;33m=\u001b[0m \u001b[1;33m[\u001b[0m\u001b[1;33m]\u001b[0m\u001b[1;33m\u001b[0m\u001b[0m\n",
        "\u001b[1;32mC:\\Users\\rkwant\\AppData\\Local\\Enthought\\Canopy\\User\\lib\\site-packages\\matplotlib\\figure.pyc\u001b[0m in \u001b[0;36madd_subplot\u001b[1;34m(self, *args, **kwargs)\u001b[0m\n\u001b[0;32m    956\u001b[0m                     \u001b[0mself\u001b[0m\u001b[1;33m.\u001b[0m\u001b[0m_axstack\u001b[0m\u001b[1;33m.\u001b[0m\u001b[0mremove\u001b[0m\u001b[1;33m(\u001b[0m\u001b[0max\u001b[0m\u001b[1;33m)\u001b[0m\u001b[1;33m\u001b[0m\u001b[0m\n\u001b[0;32m    957\u001b[0m \u001b[1;33m\u001b[0m\u001b[0m\n\u001b[1;32m--> 958\u001b[1;33m             \u001b[0ma\u001b[0m \u001b[1;33m=\u001b[0m \u001b[0msubplot_class_factory\u001b[0m\u001b[1;33m(\u001b[0m\u001b[0mprojection_class\u001b[0m\u001b[1;33m)\u001b[0m\u001b[1;33m(\u001b[0m\u001b[0mself\u001b[0m\u001b[1;33m,\u001b[0m \u001b[1;33m*\u001b[0m\u001b[0margs\u001b[0m\u001b[1;33m,\u001b[0m \u001b[1;33m**\u001b[0m\u001b[0mkwargs\u001b[0m\u001b[1;33m)\u001b[0m\u001b[1;33m\u001b[0m\u001b[0m\n\u001b[0m\u001b[0;32m    959\u001b[0m \u001b[1;33m\u001b[0m\u001b[0m\n\u001b[0;32m    960\u001b[0m         \u001b[0mself\u001b[0m\u001b[1;33m.\u001b[0m\u001b[0m_axstack\u001b[0m\u001b[1;33m.\u001b[0m\u001b[0madd\u001b[0m\u001b[1;33m(\u001b[0m\u001b[0mkey\u001b[0m\u001b[1;33m,\u001b[0m \u001b[0ma\u001b[0m\u001b[1;33m)\u001b[0m\u001b[1;33m\u001b[0m\u001b[0m\n",
        "\u001b[1;32mC:\\Users\\rkwant\\AppData\\Local\\Enthought\\Canopy\\User\\lib\\site-packages\\matplotlib\\axes\\_subplots.pyc\u001b[0m in \u001b[0;36m__init__\u001b[1;34m(self, fig, *args, **kwargs)\u001b[0m\n\u001b[0;32m     76\u001b[0m \u001b[1;33m\u001b[0m\u001b[0m\n\u001b[0;32m     77\u001b[0m         \u001b[1;31m# _axes_class is set in the subplot_class_factory\u001b[0m\u001b[1;33m\u001b[0m\u001b[1;33m\u001b[0m\u001b[0m\n\u001b[1;32m---> 78\u001b[1;33m         \u001b[0mself\u001b[0m\u001b[1;33m.\u001b[0m\u001b[0m_axes_class\u001b[0m\u001b[1;33m.\u001b[0m\u001b[0m__init__\u001b[0m\u001b[1;33m(\u001b[0m\u001b[0mself\u001b[0m\u001b[1;33m,\u001b[0m \u001b[0mfig\u001b[0m\u001b[1;33m,\u001b[0m \u001b[0mself\u001b[0m\u001b[1;33m.\u001b[0m\u001b[0mfigbox\u001b[0m\u001b[1;33m,\u001b[0m \u001b[1;33m**\u001b[0m\u001b[0mkwargs\u001b[0m\u001b[1;33m)\u001b[0m\u001b[1;33m\u001b[0m\u001b[0m\n\u001b[0m\u001b[0;32m     79\u001b[0m \u001b[1;33m\u001b[0m\u001b[0m\n\u001b[0;32m     80\u001b[0m     \u001b[1;32mdef\u001b[0m \u001b[0m__reduce__\u001b[0m\u001b[1;33m(\u001b[0m\u001b[0mself\u001b[0m\u001b[1;33m)\u001b[0m\u001b[1;33m:\u001b[0m\u001b[1;33m\u001b[0m\u001b[0m\n",
        "\u001b[1;32mC:\\Users\\rkwant\\AppData\\Local\\Enthought\\Canopy\\User\\lib\\site-packages\\matplotlib\\axes\\_base.pyc\u001b[0m in \u001b[0;36m__init__\u001b[1;34m(self, fig, rect, axisbg, frameon, sharex, sharey, label, xscale, yscale, **kwargs)\u001b[0m\n\u001b[0;32m    422\u001b[0m \u001b[1;33m\u001b[0m\u001b[0m\n\u001b[0;32m    423\u001b[0m         \u001b[1;31m# this call may differ for non-sep axes, eg polar\u001b[0m\u001b[1;33m\u001b[0m\u001b[1;33m\u001b[0m\u001b[0m\n\u001b[1;32m--> 424\u001b[1;33m         \u001b[0mself\u001b[0m\u001b[1;33m.\u001b[0m\u001b[0m_init_axis\u001b[0m\u001b[1;33m(\u001b[0m\u001b[1;33m)\u001b[0m\u001b[1;33m\u001b[0m\u001b[0m\n\u001b[0m\u001b[0;32m    425\u001b[0m \u001b[1;33m\u001b[0m\u001b[0m\n\u001b[0;32m    426\u001b[0m         \u001b[1;32mif\u001b[0m \u001b[0maxisbg\u001b[0m \u001b[1;32mis\u001b[0m \u001b[0mNone\u001b[0m\u001b[1;33m:\u001b[0m\u001b[1;33m\u001b[0m\u001b[0m\n",
        "\u001b[1;32mC:\\Users\\rkwant\\AppData\\Local\\Enthought\\Canopy\\User\\lib\\site-packages\\matplotlib\\axes\\_base.pyc\u001b[0m in \u001b[0;36m_init_axis\u001b[1;34m(self)\u001b[0m\n\u001b[0;32m    483\u001b[0m         \u001b[0mself\u001b[0m\u001b[1;33m.\u001b[0m\u001b[0mspines\u001b[0m\u001b[1;33m[\u001b[0m\u001b[1;34m'top'\u001b[0m\u001b[1;33m]\u001b[0m\u001b[1;33m.\u001b[0m\u001b[0mregister_axis\u001b[0m\u001b[1;33m(\u001b[0m\u001b[0mself\u001b[0m\u001b[1;33m.\u001b[0m\u001b[0mxaxis\u001b[0m\u001b[1;33m)\u001b[0m\u001b[1;33m\u001b[0m\u001b[0m\n\u001b[0;32m    484\u001b[0m         \u001b[0mself\u001b[0m\u001b[1;33m.\u001b[0m\u001b[0myaxis\u001b[0m \u001b[1;33m=\u001b[0m \u001b[0mmaxis\u001b[0m\u001b[1;33m.\u001b[0m\u001b[0mYAxis\u001b[0m\u001b[1;33m(\u001b[0m\u001b[0mself\u001b[0m\u001b[1;33m)\u001b[0m\u001b[1;33m\u001b[0m\u001b[0m\n\u001b[1;32m--> 485\u001b[1;33m         \u001b[0mself\u001b[0m\u001b[1;33m.\u001b[0m\u001b[0mspines\u001b[0m\u001b[1;33m[\u001b[0m\u001b[1;34m'left'\u001b[0m\u001b[1;33m]\u001b[0m\u001b[1;33m.\u001b[0m\u001b[0mregister_axis\u001b[0m\u001b[1;33m(\u001b[0m\u001b[0mself\u001b[0m\u001b[1;33m.\u001b[0m\u001b[0myaxis\u001b[0m\u001b[1;33m)\u001b[0m\u001b[1;33m\u001b[0m\u001b[0m\n\u001b[0m\u001b[0;32m    486\u001b[0m         \u001b[0mself\u001b[0m\u001b[1;33m.\u001b[0m\u001b[0mspines\u001b[0m\u001b[1;33m[\u001b[0m\u001b[1;34m'right'\u001b[0m\u001b[1;33m]\u001b[0m\u001b[1;33m.\u001b[0m\u001b[0mregister_axis\u001b[0m\u001b[1;33m(\u001b[0m\u001b[0mself\u001b[0m\u001b[1;33m.\u001b[0m\u001b[0myaxis\u001b[0m\u001b[1;33m)\u001b[0m\u001b[1;33m\u001b[0m\u001b[0m\n\u001b[0;32m    487\u001b[0m         \u001b[0mself\u001b[0m\u001b[1;33m.\u001b[0m\u001b[0m_update_transScale\u001b[0m\u001b[1;33m(\u001b[0m\u001b[1;33m)\u001b[0m\u001b[1;33m\u001b[0m\u001b[0m\n",
        "\u001b[1;32mC:\\Users\\rkwant\\AppData\\Local\\Enthought\\Canopy\\User\\lib\\site-packages\\matplotlib\\spines.pyc\u001b[0m in \u001b[0;36mregister_axis\u001b[1;34m(self, axis)\u001b[0m\n\u001b[0;32m    155\u001b[0m         \u001b[0mself\u001b[0m\u001b[1;33m.\u001b[0m\u001b[0maxis\u001b[0m \u001b[1;33m=\u001b[0m \u001b[0maxis\u001b[0m\u001b[1;33m\u001b[0m\u001b[0m\n\u001b[0;32m    156\u001b[0m         \u001b[1;32mif\u001b[0m \u001b[0mself\u001b[0m\u001b[1;33m.\u001b[0m\u001b[0maxis\u001b[0m \u001b[1;32mis\u001b[0m \u001b[1;32mnot\u001b[0m \u001b[0mNone\u001b[0m\u001b[1;33m:\u001b[0m\u001b[1;33m\u001b[0m\u001b[0m\n\u001b[1;32m--> 157\u001b[1;33m             \u001b[0mself\u001b[0m\u001b[1;33m.\u001b[0m\u001b[0maxis\u001b[0m\u001b[1;33m.\u001b[0m\u001b[0mcla\u001b[0m\u001b[1;33m(\u001b[0m\u001b[1;33m)\u001b[0m\u001b[1;33m\u001b[0m\u001b[0m\n\u001b[0m\u001b[0;32m    158\u001b[0m \u001b[1;33m\u001b[0m\u001b[0m\n\u001b[0;32m    159\u001b[0m     \u001b[1;32mdef\u001b[0m \u001b[0mcla\u001b[0m\u001b[1;33m(\u001b[0m\u001b[0mself\u001b[0m\u001b[1;33m)\u001b[0m\u001b[1;33m:\u001b[0m\u001b[1;33m\u001b[0m\u001b[0m\n",
        "\u001b[1;32mC:\\Users\\rkwant\\AppData\\Local\\Enthought\\Canopy\\User\\lib\\site-packages\\matplotlib\\axis.pyc\u001b[0m in \u001b[0;36mcla\u001b[1;34m(self)\u001b[0m\n\u001b[0;32m    752\u001b[0m         \u001b[0mself\u001b[0m\u001b[1;33m.\u001b[0m\u001b[0m_set_artist_props\u001b[0m\u001b[1;33m(\u001b[0m\u001b[0mself\u001b[0m\u001b[1;33m.\u001b[0m\u001b[0mlabel\u001b[0m\u001b[1;33m)\u001b[0m\u001b[1;33m\u001b[0m\u001b[0m\n\u001b[0;32m    753\u001b[0m \u001b[1;33m\u001b[0m\u001b[0m\n\u001b[1;32m--> 754\u001b[1;33m         \u001b[0mself\u001b[0m\u001b[1;33m.\u001b[0m\u001b[0mreset_ticks\u001b[0m\u001b[1;33m(\u001b[0m\u001b[1;33m)\u001b[0m\u001b[1;33m\u001b[0m\u001b[0m\n\u001b[0m\u001b[0;32m    755\u001b[0m \u001b[1;33m\u001b[0m\u001b[0m\n\u001b[0;32m    756\u001b[0m         \u001b[0mself\u001b[0m\u001b[1;33m.\u001b[0m\u001b[0mconverter\u001b[0m \u001b[1;33m=\u001b[0m \u001b[0mNone\u001b[0m\u001b[1;33m\u001b[0m\u001b[0m\n",
        "\u001b[1;32mC:\\Users\\rkwant\\AppData\\Local\\Enthought\\Canopy\\User\\lib\\site-packages\\matplotlib\\axis.pyc\u001b[0m in \u001b[0;36mreset_ticks\u001b[1;34m(self)\u001b[0m\n\u001b[0;32m    765\u001b[0m         \u001b[0mcbook\u001b[0m\u001b[1;33m.\u001b[0m\u001b[0mpopall\u001b[0m\u001b[1;33m(\u001b[0m\u001b[0mself\u001b[0m\u001b[1;33m.\u001b[0m\u001b[0mminorTicks\u001b[0m\u001b[1;33m)\u001b[0m\u001b[1;33m\u001b[0m\u001b[0m\n\u001b[0;32m    766\u001b[0m \u001b[1;33m\u001b[0m\u001b[0m\n\u001b[1;32m--> 767\u001b[1;33m         \u001b[0mself\u001b[0m\u001b[1;33m.\u001b[0m\u001b[0mmajorTicks\u001b[0m\u001b[1;33m.\u001b[0m\u001b[0mextend\u001b[0m\u001b[1;33m(\u001b[0m\u001b[1;33m[\u001b[0m\u001b[0mself\u001b[0m\u001b[1;33m.\u001b[0m\u001b[0m_get_tick\u001b[0m\u001b[1;33m(\u001b[0m\u001b[0mmajor\u001b[0m\u001b[1;33m=\u001b[0m\u001b[0mTrue\u001b[0m\u001b[1;33m)\u001b[0m\u001b[1;33m]\u001b[0m\u001b[1;33m)\u001b[0m\u001b[1;33m\u001b[0m\u001b[0m\n\u001b[0m\u001b[0;32m    768\u001b[0m         \u001b[0mself\u001b[0m\u001b[1;33m.\u001b[0m\u001b[0mminorTicks\u001b[0m\u001b[1;33m.\u001b[0m\u001b[0mextend\u001b[0m\u001b[1;33m(\u001b[0m\u001b[1;33m[\u001b[0m\u001b[0mself\u001b[0m\u001b[1;33m.\u001b[0m\u001b[0m_get_tick\u001b[0m\u001b[1;33m(\u001b[0m\u001b[0mmajor\u001b[0m\u001b[1;33m=\u001b[0m\u001b[0mFalse\u001b[0m\u001b[1;33m)\u001b[0m\u001b[1;33m]\u001b[0m\u001b[1;33m)\u001b[0m\u001b[1;33m\u001b[0m\u001b[0m\n\u001b[0;32m    769\u001b[0m         \u001b[0mself\u001b[0m\u001b[1;33m.\u001b[0m\u001b[0m_lastNumMajorTicks\u001b[0m \u001b[1;33m=\u001b[0m \u001b[1;36m1\u001b[0m\u001b[1;33m\u001b[0m\u001b[0m\n",
        "\u001b[1;32mC:\\Users\\rkwant\\AppData\\Local\\Enthought\\Canopy\\User\\lib\\site-packages\\matplotlib\\axis.pyc\u001b[0m in \u001b[0;36m_get_tick\u001b[1;34m(self, major)\u001b[0m\n\u001b[0;32m   1962\u001b[0m         \u001b[1;32melse\u001b[0m\u001b[1;33m:\u001b[0m\u001b[1;33m\u001b[0m\u001b[0m\n\u001b[0;32m   1963\u001b[0m             \u001b[0mtick_kw\u001b[0m \u001b[1;33m=\u001b[0m \u001b[0mself\u001b[0m\u001b[1;33m.\u001b[0m\u001b[0m_minor_tick_kw\u001b[0m\u001b[1;33m\u001b[0m\u001b[0m\n\u001b[1;32m-> 1964\u001b[1;33m         \u001b[1;32mreturn\u001b[0m \u001b[0mYTick\u001b[0m\u001b[1;33m(\u001b[0m\u001b[0mself\u001b[0m\u001b[1;33m.\u001b[0m\u001b[0maxes\u001b[0m\u001b[1;33m,\u001b[0m \u001b[1;36m0\u001b[0m\u001b[1;33m,\u001b[0m \u001b[1;34m''\u001b[0m\u001b[1;33m,\u001b[0m \u001b[0mmajor\u001b[0m\u001b[1;33m=\u001b[0m\u001b[0mmajor\u001b[0m\u001b[1;33m,\u001b[0m \u001b[1;33m**\u001b[0m\u001b[0mtick_kw\u001b[0m\u001b[1;33m)\u001b[0m\u001b[1;33m\u001b[0m\u001b[0m\n\u001b[0m\u001b[0;32m   1965\u001b[0m \u001b[1;33m\u001b[0m\u001b[0m\n\u001b[0;32m   1966\u001b[0m     \u001b[1;32mdef\u001b[0m \u001b[0m_get_label\u001b[0m\u001b[1;33m(\u001b[0m\u001b[0mself\u001b[0m\u001b[1;33m)\u001b[0m\u001b[1;33m:\u001b[0m\u001b[1;33m\u001b[0m\u001b[0m\n",
        "\u001b[1;32mC:\\Users\\rkwant\\AppData\\Local\\Enthought\\Canopy\\User\\lib\\site-packages\\matplotlib\\axis.pyc\u001b[0m in \u001b[0;36m__init__\u001b[1;34m(self, axes, loc, label, size, width, color, tickdir, pad, labelsize, labelcolor, zorder, gridOn, tick1On, tick2On, label1On, label2On, major)\u001b[0m\n\u001b[0;32m    146\u001b[0m         \u001b[0mself\u001b[0m\u001b[1;33m.\u001b[0m\u001b[0mapply_tickdir\u001b[0m\u001b[1;33m(\u001b[0m\u001b[0mtickdir\u001b[0m\u001b[1;33m)\u001b[0m\u001b[1;33m\u001b[0m\u001b[0m\n\u001b[0;32m    147\u001b[0m \u001b[1;33m\u001b[0m\u001b[0m\n\u001b[1;32m--> 148\u001b[1;33m         \u001b[0mself\u001b[0m\u001b[1;33m.\u001b[0m\u001b[0mtick1line\u001b[0m \u001b[1;33m=\u001b[0m \u001b[0mself\u001b[0m\u001b[1;33m.\u001b[0m\u001b[0m_get_tick1line\u001b[0m\u001b[1;33m(\u001b[0m\u001b[1;33m)\u001b[0m\u001b[1;33m\u001b[0m\u001b[0m\n\u001b[0m\u001b[0;32m    149\u001b[0m         \u001b[0mself\u001b[0m\u001b[1;33m.\u001b[0m\u001b[0mtick2line\u001b[0m \u001b[1;33m=\u001b[0m \u001b[0mself\u001b[0m\u001b[1;33m.\u001b[0m\u001b[0m_get_tick2line\u001b[0m\u001b[1;33m(\u001b[0m\u001b[1;33m)\u001b[0m\u001b[1;33m\u001b[0m\u001b[0m\n\u001b[0;32m    150\u001b[0m         \u001b[0mself\u001b[0m\u001b[1;33m.\u001b[0m\u001b[0mgridline\u001b[0m \u001b[1;33m=\u001b[0m \u001b[0mself\u001b[0m\u001b[1;33m.\u001b[0m\u001b[0m_get_gridline\u001b[0m\u001b[1;33m(\u001b[0m\u001b[1;33m)\u001b[0m\u001b[1;33m\u001b[0m\u001b[0m\n",
        "\u001b[1;32mC:\\Users\\rkwant\\AppData\\Local\\Enthought\\Canopy\\User\\lib\\site-packages\\matplotlib\\axis.pyc\u001b[0m in \u001b[0;36m_get_tick1line\u001b[1;34m(self)\u001b[0m\n\u001b[0;32m    536\u001b[0m                     \u001b[0mmarkersize\u001b[0m\u001b[1;33m=\u001b[0m\u001b[0mself\u001b[0m\u001b[1;33m.\u001b[0m\u001b[0m_size\u001b[0m\u001b[1;33m,\u001b[0m\u001b[1;33m\u001b[0m\u001b[0m\n\u001b[0;32m    537\u001b[0m                     \u001b[0mmarkeredgewidth\u001b[0m\u001b[1;33m=\u001b[0m\u001b[0mself\u001b[0m\u001b[1;33m.\u001b[0m\u001b[0m_width\u001b[0m\u001b[1;33m,\u001b[0m\u001b[1;33m\u001b[0m\u001b[0m\n\u001b[1;32m--> 538\u001b[1;33m                     \u001b[0mzorder\u001b[0m\u001b[1;33m=\u001b[0m\u001b[0mself\u001b[0m\u001b[1;33m.\u001b[0m\u001b[0m_zorder\u001b[0m\u001b[1;33m,\u001b[0m\u001b[1;33m\u001b[0m\u001b[0m\n\u001b[0m\u001b[0;32m    539\u001b[0m                     )\n\u001b[0;32m    540\u001b[0m         \u001b[0ml\u001b[0m\u001b[1;33m.\u001b[0m\u001b[0mset_transform\u001b[0m\u001b[1;33m(\u001b[0m\u001b[0mself\u001b[0m\u001b[1;33m.\u001b[0m\u001b[0maxes\u001b[0m\u001b[1;33m.\u001b[0m\u001b[0mget_yaxis_transform\u001b[0m\u001b[1;33m(\u001b[0m\u001b[0mwhich\u001b[0m\u001b[1;33m=\u001b[0m\u001b[1;34m'tick1'\u001b[0m\u001b[1;33m)\u001b[0m\u001b[1;33m)\u001b[0m\u001b[1;33m\u001b[0m\u001b[0m\n",
        "\u001b[1;32mC:\\Users\\rkwant\\AppData\\Local\\Enthought\\Canopy\\User\\lib\\site-packages\\matplotlib\\lines.pyc\u001b[0m in \u001b[0;36m__init__\u001b[1;34m(self, xdata, ydata, linewidth, linestyle, color, marker, markersize, markeredgewidth, markeredgecolor, markerfacecolor, markerfacecoloralt, fillstyle, antialiased, dash_capstyle, solid_capstyle, dash_joinstyle, solid_joinstyle, pickradius, drawstyle, markevery, **kwargs)\u001b[0m\n\u001b[0;32m    335\u001b[0m         \u001b[0mself\u001b[0m\u001b[1;33m.\u001b[0m\u001b[0mset_markeredgecolor\u001b[0m\u001b[1;33m(\u001b[0m\u001b[0mmarkeredgecolor\u001b[0m\u001b[1;33m)\u001b[0m\u001b[1;33m\u001b[0m\u001b[0m\n\u001b[0;32m    336\u001b[0m         \u001b[0mself\u001b[0m\u001b[1;33m.\u001b[0m\u001b[0mset_markeredgewidth\u001b[0m\u001b[1;33m(\u001b[0m\u001b[0mmarkeredgewidth\u001b[0m\u001b[1;33m)\u001b[0m\u001b[1;33m\u001b[0m\u001b[0m\n\u001b[1;32m--> 337\u001b[1;33m         \u001b[0mself\u001b[0m\u001b[1;33m.\u001b[0m\u001b[0mset_fillstyle\u001b[0m\u001b[1;33m(\u001b[0m\u001b[0mfillstyle\u001b[0m\u001b[1;33m)\u001b[0m\u001b[1;33m\u001b[0m\u001b[0m\n\u001b[0m\u001b[0;32m    338\u001b[0m \u001b[1;33m\u001b[0m\u001b[0m\n\u001b[0;32m    339\u001b[0m         \u001b[0mself\u001b[0m\u001b[1;33m.\u001b[0m\u001b[0mverticalOffset\u001b[0m \u001b[1;33m=\u001b[0m \u001b[0mNone\u001b[0m\u001b[1;33m\u001b[0m\u001b[0m\n",
        "\u001b[1;32mC:\\Users\\rkwant\\AppData\\Local\\Enthought\\Canopy\\User\\lib\\site-packages\\matplotlib\\lines.pyc\u001b[0m in \u001b[0;36mset_fillstyle\u001b[1;34m(self, fs)\u001b[0m\n\u001b[0;32m    457\u001b[0m         \u001b[0mACCEPTS\u001b[0m\u001b[1;33m:\u001b[0m \u001b[1;33m[\u001b[0m\u001b[1;34m'full'\u001b[0m \u001b[1;33m|\u001b[0m \u001b[1;34m'left'\u001b[0m \u001b[1;33m|\u001b[0m \u001b[1;34m'right'\u001b[0m \u001b[1;33m|\u001b[0m \u001b[1;34m'bottom'\u001b[0m \u001b[1;33m|\u001b[0m \u001b[1;34m'top'\u001b[0m \u001b[1;33m|\u001b[0m \u001b[1;34m'none'\u001b[0m\u001b[1;33m]\u001b[0m\u001b[1;33m\u001b[0m\u001b[0m\n\u001b[0;32m    458\u001b[0m         \"\"\"\n\u001b[1;32m--> 459\u001b[1;33m         \u001b[0mself\u001b[0m\u001b[1;33m.\u001b[0m\u001b[0m_marker\u001b[0m\u001b[1;33m.\u001b[0m\u001b[0mset_fillstyle\u001b[0m\u001b[1;33m(\u001b[0m\u001b[0mfs\u001b[0m\u001b[1;33m)\u001b[0m\u001b[1;33m\u001b[0m\u001b[0m\n\u001b[0m\u001b[0;32m    460\u001b[0m \u001b[1;33m\u001b[0m\u001b[0m\n\u001b[0;32m    461\u001b[0m     \u001b[1;32mdef\u001b[0m \u001b[0mset_markevery\u001b[0m\u001b[1;33m(\u001b[0m\u001b[0mself\u001b[0m\u001b[1;33m,\u001b[0m \u001b[0mevery\u001b[0m\u001b[1;33m)\u001b[0m\u001b[1;33m:\u001b[0m\u001b[1;33m\u001b[0m\u001b[0m\n",
        "\u001b[1;32mC:\\Users\\rkwant\\AppData\\Local\\Enthought\\Canopy\\User\\lib\\site-packages\\matplotlib\\markers.pyc\u001b[0m in \u001b[0;36mset_fillstyle\u001b[1;34m(self, fillstyle)\u001b[0m\n\u001b[0;32m    216\u001b[0m                              % ' '.join(self.fillstyles))\n\u001b[0;32m    217\u001b[0m         \u001b[0mself\u001b[0m\u001b[1;33m.\u001b[0m\u001b[0m_fillstyle\u001b[0m \u001b[1;33m=\u001b[0m \u001b[0mfillstyle\u001b[0m\u001b[1;33m\u001b[0m\u001b[0m\n\u001b[1;32m--> 218\u001b[1;33m         \u001b[0mself\u001b[0m\u001b[1;33m.\u001b[0m\u001b[0m_recache\u001b[0m\u001b[1;33m(\u001b[0m\u001b[1;33m)\u001b[0m\u001b[1;33m\u001b[0m\u001b[0m\n\u001b[0m\u001b[0;32m    219\u001b[0m \u001b[1;33m\u001b[0m\u001b[0m\n\u001b[0;32m    220\u001b[0m     \u001b[1;32mdef\u001b[0m \u001b[0mget_joinstyle\u001b[0m\u001b[1;33m(\u001b[0m\u001b[0mself\u001b[0m\u001b[1;33m)\u001b[0m\u001b[1;33m:\u001b[0m\u001b[1;33m\u001b[0m\u001b[0m\n",
        "\u001b[1;32mC:\\Users\\rkwant\\AppData\\Local\\Enthought\\Canopy\\User\\lib\\site-packages\\matplotlib\\markers.pyc\u001b[0m in \u001b[0;36m_recache\u001b[1;34m(self)\u001b[0m\n\u001b[0;32m    181\u001b[0m \u001b[1;33m\u001b[0m\u001b[0m\n\u001b[0;32m    182\u001b[0m     \u001b[1;32mdef\u001b[0m \u001b[0m_recache\u001b[0m\u001b[1;33m(\u001b[0m\u001b[0mself\u001b[0m\u001b[1;33m)\u001b[0m\u001b[1;33m:\u001b[0m\u001b[1;33m\u001b[0m\u001b[0m\n\u001b[1;32m--> 183\u001b[1;33m         \u001b[0mself\u001b[0m\u001b[1;33m.\u001b[0m\u001b[0m_path\u001b[0m \u001b[1;33m=\u001b[0m \u001b[0mPath\u001b[0m\u001b[1;33m(\u001b[0m\u001b[0mnp\u001b[0m\u001b[1;33m.\u001b[0m\u001b[0mempty\u001b[0m\u001b[1;33m(\u001b[0m\u001b[1;33m(\u001b[0m\u001b[1;36m0\u001b[0m\u001b[1;33m,\u001b[0m \u001b[1;36m2\u001b[0m\u001b[1;33m)\u001b[0m\u001b[1;33m)\u001b[0m\u001b[1;33m)\u001b[0m\u001b[1;33m\u001b[0m\u001b[0m\n\u001b[0m\u001b[0;32m    184\u001b[0m         \u001b[0mself\u001b[0m\u001b[1;33m.\u001b[0m\u001b[0m_transform\u001b[0m \u001b[1;33m=\u001b[0m \u001b[0mIdentityTransform\u001b[0m\u001b[1;33m(\u001b[0m\u001b[1;33m)\u001b[0m\u001b[1;33m\u001b[0m\u001b[0m\n\u001b[0;32m    185\u001b[0m         \u001b[0mself\u001b[0m\u001b[1;33m.\u001b[0m\u001b[0m_alt_path\u001b[0m \u001b[1;33m=\u001b[0m \u001b[0mNone\u001b[0m\u001b[1;33m\u001b[0m\u001b[0m\n",
        "\u001b[1;32mC:\\Users\\rkwant\\AppData\\Local\\Enthought\\Canopy\\User\\lib\\site-packages\\matplotlib\\path.pyc\u001b[0m in \u001b[0;36m__init__\u001b[1;34m(self, vertices, codes, _interpolation_steps, closed, readonly)\u001b[0m\n\u001b[0;32m    155\u001b[0m         \u001b[0mself\u001b[0m\u001b[1;33m.\u001b[0m\u001b[0m_codes\u001b[0m \u001b[1;33m=\u001b[0m \u001b[0mcodes\u001b[0m\u001b[1;33m\u001b[0m\u001b[0m\n\u001b[0;32m    156\u001b[0m         \u001b[0mself\u001b[0m\u001b[1;33m.\u001b[0m\u001b[0m_interpolation_steps\u001b[0m \u001b[1;33m=\u001b[0m \u001b[0m_interpolation_steps\u001b[0m\u001b[1;33m\u001b[0m\u001b[0m\n\u001b[1;32m--> 157\u001b[1;33m         \u001b[0mself\u001b[0m\u001b[1;33m.\u001b[0m\u001b[0m_update_values\u001b[0m\u001b[1;33m(\u001b[0m\u001b[1;33m)\u001b[0m\u001b[1;33m\u001b[0m\u001b[0m\n\u001b[0m\u001b[0;32m    158\u001b[0m \u001b[1;33m\u001b[0m\u001b[0m\n\u001b[0;32m    159\u001b[0m         \u001b[1;32mif\u001b[0m \u001b[0mreadonly\u001b[0m\u001b[1;33m:\u001b[0m\u001b[1;33m\u001b[0m\u001b[0m\n",
        "\u001b[1;32mC:\\Users\\rkwant\\AppData\\Local\\Enthought\\Canopy\\User\\lib\\site-packages\\matplotlib\\path.pyc\u001b[0m in \u001b[0;36m_update_values\u001b[1;34m(self)\u001b[0m\n\u001b[0;32m    203\u001b[0m             (self._codes is None or np.all(self._codes <= Path.LINETO))))\n\u001b[0;32m    204\u001b[0m         \u001b[0mself\u001b[0m\u001b[1;33m.\u001b[0m\u001b[0m_simplify_threshold\u001b[0m \u001b[1;33m=\u001b[0m \u001b[0mrcParams\u001b[0m\u001b[1;33m[\u001b[0m\u001b[1;34m'path.simplify_threshold'\u001b[0m\u001b[1;33m]\u001b[0m\u001b[1;33m\u001b[0m\u001b[0m\n\u001b[1;32m--> 205\u001b[1;33m         \u001b[0mself\u001b[0m\u001b[1;33m.\u001b[0m\u001b[0m_has_nonfinite\u001b[0m \u001b[1;33m=\u001b[0m \u001b[1;32mnot\u001b[0m \u001b[0mnp\u001b[0m\u001b[1;33m.\u001b[0m\u001b[0misfinite\u001b[0m\u001b[1;33m(\u001b[0m\u001b[0mself\u001b[0m\u001b[1;33m.\u001b[0m\u001b[0m_vertices\u001b[0m\u001b[1;33m)\u001b[0m\u001b[1;33m.\u001b[0m\u001b[0mall\u001b[0m\u001b[1;33m(\u001b[0m\u001b[1;33m)\u001b[0m\u001b[1;33m\u001b[0m\u001b[0m\n\u001b[0m\u001b[0;32m    206\u001b[0m \u001b[1;33m\u001b[0m\u001b[0m\n\u001b[0;32m    207\u001b[0m     \u001b[1;33m@\u001b[0m\u001b[0mproperty\u001b[0m\u001b[1;33m\u001b[0m\u001b[0m\n",
        "\u001b[1;32mC:\\Users\\rkwant\\AppData\\Local\\Enthought\\Canopy\\User\\lib\\site-packages\\numpy\\core\\_methods.pyc\u001b[0m in \u001b[0;36m_all\u001b[1;34m(a, axis, dtype, out, keepdims)\u001b[0m\n\u001b[0;32m     35\u001b[0m \u001b[1;32mdef\u001b[0m \u001b[0m_all\u001b[0m\u001b[1;33m(\u001b[0m\u001b[0ma\u001b[0m\u001b[1;33m,\u001b[0m \u001b[0maxis\u001b[0m\u001b[1;33m=\u001b[0m\u001b[0mNone\u001b[0m\u001b[1;33m,\u001b[0m \u001b[0mdtype\u001b[0m\u001b[1;33m=\u001b[0m\u001b[0mNone\u001b[0m\u001b[1;33m,\u001b[0m \u001b[0mout\u001b[0m\u001b[1;33m=\u001b[0m\u001b[0mNone\u001b[0m\u001b[1;33m,\u001b[0m \u001b[0mkeepdims\u001b[0m\u001b[1;33m=\u001b[0m\u001b[0mFalse\u001b[0m\u001b[1;33m)\u001b[0m\u001b[1;33m:\u001b[0m\u001b[1;33m\u001b[0m\u001b[0m\n\u001b[0;32m     36\u001b[0m     return um.logical_and.reduce(a, axis=axis, dtype=dtype, out=out,\n\u001b[1;32m---> 37\u001b[1;33m                                  keepdims=keepdims)\n\u001b[0m\u001b[0;32m     38\u001b[0m \u001b[1;33m\u001b[0m\u001b[0m\n\u001b[0;32m     39\u001b[0m \u001b[1;32mdef\u001b[0m \u001b[0m_count_reduce_items\u001b[0m\u001b[1;33m(\u001b[0m\u001b[0marr\u001b[0m\u001b[1;33m,\u001b[0m \u001b[0maxis\u001b[0m\u001b[1;33m)\u001b[0m\u001b[1;33m:\u001b[0m\u001b[1;33m\u001b[0m\u001b[0m\n",
        "\u001b[1;31mKeyboardInterrupt\u001b[0m: "
       ]
      }
     ],
     "prompt_number": 245
    },
    {
     "cell_type": "code",
     "collapsed": false,
     "input": [
      "s.support_"
     ],
     "language": "python",
     "metadata": {},
     "outputs": [
      {
       "metadata": {},
       "output_type": "pyout",
       "prompt_number": 199,
       "text": [
        "array([ 1,  2,  3,  6,  8, 12, 13, 14, 15, 17, 19, 22, 24, 26, 28, 29, 31,\n",
        "       32, 33])"
       ]
      }
     ],
     "prompt_number": 199
    },
    {
     "cell_type": "code",
     "collapsed": false,
     "input": [
      "bbox = props[0].bbox\n",
      "print props[0].image\n",
      "(image[bbox[0]:bbox[2], bbox[1]:bbox[3]])[props[0].image]"
     ],
     "language": "python",
     "metadata": {},
     "outputs": [
      {
       "output_type": "stream",
       "stream": "stdout",
       "text": [
        "[[False  True  True]\n",
        " [ True  True  True]\n",
        " [ True  True  True]\n",
        " [ True  True  True]]\n"
       ]
      },
      {
       "metadata": {},
       "output_type": "pyout",
       "prompt_number": 167,
       "text": [
        "array([ 86,  72, 137, 220, 182, 189, 255, 223, 117, 177, 118], dtype=uint8)"
       ]
      }
     ],
     "prompt_number": 167
    }
   ],
   "metadata": {}
  }
 ]
}