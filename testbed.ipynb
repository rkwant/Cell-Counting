{
 "metadata": {
  "name": "",
  "signature": "sha256:865a6e30ab5dd32baf4cb4b385e4e61e40811e2f4c7b82c6140146f621a24396"
 },
 "nbformat": 3,
 "nbformat_minor": 0,
 "worksheets": [
  {
   "cells": [
    {
     "cell_type": "code",
     "collapsed": false,
     "input": [
      "%pylab tk"
     ],
     "language": "python",
     "metadata": {},
     "outputs": [
      {
       "output_type": "stream",
       "stream": "stdout",
       "text": [
        "Populating the interactive namespace from numpy and matplotlib\n"
       ]
      }
     ],
     "prompt_number": 1
    },
    {
     "cell_type": "code",
     "collapsed": false,
     "input": [
      "from scipy import ndimage\n",
      "from skimage.morphology import watershed, closing, square, disk, reconstruction, binary_closing\n",
      "from skimage.segmentation import mark_boundaries, join_segmentations, relabel_sequential\n",
      "from skimage.feature import peak_local_max, corner_peaks\n",
      "from skimage.io import imread\n",
      "from skimage.filter import gaussian_filter, threshold_otsu, threshold_isodata, threshold_adaptive, threshold_yen, canny, sobel\n",
      "from skimage.exposure import adjust_log, adjust_sigmoid, adjust_gamma, equalize_hist, equalize_adapthist, rescale_intensity\n",
      "from skimage.measure import regionprops, label\n",
      "from skimage.color import label2rgb, rgb2gray\n",
      "from skimage.transform import hough_circle\n",
      "from skimage.filter.rank import entropy, mean_bilateral, enhance_contrast, maximum, minimum, gradient\n",
      "from skimage.restoration import denoise_bilateral\n",
      "from skimage.measure import find_contours, approximate_polygon, subdivide_polygon\n",
      "import time\n",
      "import pickle\n",
      "\n",
      "from sklearn.grid_search import GridSearchCV\n",
      "from sklearn import svm\n",
      "from sklearn.ensemble import RandomForestClassifier\n",
      "from sklearn.tree import DecisionTreeClassifier\n",
      "from sklearn.neighbors import KNeighborsClassifier\n",
      "from sklearn import linear_model\n",
      "from sklearn.mixture import GMM"
     ],
     "language": "python",
     "metadata": {},
     "outputs": [],
     "prompt_number": 37
    },
    {
     "cell_type": "code",
     "collapsed": false,
     "input": [
      "#path='/Users/richardkwant/Documents/Berkeley/rkwant/Notebook_Pages/Pages/5-066/'\n",
      "path='C:\\\\Users\\\\rkwant\\\\Documents\\\\Berkeley\\\\rkwant\\\\Notebook_Pages\\\\Pages\\\\5-066\\\\'\n",
      "image=imread(path+'Burke1.tif', as_grey=True)\n",
      "x,y=image.shape\n",
      "image = image[x/2+1:,0:y/2]"
     ],
     "language": "python",
     "metadata": {},
     "outputs": [],
     "prompt_number": 3
    },
    {
     "cell_type": "code",
     "collapsed": false,
     "input": [
      "figure(1, figsize=(20, 10))\n",
      "clf()\n",
      "sli = image[100:612,100:612]\n",
      "subplot(121)\n",
      "imshow(gaussian_filter(sli, 0))\n",
      "\n",
      "subplot(122)\n",
      "toshow=sli\n",
      "\n",
      "\n",
      "labs=label(sli>threshold_otsu(sli)*0.98, background=0)\n",
      "\n",
      "a=regionprops(labs)\n",
      "for b in a:\n",
      "    pass\n",
      "    sli=b.image.astype(int8)\n",
      "    c=b.bbox\n",
      "\n",
      "    padsize=3\n",
      "    pad = zeros((sli.shape[0]+padsize*2, sli.shape[1]+padsize*2))\n",
      "    pad[padsize:-padsize, padsize:-padsize] = sli\n",
      "    pad=binary_closing(pad, square(3))\n",
      "    labs[c[0]:c[2], c[1]:c[3]][where(pad[padsize:-padsize, padsize:-padsize]>0)] = 1\n",
      "\n",
      "\n",
      "imshow(labs)\n",
      "tight_layout()\n",
      "#imshow(dstack((sli, toshow.astype(float32), zeros(toshow.shape))), alpha=1)\n"
     ],
     "language": "python",
     "metadata": {},
     "outputs": [],
     "prompt_number": 80
    },
    {
     "cell_type": "code",
     "collapsed": false,
     "input": [
      "a=regionprops(labs)\n",
      "for b in a:\n",
      "    pass"
     ],
     "language": "python",
     "metadata": {},
     "outputs": [],
     "prompt_number": 17
    },
    {
     "cell_type": "code",
     "collapsed": false,
     "input": [
      "figure(2)\n",
      "clf()\n",
      "subplot(121)\n",
      "sli=a[290].image.astype(int8)\n",
      "\n",
      "padsize=3\n",
      "pad = zeros((sli.shape[0]+padsize*2, sli.shape[1]+padsize*2))\n",
      "pad[padsize:-padsize, padsize:-padsize] = sli\n",
      "\n",
      "imshow(pad, interpolation='nearest')\n",
      "\n",
      "subplot(122)\n",
      "pad=binary_closing(pad, square(3))\n",
      "imshow(pad, interpolation='nearest')\n",
      "\n",
      "labs[c[0]:c[2], c[1]:c[3]] = pad[padsize:-padsize, padsize:-padsize]\n",
      "\n",
      "show()"
     ],
     "language": "python",
     "metadata": {},
     "outputs": [],
     "prompt_number": 75
    },
    {
     "cell_type": "code",
     "collapsed": false,
     "input": [
      "c=a[290].bbox"
     ],
     "language": "python",
     "metadata": {},
     "outputs": [],
     "prompt_number": 72
    },
    {
     "cell_type": "code",
     "collapsed": false,
     "input": [
      "labs[c[0]:c[2], c[1]:c[3]]"
     ],
     "language": "python",
     "metadata": {},
     "outputs": [
      {
       "metadata": {},
       "output_type": "pyout",
       "prompt_number": 74,
       "text": [
        "array([[ -1,  -1, 268,  -1,  -1,  -1, 268, 268, 268,  -1],\n",
        "       [ -1,  -1, 268, 268, 268,  -1,  -1, 268, 268,  -1],\n",
        "       [ -1, 268, 268, 268, 268, 268,  -1, 268, 268, 268],\n",
        "       [268, 268, 268, 268, 268, 268,  -1,  -1, 268, 268],\n",
        "       [268, 268,  -1, 268, 268, 268,  -1,  -1, 268, 268],\n",
        "       [268, 268,  -1,  -1, 268, 268, 268, 268, 268,  -1],\n",
        "       [ -1, 268, 268, 268, 268, 268, 268, 268,  -1,  -1],\n",
        "       [ -1,  -1, 268, 268, 268, 268, 268,  -1,  -1,  -1]], dtype=int64)"
       ]
      }
     ],
     "prompt_number": 74
    },
    {
     "cell_type": "code",
     "collapsed": false,
     "input": [],
     "language": "python",
     "metadata": {},
     "outputs": []
    }
   ],
   "metadata": {}
  }
 ]
}