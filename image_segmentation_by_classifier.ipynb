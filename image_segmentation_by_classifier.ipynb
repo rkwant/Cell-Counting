{
 "metadata": {
  "name": "",
  "signature": "sha256:f3e5574eea6e34cbc8b267868ff6ff8ec01458004a0165bc31660b96919dc437"
 },
 "nbformat": 3,
 "nbformat_minor": 0,
 "worksheets": [
  {
   "cells": [
    {
     "cell_type": "code",
     "collapsed": false,
     "input": [
      "%pylab"
     ],
     "language": "python",
     "metadata": {},
     "outputs": [
      {
       "output_type": "stream",
       "stream": "stdout",
       "text": [
        "Using matplotlib backend: MacOSX\n",
        "Populating the interactive namespace from numpy and matplotlib\n"
       ]
      }
     ],
     "prompt_number": 1
    },
    {
     "cell_type": "code",
     "collapsed": false,
     "input": [
      "from scipy import ndimage\n",
      "from skimage.morphology import watershed\n",
      "from skimage.segmentation import mark_boundaries, join_segmentations, relabel_sequential\n",
      "from skimage.feature import peak_local_max, corner_peaks\n",
      "from skimage.io import imread\n",
      "from skimage.filter import gaussian_filter, threshold_otsu, threshold_isodata, threshold_adaptive, threshold_yen, canny, sobel\n",
      "from skimage.exposure import adjust_log, adjust_sigmoid, adjust_gamma, equalize_hist, equalize_adapthist, rescale_intensity\n",
      "from skimage.measure import regionprops\n",
      "from skimage.color import label2rgb\n",
      "from skimage.transform import hough_circle\n",
      "import time\n",
      "\n",
      "from sklearn.grid_search import GridSearchCV\n",
      "from sklearn import svm\n",
      "from sklearn.ensemble import RandomForestClassifier\n",
      "from sklearn.neighbors import KNeighborsClassifier\n",
      "from sklearn import linear_model\n",
      "from sklearn.mixture import GMM"
     ],
     "language": "python",
     "metadata": {},
     "outputs": [],
     "prompt_number": 2
    },
    {
     "cell_type": "code",
     "collapsed": false,
     "input": [
      "path='/Users/richardkwant/Documents/Berkeley/rkwant/Notebook_Pages/Pages/5-053/'\n",
      "#path='C:\\\\Users\\\\rkwant\\\\Documents\\\\Berkeley\\\\rkwant\\\\Notebook_Pages\\\\Pages\\\\5-053\\\\'\n",
      "image=imread(path+'Burkeavin1-bf.tif')\n",
      "fig = figure(1)\n",
      "clf()\n",
      "\n",
      "ax1 = subplot(1,2,1)\n",
      "ax1.imshow(image, cmap='bone', interpolation='nearest')\n",
      "\n",
      "ax2 = subplot(1,2,2)\n",
      "ax2.imshow(image, cmap='bone')\n",
      "show()\n",
      "\n",
      "fig2=figure(2)\n",
      "ax3=subplot(1,1,1)\n",
      "\n",
      "inpoints=[]\n",
      "outpoints=[]\n",
      "countresults=[]\n",
      "\n",
      "def onclick(event):\n",
      "    settings = (ax1.get_xlim(), ax1.get_ylim())\n",
      "    x,y = event.xdata, event.ydata\n",
      "    xf, yf = int(round(x)), int(round(y))\n",
      "    \n",
      "    if event.button ==1: \n",
      "        inpoints.append((xf, yf))\n",
      "    elif event.button==3:\n",
      "        outpoints.append((xf,yf))\n",
      "    \n",
      "    def getimdex(xx,yy):\n",
      "        return int(yy*image.shape[0] + xx)\n",
      "    \n",
      "    if len(inpoints) < 2 or len(outpoints) < 2: return\n",
      "    \n",
      "    im_range = [image.copy(), sobel(image)]\n",
      "    im_edges_ranges = [canny(image, sigma=i) for i in arange(0.1, 1.1, 0.1)]\n",
      "    hough_ranges = [gaussian_filter(hough_circle(k, array([1]))[0], 1) for k in im_edges_ranges]\n",
      "    gauss_ranges = [gaussian_filter(image, i) - gaussian_filter(image, i+1) for i in range(1, 4)]\n",
      "    des = array(im_range+im_edges_ranges+hough_ranges+gauss_ranges)\n",
      "    descriptors = des.reshape(des.shape[0],-1).transpose()\n",
      "    #print xf, yf, descriptors[getimdex(xf, yf)]\n",
      "    #print 'image', image[yf, xf]\n",
      "    \n",
      "    training = inpoints+outpoints\n",
      "    training = [descriptors[getimdex(j[0], j[1])] for j in training]\n",
      "    classes = [0 for i in range(0, len(inpoints))] + [1 for i in range(0, len(outpoints))]    \n",
      "    \n",
      "    s = RandomForestClassifier(n_estimators=30)\n",
      "    s.fit(training, classes)\n",
      "    results = s.predict_proba(descriptors)\n",
      "    \n",
      "    test = zeros(image.shape)\n",
      "    test = test.reshape(1,-1).transpose()\n",
      "    test[getimdex(xf, yf)] = 1000\n",
      "    \n",
      "    ax2.cla()\n",
      "    \n",
      "    r = 3\n",
      "    a, b = r, r\n",
      "    n = 2*a+1\n",
      "    y,x = np.ogrid[-a:n-a, -b:n-b]\n",
      "    mask = x*x + y*y <= r*r\n",
      "    \n",
      "    prediction = gaussian_filter(results[:,0].reshape(image.shape), 1)\n",
      "    local_maxi = peak_local_max(prediction, indices=False, exclude_border=False, footprint=mask)\n",
      "    markers = ndimage.label(local_maxi)[0]\n",
      "    ax2.imshow(prediction, cmap='bone')\n",
      "    nz = nonzero(markers)\n",
      "    ax2.plot(nz[1], nz[0], '.', color='purple')\n",
      "    #print markers.max()\n",
      "    countresults.append(markers.max())\n",
      "    \n",
      "    \n",
      "    #ax2.imshow(test.reshape(image.shape))\n",
      "    ax1.cla()\n",
      "    ax1.imshow(image, cmap='bone', interpolation='nearest')\n",
      "    #ax1.imshow(markers*1000, alpha=0.1)\n",
      "    ip=array(inpoints)\n",
      "    op=array(outpoints)\n",
      "    ax1.plot(ip[:,0], ip[:,1], 'o', color='green')\n",
      "    ax1.plot(op[:,0], op[:,1], 'o', color='red')\n",
      "    ax1.plot(nz[1], nz[0], '.', color='purple')\n",
      "    \n",
      "    ax1.set_xlim(settings[0])\n",
      "    ax1.set_ylim(settings[1])\n",
      "    \n",
      "    ax2.set_xlim(settings[0])\n",
      "    ax2.set_ylim(settings[1])\n",
      "    \n",
      "    ax3.cla()\n",
      "    ax3.plot(countresults)\n",
      "    fig2.canvas.draw()\n",
      "    fig.canvas.draw()\n",
      "cid = fig.canvas.mpl_connect(\"button_press_event\", onclick)\n",
      "#tight_layout()\n",
      "show()"
     ],
     "language": "python",
     "metadata": {},
     "outputs": [],
     "prompt_number": 4
    },
    {
     "cell_type": "code",
     "collapsed": false,
     "input": [
      "figure(2)\n",
      "clf()\n",
      "plot(countresults)\n",
      "show()"
     ],
     "language": "python",
     "metadata": {},
     "outputs": [],
     "prompt_number": 11
    },
    {
     "cell_type": "code",
     "collapsed": false,
     "input": [
      "figure(2)\n",
      "clf()\n",
      "i=2\n",
      "theim = sobel(image)\n",
      "theim = theim\n",
      "imshow(theim)\n",
      "show()"
     ],
     "language": "python",
     "metadata": {},
     "outputs": [],
     "prompt_number": 65
    },
    {
     "cell_type": "code",
     "collapsed": false,
     "input": [
      "im_range = [image]\n",
      "im_edges_ranges = [canny(image, sigma=i) for i in arange(0.1, 1.1, 0.1)]\n",
      "hough_ranges = [gaussian_filter(hough_circle(k, array([1]))[0], 1) for k in im_edges_ranges]\n",
      "gauss_ranges = [gaussian_filter(image, i) - gaussian_filter(image, i+1) for i in range(1, 4)]\n",
      "des = array(im_range)\n",
      "descriptors = des.reshape(des.shape[0],-1).transpose()"
     ],
     "language": "python",
     "metadata": {},
     "outputs": [],
     "prompt_number": 5
    },
    {
     "cell_type": "code",
     "collapsed": false,
     "input": [
      "def getimdex(x,y):\n",
      "    return y*image.shape[0] + x\n",
      "\n",
      "training = inpoints+outpoints\n",
      "training = [descriptors[getimdex(j[0], j[1])] for j in training]\n",
      "classes = [0 for i in range(0, len(inpoints))] + [1 for i in range(0, len(outpoints))]"
     ],
     "language": "python",
     "metadata": {},
     "outputs": [
      {
       "output_type": "stream",
       "stream": "stderr",
       "text": [
        "-c:5: DeprecationWarning: using a non-integer number instead of an integer will result in an error in the future\n",
        "-c:5: DeprecationWarning: using a non-integer number instead of an integer will result in an error in the future\n",
        "-c:5: DeprecationWarning: using a non-integer number instead of an integer will result in an error in the future\n",
        "-c:5: DeprecationWarning: using a non-integer number instead of an integer will result in an error in the future\n",
        "-c:5: DeprecationWarning: using a non-integer number instead of an integer will result in an error in the future\n",
        "-c:5: DeprecationWarning: using a non-integer number instead of an integer will result in an error in the future\n"
       ]
      }
     ],
     "prompt_number": 21
    },
    {
     "cell_type": "code",
     "collapsed": false,
     "input": [
      "s = svm.SVC()\n",
      "s.fit(training, classes)"
     ],
     "language": "python",
     "metadata": {},
     "outputs": [
      {
       "metadata": {},
       "output_type": "pyout",
       "prompt_number": 162,
       "text": [
        "SVC(C=1.0, cache_size=200, class_weight=None, coef0=0.0, degree=3, gamma=0.0,\n",
        "  kernel='rbf', max_iter=-1, probability=False, random_state=None,\n",
        "  shrinking=True, tol=0.001, verbose=False)"
       ]
      }
     ],
     "prompt_number": 162
    },
    {
     "cell_type": "code",
     "collapsed": false,
     "input": [
      "results = s.predict(descriptors)"
     ],
     "language": "python",
     "metadata": {},
     "outputs": [],
     "prompt_number": 164
    },
    {
     "cell_type": "code",
     "collapsed": false,
     "input": [
      "figure(2)\n",
      "clf()\n",
      "imshow(image)\n",
      "show()"
     ],
     "language": "python",
     "metadata": {},
     "outputs": [],
     "prompt_number": 30
    },
    {
     "cell_type": "code",
     "collapsed": false,
     "input": [
      "image"
     ],
     "language": "python",
     "metadata": {},
     "outputs": [
      {
       "output_type": "stream",
       "stream": "stderr",
       "text": [
        "-c:38: DeprecationWarning: using a non-integer number instead of an integer will result in an error in the future\n",
        "-c:38: DeprecationWarning: using a non-integer number instead of an integer will result in an error in the future\n",
        "-c:38: DeprecationWarning: using a non-integer number instead of an integer will result in an error in the future\n"
       ]
      },
      {
       "metadata": {},
       "output_type": "pyout",
       "prompt_number": 4,
       "text": [
        "array([[44, 57, 65, ..., 48, 51, 63],\n",
        "       [54, 46, 61, ..., 55, 50, 44],\n",
        "       [59, 46, 49, ..., 58, 53, 47],\n",
        "       ..., \n",
        "       [50, 50, 64, ..., 62, 51, 51],\n",
        "       [53, 44, 56, ..., 57, 57, 52],\n",
        "       [56, 48, 49, ..., 70, 69, 55]], dtype=uint8)"
       ]
      }
     ],
     "prompt_number": 4
    },
    {
     "cell_type": "code",
     "collapsed": false,
     "input": [
      "def getimdex(x,y):\n",
      "    return y*image.shape[0] + x"
     ],
     "language": "python",
     "metadata": {},
     "outputs": [],
     "prompt_number": 7
    },
    {
     "cell_type": "code",
     "collapsed": false,
     "input": [
      "a=image.reshape(1,-1)\n",
      "a[getimdex(0,0)]"
     ],
     "language": "python",
     "metadata": {},
     "outputs": [
      {
       "metadata": {},
       "output_type": "pyout",
       "prompt_number": 10,
       "text": [
        "array([44, 57, 65, ..., 70, 69, 55], dtype=uint8)"
       ]
      }
     ],
     "prompt_number": 10
    },
    {
     "cell_type": "code",
     "collapsed": false,
     "input": [
      "a[0, getimdex(0,0)].shape"
     ],
     "language": "python",
     "metadata": {},
     "outputs": [
      {
       "metadata": {},
       "output_type": "pyout",
       "prompt_number": 16,
       "text": [
        "()"
       ]
      }
     ],
     "prompt_number": 16
    },
    {
     "cell_type": "code",
     "collapsed": false,
     "input": [
      "image[10,0]"
     ],
     "language": "python",
     "metadata": {},
     "outputs": [
      {
       "metadata": {},
       "output_type": "pyout",
       "prompt_number": 8,
       "text": [
        "39"
       ]
      }
     ],
     "prompt_number": 8
    },
    {
     "cell_type": "code",
     "collapsed": false,
     "input": [
      "descriptors[getimdex(2,7)]"
     ],
     "language": "python",
     "metadata": {},
     "outputs": [
      {
       "metadata": {},
       "output_type": "pyout",
       "prompt_number": 16,
       "text": [
        "array([96], dtype=uint8)"
       ]
      }
     ],
     "prompt_number": 16
    },
    {
     "cell_type": "code",
     "collapsed": false,
     "input": [
      "figure(2)\n",
      "clf()\n",
      "imshow(image[0:10, 0:10])\n",
      "show()"
     ],
     "language": "python",
     "metadata": {},
     "outputs": [],
     "prompt_number": 14
    },
    {
     "cell_type": "code",
     "collapsed": false,
     "input": [
      "image[0:10, 0:10]"
     ],
     "language": "python",
     "metadata": {},
     "outputs": [
      {
       "metadata": {},
       "output_type": "pyout",
       "prompt_number": 15,
       "text": [
        "array([[44, 57, 65, 62, 65, 60, 46, 50, 62, 78],\n",
        "       [54, 46, 61, 69, 59, 52, 50, 51, 63, 68],\n",
        "       [59, 46, 49, 50, 51, 53, 55, 53, 46, 54],\n",
        "       [53, 54, 56, 55, 56, 58, 55, 48, 42, 38],\n",
        "       [46, 54, 52, 50, 52, 54, 50, 51, 62, 66],\n",
        "       [42, 43, 45, 45, 44, 42, 46, 59, 67, 74],\n",
        "       [33, 36, 54, 59, 65, 41, 42, 68, 81, 65],\n",
        "       [35, 58, 96, 82, 82, 58, 40, 79, 86, 68],\n",
        "       [38, 58, 64, 86, 74, 63, 40, 45, 62, 55],\n",
        "       [35, 52, 79, 84, 64, 59, 45, 46, 48, 46]], dtype=uint8)"
       ]
      }
     ],
     "prompt_number": 15
    },
    {
     "cell_type": "code",
     "collapsed": false,
     "input": [],
     "language": "python",
     "metadata": {},
     "outputs": []
    }
   ],
   "metadata": {}
  }
 ]
}